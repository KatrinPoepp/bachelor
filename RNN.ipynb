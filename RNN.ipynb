{
 "cells": [
  {
   "cell_type": "code",
   "execution_count": 1,
   "metadata": {
    "collapsed": true,
    "pycharm": {
     "name": "#%%\n"
    }
   },
   "outputs": [
    {
     "data": {
      "text/plain": "            Rainfall  Depth_to_Groundwater  Temperature  Drainage_Volume  \\\nDate                                                                       \n2009-01-01       0.0                -31.14          5.2       -24530.688   \n2009-01-02       0.0                -31.11          2.3       -28785.888   \n2009-01-03       0.0                -31.07          4.4       -25766.208   \n2009-01-04       0.0                -31.05          0.8       -27919.296   \n2009-01-05       0.0                -31.01         -1.9       -29854.656   \n\n            River_Hydrometry  \nDate                          \n2009-01-01               2.4  \n2009-01-02               2.5  \n2009-01-03               2.4  \n2009-01-04               2.4  \n2009-01-05               2.3  ",
      "text/html": "<div>\n<style scoped>\n    .dataframe tbody tr th:only-of-type {\n        vertical-align: middle;\n    }\n\n    .dataframe tbody tr th {\n        vertical-align: top;\n    }\n\n    .dataframe thead th {\n        text-align: right;\n    }\n</style>\n<table border=\"1\" class=\"dataframe\">\n  <thead>\n    <tr style=\"text-align: right;\">\n      <th></th>\n      <th>Rainfall</th>\n      <th>Depth_to_Groundwater</th>\n      <th>Temperature</th>\n      <th>Drainage_Volume</th>\n      <th>River_Hydrometry</th>\n    </tr>\n    <tr>\n      <th>Date</th>\n      <th></th>\n      <th></th>\n      <th></th>\n      <th></th>\n      <th></th>\n    </tr>\n  </thead>\n  <tbody>\n    <tr>\n      <th>2009-01-01</th>\n      <td>0.0</td>\n      <td>-31.14</td>\n      <td>5.2</td>\n      <td>-24530.688</td>\n      <td>2.4</td>\n    </tr>\n    <tr>\n      <th>2009-01-02</th>\n      <td>0.0</td>\n      <td>-31.11</td>\n      <td>2.3</td>\n      <td>-28785.888</td>\n      <td>2.5</td>\n    </tr>\n    <tr>\n      <th>2009-01-03</th>\n      <td>0.0</td>\n      <td>-31.07</td>\n      <td>4.4</td>\n      <td>-25766.208</td>\n      <td>2.4</td>\n    </tr>\n    <tr>\n      <th>2009-01-04</th>\n      <td>0.0</td>\n      <td>-31.05</td>\n      <td>0.8</td>\n      <td>-27919.296</td>\n      <td>2.4</td>\n    </tr>\n    <tr>\n      <th>2009-01-05</th>\n      <td>0.0</td>\n      <td>-31.01</td>\n      <td>-1.9</td>\n      <td>-29854.656</td>\n      <td>2.3</td>\n    </tr>\n  </tbody>\n</table>\n</div>"
     },
     "execution_count": 1,
     "metadata": {},
     "output_type": "execute_result"
    }
   ],
   "source": [
    "import numpy as np # linear algebra\n",
    "import pandas as pd # data processing, CSV file I/O (e.g. pd.read_csv)\n",
    "\n",
    "import tensorflow as tf\n",
    "import seaborn as sns # Visualization\n",
    "import matplotlib.pyplot as plt # Visualization\n",
    "from sklearn.metrics import mean_absolute_error, mean_squared_error\n",
    "import math\n",
    "\n",
    "import warnings # Supress warnings\n",
    "warnings.filterwarnings('ignore')\n",
    "\n",
    "df = pd.read_csv(\"./files/Aquifer_Petrignano.csv\")\n",
    "\n",
    "### Simplifications for the sake of the tutorial ###\n",
    "# Drop data before 2009 for the purpose of this tutorial\n",
    "df = df[df.Rainfall_Bastia_Umbra.notna()].reset_index(drop=True)\n",
    "# Drop one of the target columns, so we can focus on only one target\n",
    "df = df.drop(['Depth_to_Groundwater_P24', 'Temperature_Petrignano'], axis=1)\n",
    "\n",
    "# Simplify column names\n",
    "df.columns = ['Date', 'Rainfall', 'Depth_to_Groundwater', 'Temperature', 'Drainage_Volume', 'River_Hydrometry']\n",
    "\n",
    "targets = ['Depth_to_Groundwater']\n",
    "features = [feature for feature in df.columns if feature not in targets]\n",
    "from datetime import datetime, date\n",
    "df.index = pd.to_datetime(df.Date, format = '%d/%m/%Y', )\n",
    "df = df.drop(['Date'], axis=1)\n",
    "df.head()"
   ]
  },
  {
   "cell_type": "code",
   "execution_count": 2,
   "outputs": [],
   "source": [
    "df['Drainage_Volume'] = df['Drainage_Volume'].interpolate()\n",
    "df['River_Hydrometry'] = df['River_Hydrometry'].interpolate()\n",
    "df['Depth_to_Groundwater'] = df['Depth_to_Groundwater'].interpolate()"
   ],
   "metadata": {
    "collapsed": false,
    "pycharm": {
     "name": "#%%\n"
    }
   }
  },
  {
   "cell_type": "code",
   "execution_count": 3,
   "outputs": [],
   "source": [
    "depth = df['Depth_to_Groundwater']\n",
    "temp = df['Temperature']\n",
    "rain = df['Rainfall']\n",
    "drain = df['Drainage_Volume']\n",
    "hydro = df['River_Hydrometry']"
   ],
   "metadata": {
    "collapsed": false,
    "pycharm": {
     "name": "#%%\n"
    }
   }
  },
  {
   "cell_type": "code",
   "execution_count": 4,
   "outputs": [],
   "source": [
    "def df_to_X_y(df, window_size=5):\n",
    "    df_as_np = df.to_numpy()\n",
    "    X = []\n",
    "    y = []\n",
    "    for i in range(len(df_as_np)-window_size):\n",
    "        row = [[a] for a in df_as_np[i:i+window_size]]\n",
    "        X.append(row)\n",
    "        label = df_as_np[i+window_size]\n",
    "        y.append(label)\n",
    "    return np.array(X), np.array(y)"
   ],
   "metadata": {
    "collapsed": false,
    "pycharm": {
     "name": "#%%\n"
    }
   }
  },
  {
   "cell_type": "code",
   "execution_count": 5,
   "outputs": [
    {
     "data": {
      "text/plain": "((4194, 5, 1), (4194,))"
     },
     "execution_count": 5,
     "metadata": {},
     "output_type": "execute_result"
    }
   ],
   "source": [
    "WINDOW_SIZE = 5\n",
    "X1, y1 = df_to_X_y(depth, WINDOW_SIZE)\n",
    "X1.shape, y1.shape"
   ],
   "metadata": {
    "collapsed": false,
    "pycharm": {
     "name": "#%%\n"
    }
   }
  },
  {
   "cell_type": "code",
   "execution_count": 6,
   "outputs": [
    {
     "data": {
      "text/plain": "((2000, 5, 1), (2000,), (2000, 5, 1), (2000,), (194, 5, 1), (194,))"
     },
     "execution_count": 6,
     "metadata": {},
     "output_type": "execute_result"
    }
   ],
   "source": [
    "X_train1, y_train1 = X1[:2000], y1[:2000]\n",
    "X_val1, y_val1 = X1[2000:4000], y1[2000:4000]\n",
    "X_test1, y_test1 = X1[4000:], y1[4000:]\n",
    "X_train1.shape, y_train1.shape, X_val1.shape, y_val1.shape, X_test1.shape, y_test1.shape"
   ],
   "metadata": {
    "collapsed": false,
    "pycharm": {
     "name": "#%%\n"
    }
   }
  },
  {
   "cell_type": "code",
   "execution_count": 2,
   "outputs": [],
   "source": [],
   "metadata": {
    "collapsed": false,
    "pycharm": {
     "name": "#%%\n"
    }
   }
  },
  {
   "cell_type": "code",
   "execution_count": null,
   "outputs": [],
   "source": [
    "from keras.models import Sequential\n",
    "from keras.layers import *\n",
    "from keras.callbacks import ModelCheckpoint\n",
    "from keras.losses import MeanSquaredError\n",
    "from keras.metrics import RootMeanSquaredError\n",
    "from keras.optimizers import Adam\n",
    "\n",
    "model = Sequential()\n",
    "model.add(InputLayer((5, 1)))\n",
    "model.add(RNN(64, return_sequences=False))\n",
    "model.add(Dense(8, 'relu'))\n",
    "model.add(Dense(1, 'linear'))\n",
    "\n",
    "model.summary()"
   ],
   "metadata": {
    "collapsed": false,
    "pycharm": {
     "name": "#%%\n"
    }
   }
  }
 ],
 "metadata": {
  "kernelspec": {
   "display_name": "Python 3",
   "language": "python",
   "name": "python3"
  },
  "language_info": {
   "codemirror_mode": {
    "name": "ipython",
    "version": 2
   },
   "file_extension": ".py",
   "mimetype": "text/x-python",
   "name": "python",
   "nbconvert_exporter": "python",
   "pygments_lexer": "ipython2",
   "version": "2.7.6"
  }
 },
 "nbformat": 4,
 "nbformat_minor": 0
}