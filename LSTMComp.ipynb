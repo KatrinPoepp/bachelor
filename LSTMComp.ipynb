{
 "cells": [
  {
   "cell_type": "code",
   "execution_count": 24,
   "outputs": [
    {
     "data": {
      "text/plain": "            Rainfall  Depth_to_Groundwater  Temperature  Drainage_Volume  \\\nDate                                                                       \n2009-01-01       0.0              0.175907     0.242507         0.672018   \n2009-01-02       0.0              0.177960     0.163488         0.507291   \n2009-01-03       0.0              0.180698     0.220708         0.624189   \n2009-01-04       0.0              0.182067     0.122616         0.540839   \n2009-01-05       0.0              0.184805     0.049046         0.465917   \n...              ...                   ...          ...              ...   \n2020-06-26       0.0              0.591376     0.801090         0.462974   \n2020-06-27       0.0              0.588638     0.814714         0.408690   \n2020-06-28       0.0              0.583162     0.833787         0.378186   \n2020-06-29       0.0              0.583847     0.833787         0.436952   \n2020-06-30       0.0              0.579055     0.844687         0.387584   \n\n            River_Hydrometry  \nDate                          \n2009-01-01          0.260870  \n2009-01-02          0.304348  \n2009-01-03          0.260870  \n2009-01-04          0.260870  \n2009-01-05          0.217391  \n...                      ...  \n2020-06-26          0.304348  \n2020-06-27          0.260870  \n2020-06-28          0.260870  \n2020-06-29          0.260870  \n2020-06-30          0.260870  \n\n[4199 rows x 5 columns]",
      "text/html": "<div>\n<style scoped>\n    .dataframe tbody tr th:only-of-type {\n        vertical-align: middle;\n    }\n\n    .dataframe tbody tr th {\n        vertical-align: top;\n    }\n\n    .dataframe thead th {\n        text-align: right;\n    }\n</style>\n<table border=\"1\" class=\"dataframe\">\n  <thead>\n    <tr style=\"text-align: right;\">\n      <th></th>\n      <th>Rainfall</th>\n      <th>Depth_to_Groundwater</th>\n      <th>Temperature</th>\n      <th>Drainage_Volume</th>\n      <th>River_Hydrometry</th>\n    </tr>\n    <tr>\n      <th>Date</th>\n      <th></th>\n      <th></th>\n      <th></th>\n      <th></th>\n      <th></th>\n    </tr>\n  </thead>\n  <tbody>\n    <tr>\n      <th>2009-01-01</th>\n      <td>0.0</td>\n      <td>0.175907</td>\n      <td>0.242507</td>\n      <td>0.672018</td>\n      <td>0.260870</td>\n    </tr>\n    <tr>\n      <th>2009-01-02</th>\n      <td>0.0</td>\n      <td>0.177960</td>\n      <td>0.163488</td>\n      <td>0.507291</td>\n      <td>0.304348</td>\n    </tr>\n    <tr>\n      <th>2009-01-03</th>\n      <td>0.0</td>\n      <td>0.180698</td>\n      <td>0.220708</td>\n      <td>0.624189</td>\n      <td>0.260870</td>\n    </tr>\n    <tr>\n      <th>2009-01-04</th>\n      <td>0.0</td>\n      <td>0.182067</td>\n      <td>0.122616</td>\n      <td>0.540839</td>\n      <td>0.260870</td>\n    </tr>\n    <tr>\n      <th>2009-01-05</th>\n      <td>0.0</td>\n      <td>0.184805</td>\n      <td>0.049046</td>\n      <td>0.465917</td>\n      <td>0.217391</td>\n    </tr>\n    <tr>\n      <th>...</th>\n      <td>...</td>\n      <td>...</td>\n      <td>...</td>\n      <td>...</td>\n      <td>...</td>\n    </tr>\n    <tr>\n      <th>2020-06-26</th>\n      <td>0.0</td>\n      <td>0.591376</td>\n      <td>0.801090</td>\n      <td>0.462974</td>\n      <td>0.304348</td>\n    </tr>\n    <tr>\n      <th>2020-06-27</th>\n      <td>0.0</td>\n      <td>0.588638</td>\n      <td>0.814714</td>\n      <td>0.408690</td>\n      <td>0.260870</td>\n    </tr>\n    <tr>\n      <th>2020-06-28</th>\n      <td>0.0</td>\n      <td>0.583162</td>\n      <td>0.833787</td>\n      <td>0.378186</td>\n      <td>0.260870</td>\n    </tr>\n    <tr>\n      <th>2020-06-29</th>\n      <td>0.0</td>\n      <td>0.583847</td>\n      <td>0.833787</td>\n      <td>0.436952</td>\n      <td>0.260870</td>\n    </tr>\n    <tr>\n      <th>2020-06-30</th>\n      <td>0.0</td>\n      <td>0.579055</td>\n      <td>0.844687</td>\n      <td>0.387584</td>\n      <td>0.260870</td>\n    </tr>\n  </tbody>\n</table>\n<p>4199 rows × 5 columns</p>\n</div>"
     },
     "execution_count": 24,
     "metadata": {},
     "output_type": "execute_result"
    }
   ],
   "source": [
    "import numpy as np  # linear algebra\n",
    "import pandas as pd  # data processing, CSV file I/O (e.g. pd.read_csv)\n",
    "import tensorflow as tf\n",
    "import matplotlib.pyplot as plt  # Visualization\n",
    "import warnings  # Supress warnings\n",
    "import os\n",
    "import random\n",
    "\n",
    "warnings.filterwarnings('ignore')\n",
    "from keras.models import Sequential\n",
    "from keras.layers import *\n",
    "from keras.callbacks import ModelCheckpoint\n",
    "from keras.losses import MeanSquaredError\n",
    "from keras.metrics import RootMeanSquaredError\n",
    "from keras.optimizers import Adam\n",
    "from keras.models import load_model\n",
    "\n",
    "df = pd.read_csv(\"./files/scaled_data.csv\", index_col=0)\n",
    "df.index = pd.to_datetime(df.index, format='%Y-%m-%d')\n",
    "df"
   ],
   "metadata": {
    "collapsed": false,
    "pycharm": {
     "name": "#%%\n"
    }
   }
  },
  {
   "cell_type": "code",
   "execution_count": 25,
   "outputs": [
    {
     "data": {
      "text/plain": "Date\n2009-01-01    0.175907\n2009-01-02    0.177960\n2009-01-03    0.180698\n2009-01-04    0.182067\n2009-01-05    0.184805\n                ...   \n2020-06-26    0.591376\n2020-06-27    0.588638\n2020-06-28    0.583162\n2020-06-29    0.583847\n2020-06-30    0.579055\nName: Depth_to_Groundwater, Length: 4199, dtype: float64"
     },
     "execution_count": 25,
     "metadata": {},
     "output_type": "execute_result"
    }
   ],
   "source": [
    "uni = df['Depth_to_Groundwater']\n",
    "uni"
   ],
   "metadata": {
    "collapsed": false,
    "pycharm": {
     "name": "#%%\n"
    }
   }
  },
  {
   "cell_type": "code",
   "execution_count": 26,
   "outputs": [],
   "source": [
    "# params\n",
    "WINDOW_SIZE = 5\n"
   ],
   "metadata": {
    "collapsed": false,
    "pycharm": {
     "name": "#%%\n"
    }
   }
  },
  {
   "cell_type": "code",
   "execution_count": 27,
   "outputs": [
    {
     "name": "stdout",
     "output_type": "stream",
     "text": [
      "The tensorboard extension is already loaded. To reload it, use:\n",
      "  %reload_ext tensorboard\n"
     ]
    }
   ],
   "source": [
    "# Load the TensorBoard notebook extension\n",
    "%load_ext tensorboard"
   ],
   "metadata": {
    "collapsed": false,
    "pycharm": {
     "name": "#%%\n"
    }
   }
  },
  {
   "cell_type": "code",
   "execution_count": 28,
   "outputs": [],
   "source": [
    "from tensorboard.plugins.hparams import api as hp"
   ],
   "metadata": {
    "collapsed": false,
    "pycharm": {
     "name": "#%%\n"
    }
   }
  },
  {
   "cell_type": "code",
   "execution_count": 29,
   "outputs": [],
   "source": [
    "def df_to_X_y(df, window_size=5):\n",
    "    df_as_np = df.to_numpy()\n",
    "    X = []\n",
    "    y = []\n",
    "    for i in range(len(df_as_np)-window_size):\n",
    "        row = [[a] for a in df_as_np[i:i+window_size]]\n",
    "        X.append(row)\n",
    "        label = df_as_np[i+window_size]\n",
    "        y.append(label)\n",
    "    return np.array(X), np.array(y)"
   ],
   "metadata": {
    "collapsed": false,
    "pycharm": {
     "name": "#%%\n"
    }
   }
  },
  {
   "cell_type": "code",
   "execution_count": 30,
   "outputs": [
    {
     "data": {
      "text/plain": "((4194, 5, 1), (4194,))"
     },
     "execution_count": 30,
     "metadata": {},
     "output_type": "execute_result"
    }
   ],
   "source": [
    "X1, y1 = df_to_X_y(uni, WINDOW_SIZE)\n",
    "X1.shape, y1.shape"
   ],
   "metadata": {
    "collapsed": false,
    "pycharm": {
     "name": "#%%\n"
    }
   }
  },
  {
   "cell_type": "code",
   "execution_count": 31,
   "outputs": [
    {
     "data": {
      "text/plain": "((2000, 5, 1), (2000,), (2000, 5, 1), (2000,), (194, 5, 1), (194,))"
     },
     "execution_count": 31,
     "metadata": {},
     "output_type": "execute_result"
    }
   ],
   "source": [
    "X_train1, y_train1 = X1[:2000], y1[:2000]\n",
    "X_val1, y_val1 = X1[2000:4000], y1[2000:4000]\n",
    "X_test1, y_test1 = X1[4000:], y1[4000:]\n",
    "X_train1.shape, y_train1.shape, X_val1.shape, y_val1.shape, X_test1.shape, y_test1.shape"
   ],
   "metadata": {
    "collapsed": false,
    "pycharm": {
     "name": "#%%\n"
    }
   }
  },
  {
   "cell_type": "code",
   "execution_count": 32,
   "outputs": [],
   "source": [
    "HP_NUM_UNITS = hp.HParam('num_units', hp.Discrete([16, 32, 64]))\n",
    "HP_DROPOUT = hp.HParam('dropout', hp.RealInterval(0.1, 0.2))\n",
    "HP_OPTIMIZER = hp.HParam('optimizer', hp.Discrete(['adam', 'sgd' ,'nadam']))\n",
    "\n",
    "METRIC_RMSE = 'RootMeanSquaredError'\n",
    "\n",
    "logdir = 'logs/hparam_tuning'\n",
    "with tf.summary.create_file_writer(logdir).as_default():\n",
    "    hp.hparams_config(\n",
    "        hparams=[HP_NUM_UNITS, HP_DROPOUT, HP_OPTIMIZER],\n",
    "        metrics=[hp.Metric(METRIC_RMSE, display_name='RMSE')]\n",
    "    )\n"
   ],
   "metadata": {
    "collapsed": false,
    "pycharm": {
     "name": "#%%\n"
    }
   }
  },
  {
   "cell_type": "markdown",
   "source": [
    "num_units': 64, 'dropout': 0.1, 'optimizer': 'adam'"
   ],
   "metadata": {
    "collapsed": false,
    "pycharm": {
     "name": "#%% md\n"
    }
   }
  },
  {
   "cell_type": "code",
   "execution_count": 39,
   "outputs": [],
   "source": [
    "from keras.models import Sequential\n",
    "from keras.layers import *\n",
    "from keras.callbacks import ModelCheckpoint\n",
    "from keras.losses import MeanSquaredError\n",
    "from keras.metrics import RootMeanSquaredError\n",
    "from keras.optimizers import Adam\n",
    "\n",
    "def train_test_model(hparams):\n",
    "    model = Sequential()\n",
    "    model.add(InputLayer((5, 1)))\n",
    "    model.add(LSTM(hparams[HP_NUM_UNITS]))\n",
    "    tf.keras.layers.Dropout(hparams[HP_DROPOUT]),\n",
    "    model.add(Dense(8, 'relu'))\n",
    "    model.add(Dense(1, 'linear'))\n",
    "    model.compile(loss=MeanSquaredError(), optimizer=hparams[HP_OPTIMIZER], metrics=['RootMeanSquaredError'])\n",
    "    model.fit(X_train1, y_train1, validation_data=(X_val1, y_val1), epochs=10, callbacks=[\n",
    "        tf.keras.callbacks.TensorBoard(logdir),  # log metrics\n",
    "        hp.KerasCallback(logdir, hparams),  # log hparams\n",
    "    ])\n",
    "    _, rmse = model.evaluate(X_test1, y_test1)\n",
    "    return  rmse"
   ],
   "metadata": {
    "collapsed": false,
    "pycharm": {
     "name": "#%%\n"
    }
   }
  },
  {
   "cell_type": "code",
   "execution_count": 40,
   "outputs": [],
   "source": [
    "def run(run_dir, hparams):\n",
    "    with tf.summary.create_file_writer(run_dir).as_default():\n",
    "        hp.hparams(hparams)  # record the values used in this trial\n",
    "        rmse = train_test_model(hparams)\n",
    "        tf.summary.scalar(METRIC_RMSE, rmse, step=10)\n"
   ],
   "metadata": {
    "collapsed": false,
    "pycharm": {
     "name": "#%%\n"
    }
   }
  },
  {
   "cell_type": "code",
   "execution_count": 41,
   "outputs": [
    {
     "name": "stdout",
     "output_type": "stream",
     "text": [
      "--- Starting trial: run-0\n",
      "{'num_units': 32, 'dropout': 0.1, 'optimizer': 'adam'}\n",
      "Epoch 1/10\n",
      "63/63 [==============================] - 4s 16ms/step - loss: 0.0296 - root_mean_squared_error: 0.1721 - val_loss: 5.7164e-04 - val_root_mean_squared_error: 0.0239\n",
      "Epoch 2/10\n",
      "63/63 [==============================] - 0s 7ms/step - loss: 0.0012 - root_mean_squared_error: 0.0348 - val_loss: 5.5658e-05 - val_root_mean_squared_error: 0.0075\n",
      "Epoch 3/10\n",
      "63/63 [==============================] - 0s 7ms/step - loss: 2.6623e-04 - root_mean_squared_error: 0.0163 - val_loss: 1.0346e-04 - val_root_mean_squared_error: 0.0102\n",
      "Epoch 4/10\n",
      "63/63 [==============================] - 1s 8ms/step - loss: 2.0754e-04 - root_mean_squared_error: 0.0144 - val_loss: 9.6079e-05 - val_root_mean_squared_error: 0.0098\n",
      "Epoch 5/10\n",
      "63/63 [==============================] - 1s 10ms/step - loss: 1.7848e-04 - root_mean_squared_error: 0.0134 - val_loss: 9.4563e-05 - val_root_mean_squared_error: 0.0097\n",
      "Epoch 6/10\n",
      "63/63 [==============================] - 1s 10ms/step - loss: 1.5478e-04 - root_mean_squared_error: 0.0124 - val_loss: 8.1146e-05 - val_root_mean_squared_error: 0.0090\n",
      "Epoch 7/10\n",
      "63/63 [==============================] - 0s 7ms/step - loss: 1.3369e-04 - root_mean_squared_error: 0.0116 - val_loss: 7.0754e-05 - val_root_mean_squared_error: 0.0084\n",
      "Epoch 8/10\n",
      "63/63 [==============================] - 0s 7ms/step - loss: 1.1455e-04 - root_mean_squared_error: 0.0107 - val_loss: 8.3919e-05 - val_root_mean_squared_error: 0.0092\n",
      "Epoch 9/10\n",
      "63/63 [==============================] - 0s 7ms/step - loss: 1.0198e-04 - root_mean_squared_error: 0.0101 - val_loss: 6.0994e-05 - val_root_mean_squared_error: 0.0078\n",
      "Epoch 10/10\n",
      "63/63 [==============================] - 0s 7ms/step - loss: 8.9021e-05 - root_mean_squared_error: 0.0094 - val_loss: 5.2152e-05 - val_root_mean_squared_error: 0.0072\n",
      "7/7 [==============================] - 0s 2ms/step - loss: 4.4536e-05 - root_mean_squared_error: 0.0067\n",
      "--- Starting trial: run-1\n",
      "{'num_units': 32, 'dropout': 0.1, 'optimizer': 'nadam'}\n",
      "Epoch 1/10\n",
      "63/63 [==============================] - 5s 14ms/step - loss: 0.0369 - root_mean_squared_error: 0.1922 - val_loss: 9.2313e-04 - val_root_mean_squared_error: 0.0304\n",
      "Epoch 2/10\n",
      "63/63 [==============================] - 0s 6ms/step - loss: 9.7915e-04 - root_mean_squared_error: 0.0313 - val_loss: 4.9249e-05 - val_root_mean_squared_error: 0.0070\n",
      "Epoch 3/10\n",
      "63/63 [==============================] - 0s 6ms/step - loss: 6.9023e-05 - root_mean_squared_error: 0.0083 - val_loss: 5.6188e-05 - val_root_mean_squared_error: 0.0075\n",
      "Epoch 4/10\n",
      "63/63 [==============================] - 0s 6ms/step - loss: 6.4287e-05 - root_mean_squared_error: 0.0080 - val_loss: 5.2369e-05 - val_root_mean_squared_error: 0.0072\n",
      "Epoch 5/10\n",
      "63/63 [==============================] - 0s 7ms/step - loss: 6.3634e-05 - root_mean_squared_error: 0.0080 - val_loss: 5.4846e-05 - val_root_mean_squared_error: 0.0074\n",
      "Epoch 6/10\n",
      "63/63 [==============================] - 0s 7ms/step - loss: 6.3142e-05 - root_mean_squared_error: 0.0079 - val_loss: 4.7245e-05 - val_root_mean_squared_error: 0.0069\n",
      "Epoch 7/10\n",
      "63/63 [==============================] - 0s 7ms/step - loss: 6.3625e-05 - root_mean_squared_error: 0.0080 - val_loss: 4.6265e-05 - val_root_mean_squared_error: 0.0068\n",
      "Epoch 8/10\n",
      "63/63 [==============================] - 0s 7ms/step - loss: 6.3028e-05 - root_mean_squared_error: 0.0079 - val_loss: 5.9642e-05 - val_root_mean_squared_error: 0.0077\n",
      "Epoch 9/10\n",
      "63/63 [==============================] - 0s 7ms/step - loss: 6.3169e-05 - root_mean_squared_error: 0.0079 - val_loss: 4.7681e-05 - val_root_mean_squared_error: 0.0069\n",
      "Epoch 10/10\n",
      "63/63 [==============================] - 0s 7ms/step - loss: 6.2828e-05 - root_mean_squared_error: 0.0079 - val_loss: 4.5672e-05 - val_root_mean_squared_error: 0.0068\n",
      "7/7 [==============================] - 0s 2ms/step - loss: 3.5817e-05 - root_mean_squared_error: 0.0060\n",
      "--- Starting trial: run-2\n",
      "{'num_units': 32, 'dropout': 0.1, 'optimizer': 'sgd'}\n",
      "Epoch 1/10\n",
      "63/63 [==============================] - 4s 15ms/step - loss: 0.0778 - root_mean_squared_error: 0.2790 - val_loss: 0.0305 - val_root_mean_squared_error: 0.1745\n",
      "Epoch 2/10\n",
      "63/63 [==============================] - 0s 8ms/step - loss: 0.0318 - root_mean_squared_error: 0.1783 - val_loss: 0.0217 - val_root_mean_squared_error: 0.1473\n",
      "Epoch 3/10\n",
      "63/63 [==============================] - 0s 7ms/step - loss: 0.0262 - root_mean_squared_error: 0.1620 - val_loss: 0.0166 - val_root_mean_squared_error: 0.1287\n",
      "Epoch 4/10\n",
      "63/63 [==============================] - 1s 8ms/step - loss: 0.0212 - root_mean_squared_error: 0.1458 - val_loss: 0.0149 - val_root_mean_squared_error: 0.1219\n",
      "Epoch 5/10\n",
      "63/63 [==============================] - 0s 7ms/step - loss: 0.0181 - root_mean_squared_error: 0.1344 - val_loss: 0.0128 - val_root_mean_squared_error: 0.1133\n",
      "Epoch 6/10\n",
      "63/63 [==============================] - 0s 7ms/step - loss: 0.0152 - root_mean_squared_error: 0.1233 - val_loss: 0.0107 - val_root_mean_squared_error: 0.1033\n",
      "Epoch 7/10\n",
      "63/63 [==============================] - 0s 6ms/step - loss: 0.0126 - root_mean_squared_error: 0.1123 - val_loss: 0.0079 - val_root_mean_squared_error: 0.0889\n",
      "Epoch 8/10\n",
      "63/63 [==============================] - 0s 7ms/step - loss: 0.0103 - root_mean_squared_error: 0.1015 - val_loss: 0.0066 - val_root_mean_squared_error: 0.0813\n",
      "Epoch 9/10\n",
      "63/63 [==============================] - 1s 10ms/step - loss: 0.0083 - root_mean_squared_error: 0.0909 - val_loss: 0.0054 - val_root_mean_squared_error: 0.0732\n",
      "Epoch 10/10\n",
      "63/63 [==============================] - 1s 8ms/step - loss: 0.0065 - root_mean_squared_error: 0.0808 - val_loss: 0.0038 - val_root_mean_squared_error: 0.0617\n",
      "7/7 [==============================] - 0s 2ms/step - loss: 3.2296e-04 - root_mean_squared_error: 0.0180\n",
      "--- Starting trial: run-3\n",
      "{'num_units': 32, 'dropout': 0.2, 'optimizer': 'adam'}\n",
      "Epoch 1/10\n",
      "63/63 [==============================] - 3s 16ms/step - loss: 0.0790 - root_mean_squared_error: 0.2811 - val_loss: 0.0017 - val_root_mean_squared_error: 0.0411\n",
      "Epoch 2/10\n",
      "63/63 [==============================] - 0s 7ms/step - loss: 0.0034 - root_mean_squared_error: 0.0587 - val_loss: 3.0615e-04 - val_root_mean_squared_error: 0.0175\n",
      "Epoch 3/10\n",
      "63/63 [==============================] - 0s 6ms/step - loss: 9.4385e-04 - root_mean_squared_error: 0.0307 - val_loss: 9.3351e-05 - val_root_mean_squared_error: 0.0097\n",
      "Epoch 4/10\n",
      "63/63 [==============================] - 0s 7ms/step - loss: 3.6552e-04 - root_mean_squared_error: 0.0191 - val_loss: 1.2416e-04 - val_root_mean_squared_error: 0.0111\n",
      "Epoch 5/10\n",
      "63/63 [==============================] - 0s 7ms/step - loss: 1.5218e-04 - root_mean_squared_error: 0.0123 - val_loss: 9.5935e-05 - val_root_mean_squared_error: 0.0098\n",
      "Epoch 6/10\n",
      "63/63 [==============================] - 0s 7ms/step - loss: 9.3541e-05 - root_mean_squared_error: 0.0097 - val_loss: 6.5230e-05 - val_root_mean_squared_error: 0.0081\n",
      "Epoch 7/10\n",
      "63/63 [==============================] - 0s 7ms/step - loss: 8.2242e-05 - root_mean_squared_error: 0.0091 - val_loss: 5.8453e-05 - val_root_mean_squared_error: 0.0076\n",
      "Epoch 8/10\n",
      "63/63 [==============================] - 0s 8ms/step - loss: 7.8455e-05 - root_mean_squared_error: 0.0089 - val_loss: 6.4086e-05 - val_root_mean_squared_error: 0.0080\n",
      "Epoch 9/10\n",
      "63/63 [==============================] - 1s 10ms/step - loss: 7.8263e-05 - root_mean_squared_error: 0.0088 - val_loss: 5.4680e-05 - val_root_mean_squared_error: 0.0074\n",
      "Epoch 10/10\n",
      "63/63 [==============================] - 0s 7ms/step - loss: 7.6965e-05 - root_mean_squared_error: 0.0088 - val_loss: 5.5606e-05 - val_root_mean_squared_error: 0.0075\n",
      "7/7 [==============================] - 0s 2ms/step - loss: 3.9747e-05 - root_mean_squared_error: 0.0063\n",
      "--- Starting trial: run-4\n",
      "{'num_units': 32, 'dropout': 0.2, 'optimizer': 'nadam'}\n",
      "Epoch 1/10\n",
      "63/63 [==============================] - 4s 12ms/step - loss: 0.1079 - root_mean_squared_error: 0.3284 - val_loss: 0.0018 - val_root_mean_squared_error: 0.0422\n",
      "Epoch 2/10\n",
      "63/63 [==============================] - 0s 6ms/step - loss: 0.0047 - root_mean_squared_error: 0.0682 - val_loss: 5.6642e-04 - val_root_mean_squared_error: 0.0238\n",
      "Epoch 3/10\n",
      "63/63 [==============================] - 0s 6ms/step - loss: 0.0014 - root_mean_squared_error: 0.0373 - val_loss: 7.8601e-05 - val_root_mean_squared_error: 0.0089\n",
      "Epoch 4/10\n",
      "63/63 [==============================] - 0s 6ms/step - loss: 5.3876e-04 - root_mean_squared_error: 0.0232 - val_loss: 1.3342e-04 - val_root_mean_squared_error: 0.0116\n",
      "Epoch 5/10\n",
      "63/63 [==============================] - 0s 6ms/step - loss: 4.0992e-04 - root_mean_squared_error: 0.0202 - val_loss: 1.5899e-04 - val_root_mean_squared_error: 0.0126\n",
      "Epoch 6/10\n",
      "63/63 [==============================] - 0s 5ms/step - loss: 3.6112e-04 - root_mean_squared_error: 0.0190 - val_loss: 1.4716e-04 - val_root_mean_squared_error: 0.0121\n",
      "Epoch 7/10\n",
      "63/63 [==============================] - 0s 6ms/step - loss: 3.1665e-04 - root_mean_squared_error: 0.0178 - val_loss: 1.3171e-04 - val_root_mean_squared_error: 0.0115\n",
      "Epoch 8/10\n",
      "63/63 [==============================] - 0s 6ms/step - loss: 2.7468e-04 - root_mean_squared_error: 0.0166 - val_loss: 1.1943e-04 - val_root_mean_squared_error: 0.0109\n",
      "Epoch 9/10\n",
      "63/63 [==============================] - 0s 6ms/step - loss: 2.3727e-04 - root_mean_squared_error: 0.0154 - val_loss: 9.8709e-05 - val_root_mean_squared_error: 0.0099\n",
      "Epoch 10/10\n",
      "63/63 [==============================] - 0s 8ms/step - loss: 2.0266e-04 - root_mean_squared_error: 0.0142 - val_loss: 8.6799e-05 - val_root_mean_squared_error: 0.0093\n",
      "7/7 [==============================] - 0s 2ms/step - loss: 8.2610e-05 - root_mean_squared_error: 0.0091\n",
      "--- Starting trial: run-5\n",
      "{'num_units': 32, 'dropout': 0.2, 'optimizer': 'sgd'}\n",
      "Epoch 1/10\n",
      "63/63 [==============================] - 3s 15ms/step - loss: 0.1132 - root_mean_squared_error: 0.3364 - val_loss: 0.0530 - val_root_mean_squared_error: 0.2302\n",
      "Epoch 2/10\n",
      "63/63 [==============================] - 0s 7ms/step - loss: 0.0443 - root_mean_squared_error: 0.2106 - val_loss: 0.0322 - val_root_mean_squared_error: 0.1795\n",
      "Epoch 3/10\n",
      "63/63 [==============================] - 0s 7ms/step - loss: 0.0411 - root_mean_squared_error: 0.2028 - val_loss: 0.0278 - val_root_mean_squared_error: 0.1668\n",
      "Epoch 4/10\n",
      "63/63 [==============================] - 0s 7ms/step - loss: 0.0390 - root_mean_squared_error: 0.1975 - val_loss: 0.0275 - val_root_mean_squared_error: 0.1659\n",
      "Epoch 5/10\n",
      "63/63 [==============================] - 0s 7ms/step - loss: 0.0368 - root_mean_squared_error: 0.1919 - val_loss: 0.0267 - val_root_mean_squared_error: 0.1633\n",
      "Epoch 6/10\n",
      "63/63 [==============================] - 0s 6ms/step - loss: 0.0345 - root_mean_squared_error: 0.1859 - val_loss: 0.0247 - val_root_mean_squared_error: 0.1571\n",
      "Epoch 7/10\n",
      "63/63 [==============================] - 0s 6ms/step - loss: 0.0322 - root_mean_squared_error: 0.1795 - val_loss: 0.0213 - val_root_mean_squared_error: 0.1460\n",
      "Epoch 8/10\n",
      "63/63 [==============================] - 0s 6ms/step - loss: 0.0298 - root_mean_squared_error: 0.1727 - val_loss: 0.0199 - val_root_mean_squared_error: 0.1411\n",
      "Epoch 9/10\n",
      "63/63 [==============================] - 0s 7ms/step - loss: 0.0274 - root_mean_squared_error: 0.1655 - val_loss: 0.0184 - val_root_mean_squared_error: 0.1357\n",
      "Epoch 10/10\n",
      "63/63 [==============================] - 0s 8ms/step - loss: 0.0249 - root_mean_squared_error: 0.1578 - val_loss: 0.0156 - val_root_mean_squared_error: 0.1248\n",
      "7/7 [==============================] - 0s 3ms/step - loss: 0.0018 - root_mean_squared_error: 0.0423\n",
      "--- Starting trial: run-6\n",
      "{'num_units': 64, 'dropout': 0.1, 'optimizer': 'adam'}\n",
      "Epoch 1/10\n",
      "63/63 [==============================] - 3s 12ms/step - loss: 0.0534 - root_mean_squared_error: 0.2312 - val_loss: 6.4955e-04 - val_root_mean_squared_error: 0.0255\n",
      "Epoch 2/10\n",
      "63/63 [==============================] - 1s 9ms/step - loss: 0.0012 - root_mean_squared_error: 0.0349 - val_loss: 5.6432e-05 - val_root_mean_squared_error: 0.0075\n",
      "Epoch 3/10\n",
      "63/63 [==============================] - 0s 7ms/step - loss: 2.2379e-04 - root_mean_squared_error: 0.0150 - val_loss: 9.0460e-05 - val_root_mean_squared_error: 0.0095\n",
      "Epoch 4/10\n",
      "63/63 [==============================] - 0s 6ms/step - loss: 1.4541e-04 - root_mean_squared_error: 0.0121 - val_loss: 7.8737e-05 - val_root_mean_squared_error: 0.0089\n",
      "Epoch 5/10\n",
      "63/63 [==============================] - 0s 7ms/step - loss: 9.9313e-05 - root_mean_squared_error: 0.0100 - val_loss: 6.9809e-05 - val_root_mean_squared_error: 0.0084\n",
      "Epoch 6/10\n",
      "63/63 [==============================] - 0s 8ms/step - loss: 7.8001e-05 - root_mean_squared_error: 0.0088 - val_loss: 5.5206e-05 - val_root_mean_squared_error: 0.0074\n",
      "Epoch 7/10\n",
      "63/63 [==============================] - 1s 8ms/step - loss: 7.2197e-05 - root_mean_squared_error: 0.0085 - val_loss: 5.8519e-05 - val_root_mean_squared_error: 0.0076\n",
      "Epoch 8/10\n",
      "63/63 [==============================] - 0s 8ms/step - loss: 6.9597e-05 - root_mean_squared_error: 0.0083 - val_loss: 6.6803e-05 - val_root_mean_squared_error: 0.0082\n",
      "Epoch 9/10\n",
      "63/63 [==============================] - 1s 9ms/step - loss: 6.9608e-05 - root_mean_squared_error: 0.0083 - val_loss: 5.2518e-05 - val_root_mean_squared_error: 0.0072\n",
      "Epoch 10/10\n",
      "63/63 [==============================] - 1s 10ms/step - loss: 6.7512e-05 - root_mean_squared_error: 0.0082 - val_loss: 4.9087e-05 - val_root_mean_squared_error: 0.0070\n",
      "7/7 [==============================] - 0s 3ms/step - loss: 4.1664e-05 - root_mean_squared_error: 0.0065\n",
      "--- Starting trial: run-7\n",
      "{'num_units': 64, 'dropout': 0.1, 'optimizer': 'nadam'}\n",
      "Epoch 1/10\n",
      "63/63 [==============================] - 4s 16ms/step - loss: 0.0867 - root_mean_squared_error: 0.2945 - val_loss: 3.4437e-04 - val_root_mean_squared_error: 0.0186\n",
      "Epoch 2/10\n",
      "63/63 [==============================] - 1s 8ms/step - loss: 7.8146e-04 - root_mean_squared_error: 0.0280 - val_loss: 1.7686e-04 - val_root_mean_squared_error: 0.0133\n",
      "Epoch 3/10\n",
      "63/63 [==============================] - 0s 8ms/step - loss: 3.5944e-04 - root_mean_squared_error: 0.0190 - val_loss: 1.6671e-04 - val_root_mean_squared_error: 0.0129\n",
      "Epoch 4/10\n",
      "63/63 [==============================] - 0s 7ms/step - loss: 2.8000e-04 - root_mean_squared_error: 0.0167 - val_loss: 1.0833e-04 - val_root_mean_squared_error: 0.0104\n",
      "Epoch 5/10\n",
      "63/63 [==============================] - 0s 8ms/step - loss: 2.0899e-04 - root_mean_squared_error: 0.0145 - val_loss: 1.0554e-04 - val_root_mean_squared_error: 0.0103\n",
      "Epoch 6/10\n",
      "63/63 [==============================] - 0s 7ms/step - loss: 1.5370e-04 - root_mean_squared_error: 0.0124 - val_loss: 8.0418e-05 - val_root_mean_squared_error: 0.0090\n",
      "Epoch 7/10\n",
      "63/63 [==============================] - 0s 8ms/step - loss: 1.1849e-04 - root_mean_squared_error: 0.0109 - val_loss: 6.1643e-05 - val_root_mean_squared_error: 0.0079\n",
      "Epoch 8/10\n",
      "63/63 [==============================] - 1s 9ms/step - loss: 9.6361e-05 - root_mean_squared_error: 0.0098 - val_loss: 8.6116e-05 - val_root_mean_squared_error: 0.0093\n",
      "Epoch 9/10\n",
      "63/63 [==============================] - 0s 8ms/step - loss: 8.4932e-05 - root_mean_squared_error: 0.0092 - val_loss: 5.5677e-05 - val_root_mean_squared_error: 0.0075\n",
      "Epoch 10/10\n",
      "63/63 [==============================] - 0s 7ms/step - loss: 8.0964e-05 - root_mean_squared_error: 0.0090 - val_loss: 5.3809e-05 - val_root_mean_squared_error: 0.0073\n",
      "7/7 [==============================] - 0s 2ms/step - loss: 4.4653e-05 - root_mean_squared_error: 0.0067\n",
      "--- Starting trial: run-8\n",
      "{'num_units': 64, 'dropout': 0.1, 'optimizer': 'sgd'}\n",
      "Epoch 1/10\n",
      "63/63 [==============================] - 3s 15ms/step - loss: 0.1031 - root_mean_squared_error: 0.3211 - val_loss: 0.0474 - val_root_mean_squared_error: 0.2177\n",
      "Epoch 2/10\n",
      "63/63 [==============================] - 1s 9ms/step - loss: 0.0347 - root_mean_squared_error: 0.1863 - val_loss: 0.0239 - val_root_mean_squared_error: 0.1546\n",
      "Epoch 3/10\n",
      "63/63 [==============================] - 1s 12ms/step - loss: 0.0273 - root_mean_squared_error: 0.1652 - val_loss: 0.0174 - val_root_mean_squared_error: 0.1318\n",
      "Epoch 4/10\n",
      "63/63 [==============================] - 1s 9ms/step - loss: 0.0229 - root_mean_squared_error: 0.1514 - val_loss: 0.0164 - val_root_mean_squared_error: 0.1280\n",
      "Epoch 5/10\n",
      "63/63 [==============================] - 0s 8ms/step - loss: 0.0190 - root_mean_squared_error: 0.1379 - val_loss: 0.0133 - val_root_mean_squared_error: 0.1154\n",
      "Epoch 6/10\n",
      "63/63 [==============================] - 1s 8ms/step - loss: 0.0155 - root_mean_squared_error: 0.1246 - val_loss: 0.0107 - val_root_mean_squared_error: 0.1035\n",
      "Epoch 7/10\n",
      "63/63 [==============================] - 1s 9ms/step - loss: 0.0125 - root_mean_squared_error: 0.1116 - val_loss: 0.0077 - val_root_mean_squared_error: 0.0875\n",
      "Epoch 8/10\n",
      "63/63 [==============================] - 1s 8ms/step - loss: 0.0098 - root_mean_squared_error: 0.0992 - val_loss: 0.0061 - val_root_mean_squared_error: 0.0784\n",
      "Epoch 9/10\n",
      "63/63 [==============================] - 1s 10ms/step - loss: 0.0076 - root_mean_squared_error: 0.0873 - val_loss: 0.0048 - val_root_mean_squared_error: 0.0692\n",
      "Epoch 10/10\n",
      "63/63 [==============================] - 1s 9ms/step - loss: 0.0058 - root_mean_squared_error: 0.0761 - val_loss: 0.0032 - val_root_mean_squared_error: 0.0565\n",
      "7/7 [==============================] - 0s 2ms/step - loss: 3.9516e-04 - root_mean_squared_error: 0.0199\n",
      "--- Starting trial: run-9\n",
      "{'num_units': 64, 'dropout': 0.2, 'optimizer': 'adam'}\n",
      "Epoch 1/10\n",
      "63/63 [==============================] - 6s 22ms/step - loss: 0.0621 - root_mean_squared_error: 0.2493 - val_loss: 0.0011 - val_root_mean_squared_error: 0.0332\n",
      "Epoch 2/10\n",
      "63/63 [==============================] - 0s 8ms/step - loss: 0.0018 - root_mean_squared_error: 0.0425 - val_loss: 7.2416e-05 - val_root_mean_squared_error: 0.0085\n",
      "Epoch 3/10\n",
      "63/63 [==============================] - 0s 6ms/step - loss: 4.0280e-04 - root_mean_squared_error: 0.0201 - val_loss: 1.4700e-04 - val_root_mean_squared_error: 0.0121\n",
      "Epoch 4/10\n",
      "63/63 [==============================] - 0s 6ms/step - loss: 3.0933e-04 - root_mean_squared_error: 0.0176 - val_loss: 1.3621e-04 - val_root_mean_squared_error: 0.0117\n",
      "Epoch 5/10\n",
      "63/63 [==============================] - 0s 7ms/step - loss: 2.5636e-04 - root_mean_squared_error: 0.0160 - val_loss: 1.2416e-04 - val_root_mean_squared_error: 0.0111\n",
      "Epoch 6/10\n",
      "63/63 [==============================] - 0s 7ms/step - loss: 2.1412e-04 - root_mean_squared_error: 0.0146 - val_loss: 1.1182e-04 - val_root_mean_squared_error: 0.0106\n",
      "Epoch 7/10\n",
      "63/63 [==============================] - 0s 6ms/step - loss: 1.7750e-04 - root_mean_squared_error: 0.0133 - val_loss: 1.0147e-04 - val_root_mean_squared_error: 0.0101\n",
      "Epoch 8/10\n",
      "63/63 [==============================] - 0s 6ms/step - loss: 1.4515e-04 - root_mean_squared_error: 0.0120 - val_loss: 1.0464e-04 - val_root_mean_squared_error: 0.0102\n",
      "Epoch 9/10\n",
      "63/63 [==============================] - 0s 7ms/step - loss: 1.2533e-04 - root_mean_squared_error: 0.0112 - val_loss: 7.7946e-05 - val_root_mean_squared_error: 0.0088\n",
      "Epoch 10/10\n",
      "63/63 [==============================] - 0s 7ms/step - loss: 1.0362e-04 - root_mean_squared_error: 0.0102 - val_loss: 6.1321e-05 - val_root_mean_squared_error: 0.0078\n",
      "7/7 [==============================] - 0s 3ms/step - loss: 4.9564e-05 - root_mean_squared_error: 0.0070\n",
      "--- Starting trial: run-10\n",
      "{'num_units': 64, 'dropout': 0.2, 'optimizer': 'nadam'}\n",
      "Epoch 1/10\n",
      "63/63 [==============================] - 5s 16ms/step - loss: 0.0633 - root_mean_squared_error: 0.2516 - val_loss: 6.9017e-04 - val_root_mean_squared_error: 0.0263\n",
      "Epoch 2/10\n",
      "63/63 [==============================] - 1s 8ms/step - loss: 0.0013 - root_mean_squared_error: 0.0360 - val_loss: 9.6457e-05 - val_root_mean_squared_error: 0.0098\n",
      "Epoch 3/10\n",
      "63/63 [==============================] - 1s 11ms/step - loss: 1.7428e-04 - root_mean_squared_error: 0.0132 - val_loss: 9.2288e-05 - val_root_mean_squared_error: 0.0096\n",
      "Epoch 4/10\n",
      "63/63 [==============================] - 1s 9ms/step - loss: 9.9067e-05 - root_mean_squared_error: 0.0100 - val_loss: 7.2346e-05 - val_root_mean_squared_error: 0.0085\n",
      "Epoch 5/10\n",
      "63/63 [==============================] - 0s 8ms/step - loss: 8.8366e-05 - root_mean_squared_error: 0.0094 - val_loss: 6.5331e-05 - val_root_mean_squared_error: 0.0081\n",
      "Epoch 6/10\n",
      "63/63 [==============================] - 0s 8ms/step - loss: 8.4063e-05 - root_mean_squared_error: 0.0092 - val_loss: 5.9851e-05 - val_root_mean_squared_error: 0.0077\n",
      "Epoch 7/10\n",
      "63/63 [==============================] - 0s 8ms/step - loss: 8.3960e-05 - root_mean_squared_error: 0.0092 - val_loss: 6.0672e-05 - val_root_mean_squared_error: 0.0078\n",
      "Epoch 8/10\n",
      "63/63 [==============================] - 0s 8ms/step - loss: 8.2262e-05 - root_mean_squared_error: 0.0091 - val_loss: 7.4177e-05 - val_root_mean_squared_error: 0.0086\n",
      "Epoch 9/10\n",
      "63/63 [==============================] - 1s 9ms/step - loss: 8.2674e-05 - root_mean_squared_error: 0.0091 - val_loss: 6.2948e-05 - val_root_mean_squared_error: 0.0079\n",
      "Epoch 10/10\n",
      "63/63 [==============================] - 1s 11ms/step - loss: 8.2261e-05 - root_mean_squared_error: 0.0091 - val_loss: 5.8884e-05 - val_root_mean_squared_error: 0.0077\n",
      "7/7 [==============================] - 0s 3ms/step - loss: 4.1908e-05 - root_mean_squared_error: 0.0065\n",
      "--- Starting trial: run-11\n",
      "{'num_units': 64, 'dropout': 0.2, 'optimizer': 'sgd'}\n",
      "Epoch 1/10\n",
      "63/63 [==============================] - 5s 13ms/step - loss: 0.1337 - root_mean_squared_error: 0.3656 - val_loss: 0.0751 - val_root_mean_squared_error: 0.2741\n",
      "Epoch 2/10\n",
      "63/63 [==============================] - 0s 7ms/step - loss: 0.0517 - root_mean_squared_error: 0.2274 - val_loss: 0.0403 - val_root_mean_squared_error: 0.2008\n",
      "Epoch 3/10\n",
      "63/63 [==============================] - 0s 7ms/step - loss: 0.0466 - root_mean_squared_error: 0.2159 - val_loss: 0.0333 - val_root_mean_squared_error: 0.1825\n",
      "Epoch 4/10\n",
      "63/63 [==============================] - 1s 9ms/step - loss: 0.0435 - root_mean_squared_error: 0.2085 - val_loss: 0.0325 - val_root_mean_squared_error: 0.1803\n",
      "Epoch 5/10\n",
      "63/63 [==============================] - 1s 10ms/step - loss: 0.0404 - root_mean_squared_error: 0.2010 - val_loss: 0.0303 - val_root_mean_squared_error: 0.1740\n",
      "Epoch 6/10\n",
      "63/63 [==============================] - 1s 11ms/step - loss: 0.0373 - root_mean_squared_error: 0.1931 - val_loss: 0.0278 - val_root_mean_squared_error: 0.1669\n",
      "Epoch 7/10\n",
      "63/63 [==============================] - 1s 8ms/step - loss: 0.0342 - root_mean_squared_error: 0.1849 - val_loss: 0.0238 - val_root_mean_squared_error: 0.1541\n",
      "Epoch 8/10\n",
      "63/63 [==============================] - 0s 8ms/step - loss: 0.0311 - root_mean_squared_error: 0.1763 - val_loss: 0.0219 - val_root_mean_squared_error: 0.1479\n",
      "Epoch 9/10\n",
      "63/63 [==============================] - 1s 8ms/step - loss: 0.0279 - root_mean_squared_error: 0.1669 - val_loss: 0.0198 - val_root_mean_squared_error: 0.1406\n",
      "Epoch 10/10\n",
      "63/63 [==============================] - 1s 8ms/step - loss: 0.0226 - root_mean_squared_error: 0.1504 - val_loss: 0.0144 - val_root_mean_squared_error: 0.1201\n",
      "7/7 [==============================] - 0s 2ms/step - loss: 0.0021 - root_mean_squared_error: 0.0457\n",
      "--- Starting trial: run-12\n",
      "{'num_units': 128, 'dropout': 0.1, 'optimizer': 'adam'}\n",
      "Epoch 1/10\n",
      "63/63 [==============================] - 5s 22ms/step - loss: 0.0391 - root_mean_squared_error: 0.1978 - val_loss: 3.0753e-04 - val_root_mean_squared_error: 0.0175\n",
      "Epoch 2/10\n",
      "63/63 [==============================] - 1s 10ms/step - loss: 2.1697e-04 - root_mean_squared_error: 0.0147 - val_loss: 1.0086e-04 - val_root_mean_squared_error: 0.0100\n",
      "Epoch 3/10\n",
      "63/63 [==============================] - 1s 9ms/step - loss: 1.5811e-04 - root_mean_squared_error: 0.0126 - val_loss: 9.9908e-05 - val_root_mean_squared_error: 0.0100\n",
      "Epoch 4/10\n",
      "63/63 [==============================] - 1s 9ms/step - loss: 1.2499e-04 - root_mean_squared_error: 0.0112 - val_loss: 7.4406e-05 - val_root_mean_squared_error: 0.0086\n",
      "Epoch 5/10\n",
      "63/63 [==============================] - 1s 10ms/step - loss: 1.0417e-04 - root_mean_squared_error: 0.0102 - val_loss: 7.4278e-05 - val_root_mean_squared_error: 0.0086\n",
      "Epoch 6/10\n",
      "63/63 [==============================] - 0s 8ms/step - loss: 8.8772e-05 - root_mean_squared_error: 0.0094 - val_loss: 5.8999e-05 - val_root_mean_squared_error: 0.0077\n",
      "Epoch 7/10\n",
      "63/63 [==============================] - 1s 12ms/step - loss: 8.7969e-05 - root_mean_squared_error: 0.0094 - val_loss: 5.4359e-05 - val_root_mean_squared_error: 0.0074\n",
      "Epoch 8/10\n",
      "63/63 [==============================] - 1s 11ms/step - loss: 8.1024e-05 - root_mean_squared_error: 0.0090 - val_loss: 1.6288e-04 - val_root_mean_squared_error: 0.0128\n",
      "Epoch 9/10\n",
      "63/63 [==============================] - 1s 8ms/step - loss: 8.0010e-05 - root_mean_squared_error: 0.0089 - val_loss: 6.5290e-05 - val_root_mean_squared_error: 0.0081\n",
      "Epoch 10/10\n",
      "63/63 [==============================] - 0s 8ms/step - loss: 7.8967e-05 - root_mean_squared_error: 0.0089 - val_loss: 5.3047e-05 - val_root_mean_squared_error: 0.0073\n",
      "7/7 [==============================] - 0s 2ms/step - loss: 4.2733e-05 - root_mean_squared_error: 0.0065\n",
      "--- Starting trial: run-13\n",
      "{'num_units': 128, 'dropout': 0.1, 'optimizer': 'nadam'}\n",
      "Epoch 1/10\n",
      "63/63 [==============================] - 6s 16ms/step - loss: 0.0374 - root_mean_squared_error: 0.1934 - val_loss: 1.7422e-04 - val_root_mean_squared_error: 0.0132\n",
      "Epoch 2/10\n",
      "63/63 [==============================] - 1s 9ms/step - loss: 3.1028e-04 - root_mean_squared_error: 0.0176 - val_loss: 9.1075e-05 - val_root_mean_squared_error: 0.0095\n",
      "Epoch 3/10\n",
      "63/63 [==============================] - 1s 9ms/step - loss: 1.6045e-04 - root_mean_squared_error: 0.0127 - val_loss: 9.8590e-05 - val_root_mean_squared_error: 0.0099\n",
      "Epoch 4/10\n",
      "63/63 [==============================] - 1s 12ms/step - loss: 1.3668e-04 - root_mean_squared_error: 0.0117 - val_loss: 7.8956e-05 - val_root_mean_squared_error: 0.0089\n",
      "Epoch 5/10\n",
      "63/63 [==============================] - 1s 10ms/step - loss: 1.1509e-04 - root_mean_squared_error: 0.0107 - val_loss: 7.4850e-05 - val_root_mean_squared_error: 0.0087\n",
      "Epoch 6/10\n",
      "63/63 [==============================] - 1s 9ms/step - loss: 9.8245e-05 - root_mean_squared_error: 0.0099 - val_loss: 6.5098e-05 - val_root_mean_squared_error: 0.0081\n",
      "Epoch 7/10\n",
      "63/63 [==============================] - 1s 9ms/step - loss: 8.8287e-05 - root_mean_squared_error: 0.0094 - val_loss: 5.7062e-05 - val_root_mean_squared_error: 0.0076\n",
      "Epoch 8/10\n",
      "63/63 [==============================] - 1s 9ms/step - loss: 8.0235e-05 - root_mean_squared_error: 0.0090 - val_loss: 7.6699e-05 - val_root_mean_squared_error: 0.0088\n",
      "Epoch 9/10\n",
      "63/63 [==============================] - 1s 9ms/step - loss: 7.6676e-05 - root_mean_squared_error: 0.0088 - val_loss: 5.8619e-05 - val_root_mean_squared_error: 0.0077\n",
      "Epoch 10/10\n",
      "63/63 [==============================] - 0s 8ms/step - loss: 7.4462e-05 - root_mean_squared_error: 0.0086 - val_loss: 5.4322e-05 - val_root_mean_squared_error: 0.0074\n",
      "7/7 [==============================] - 0s 2ms/step - loss: 4.7605e-05 - root_mean_squared_error: 0.0069\n",
      "--- Starting trial: run-14\n",
      "{'num_units': 128, 'dropout': 0.1, 'optimizer': 'sgd'}\n",
      "Epoch 1/10\n",
      "63/63 [==============================] - 4s 19ms/step - loss: 0.0956 - root_mean_squared_error: 0.3093 - val_loss: 0.0405 - val_root_mean_squared_error: 0.2013\n",
      "Epoch 2/10\n",
      "63/63 [==============================] - 1s 9ms/step - loss: 0.0376 - root_mean_squared_error: 0.1939 - val_loss: 0.0259 - val_root_mean_squared_error: 0.1610\n",
      "Epoch 3/10\n",
      "63/63 [==============================] - 1s 10ms/step - loss: 0.0336 - root_mean_squared_error: 0.1834 - val_loss: 0.0216 - val_root_mean_squared_error: 0.1469\n",
      "Epoch 4/10\n",
      "63/63 [==============================] - 1s 10ms/step - loss: 0.0305 - root_mean_squared_error: 0.1746 - val_loss: 0.0209 - val_root_mean_squared_error: 0.1444\n",
      "Epoch 5/10\n",
      "63/63 [==============================] - 1s 10ms/step - loss: 0.0277 - root_mean_squared_error: 0.1663 - val_loss: 0.0193 - val_root_mean_squared_error: 0.1390\n",
      "Epoch 6/10\n",
      "63/63 [==============================] - 1s 10ms/step - loss: 0.0248 - root_mean_squared_error: 0.1576 - val_loss: 0.0170 - val_root_mean_squared_error: 0.1306\n",
      "Epoch 7/10\n",
      "63/63 [==============================] - 1s 9ms/step - loss: 0.0221 - root_mean_squared_error: 0.1486 - val_loss: 0.0137 - val_root_mean_squared_error: 0.1172\n",
      "Epoch 8/10\n",
      "63/63 [==============================] - 1s 9ms/step - loss: 0.0194 - root_mean_squared_error: 0.1393 - val_loss: 0.0122 - val_root_mean_squared_error: 0.1105\n",
      "Epoch 9/10\n",
      "63/63 [==============================] - 1s 11ms/step - loss: 0.0168 - root_mean_squared_error: 0.1297 - val_loss: 0.0107 - val_root_mean_squared_error: 0.1032\n",
      "Epoch 10/10\n",
      "63/63 [==============================] - 1s 9ms/step - loss: 0.0144 - root_mean_squared_error: 0.1199 - val_loss: 0.0083 - val_root_mean_squared_error: 0.0911\n",
      "7/7 [==============================] - 0s 3ms/step - loss: 8.7841e-04 - root_mean_squared_error: 0.0296\n",
      "--- Starting trial: run-15\n",
      "{'num_units': 128, 'dropout': 0.2, 'optimizer': 'adam'}\n",
      "Epoch 1/10\n",
      "63/63 [==============================] - 4s 19ms/step - loss: 0.0426 - root_mean_squared_error: 0.2064 - val_loss: 3.9418e-04 - val_root_mean_squared_error: 0.0199\n",
      "Epoch 2/10\n",
      "63/63 [==============================] - 0s 7ms/step - loss: 2.9100e-04 - root_mean_squared_error: 0.0171 - val_loss: 1.4618e-04 - val_root_mean_squared_error: 0.0121\n",
      "Epoch 3/10\n",
      "63/63 [==============================] - 0s 8ms/step - loss: 1.9088e-04 - root_mean_squared_error: 0.0138 - val_loss: 1.3094e-04 - val_root_mean_squared_error: 0.0114\n",
      "Epoch 4/10\n",
      "63/63 [==============================] - 0s 8ms/step - loss: 1.3878e-04 - root_mean_squared_error: 0.0118 - val_loss: 7.2572e-05 - val_root_mean_squared_error: 0.0085\n",
      "Epoch 5/10\n",
      "63/63 [==============================] - 0s 7ms/step - loss: 1.0494e-04 - root_mean_squared_error: 0.0102 - val_loss: 7.9930e-05 - val_root_mean_squared_error: 0.0089\n",
      "Epoch 6/10\n",
      "63/63 [==============================] - 1s 10ms/step - loss: 8.5441e-05 - root_mean_squared_error: 0.0092 - val_loss: 5.9333e-05 - val_root_mean_squared_error: 0.0077\n",
      "Epoch 7/10\n",
      "63/63 [==============================] - 1s 9ms/step - loss: 8.7909e-05 - root_mean_squared_error: 0.0094 - val_loss: 6.6436e-05 - val_root_mean_squared_error: 0.0082\n",
      "Epoch 8/10\n",
      "63/63 [==============================] - 0s 7ms/step - loss: 7.7653e-05 - root_mean_squared_error: 0.0088 - val_loss: 1.5702e-04 - val_root_mean_squared_error: 0.0125\n",
      "Epoch 9/10\n",
      "63/63 [==============================] - 0s 8ms/step - loss: 7.7194e-05 - root_mean_squared_error: 0.0088 - val_loss: 6.0431e-05 - val_root_mean_squared_error: 0.0078\n",
      "Epoch 10/10\n",
      "63/63 [==============================] - 0s 7ms/step - loss: 8.0138e-05 - root_mean_squared_error: 0.0090 - val_loss: 5.2989e-05 - val_root_mean_squared_error: 0.0073\n",
      "7/7 [==============================] - 0s 3ms/step - loss: 4.2128e-05 - root_mean_squared_error: 0.0065\n",
      "--- Starting trial: run-16\n",
      "{'num_units': 128, 'dropout': 0.2, 'optimizer': 'nadam'}\n",
      "Epoch 1/10\n",
      "63/63 [==============================] - 5s 17ms/step - loss: 0.0507 - root_mean_squared_error: 0.2252 - val_loss: 1.2601e-04 - val_root_mean_squared_error: 0.0112\n",
      "Epoch 2/10\n",
      "63/63 [==============================] - 1s 9ms/step - loss: 5.5414e-04 - root_mean_squared_error: 0.0235 - val_loss: 1.9454e-04 - val_root_mean_squared_error: 0.0139\n",
      "Epoch 3/10\n",
      "63/63 [==============================] - 1s 11ms/step - loss: 3.8365e-04 - root_mean_squared_error: 0.0196 - val_loss: 1.6755e-04 - val_root_mean_squared_error: 0.0129\n",
      "Epoch 4/10\n",
      "63/63 [==============================] - 1s 11ms/step - loss: 2.8787e-04 - root_mean_squared_error: 0.0170 - val_loss: 1.0913e-04 - val_root_mean_squared_error: 0.0104\n",
      "Epoch 5/10\n",
      "63/63 [==============================] - 1s 9ms/step - loss: 2.0319e-04 - root_mean_squared_error: 0.0143 - val_loss: 1.0479e-04 - val_root_mean_squared_error: 0.0102\n",
      "Epoch 6/10\n",
      "63/63 [==============================] - 1s 9ms/step - loss: 1.3388e-04 - root_mean_squared_error: 0.0116 - val_loss: 7.1579e-05 - val_root_mean_squared_error: 0.0085\n",
      "Epoch 7/10\n",
      "63/63 [==============================] - 1s 9ms/step - loss: 8.5113e-05 - root_mean_squared_error: 0.0092 - val_loss: 6.0297e-05 - val_root_mean_squared_error: 0.0078\n",
      "Epoch 8/10\n",
      "63/63 [==============================] - 1s 9ms/step - loss: 8.3619e-05 - root_mean_squared_error: 0.0091 - val_loss: 8.9971e-05 - val_root_mean_squared_error: 0.0095\n",
      "Epoch 9/10\n",
      "63/63 [==============================] - 1s 9ms/step - loss: 8.4092e-05 - root_mean_squared_error: 0.0092 - val_loss: 6.4702e-05 - val_root_mean_squared_error: 0.0080\n",
      "Epoch 10/10\n",
      "63/63 [==============================] - 1s 9ms/step - loss: 8.3843e-05 - root_mean_squared_error: 0.0092 - val_loss: 6.3928e-05 - val_root_mean_squared_error: 0.0080\n",
      "7/7 [==============================] - 0s 3ms/step - loss: 6.1086e-05 - root_mean_squared_error: 0.0078\n",
      "--- Starting trial: run-17\n",
      "{'num_units': 128, 'dropout': 0.2, 'optimizer': 'sgd'}\n",
      "Epoch 1/10\n",
      "63/63 [==============================] - 3s 17ms/step - loss: 0.0916 - root_mean_squared_error: 0.3026 - val_loss: 0.0344 - val_root_mean_squared_error: 0.1855\n",
      "Epoch 2/10\n",
      "63/63 [==============================] - 1s 9ms/step - loss: 0.0344 - root_mean_squared_error: 0.1854 - val_loss: 0.0224 - val_root_mean_squared_error: 0.1496\n",
      "Epoch 3/10\n",
      "63/63 [==============================] - 1s 9ms/step - loss: 0.0288 - root_mean_squared_error: 0.1698 - val_loss: 0.0176 - val_root_mean_squared_error: 0.1325\n",
      "Epoch 4/10\n",
      "63/63 [==============================] - 1s 9ms/step - loss: 0.0240 - root_mean_squared_error: 0.1551 - val_loss: 0.0166 - val_root_mean_squared_error: 0.1288\n",
      "Epoch 5/10\n",
      "63/63 [==============================] - 1s 9ms/step - loss: 0.0198 - root_mean_squared_error: 0.1406 - val_loss: 0.0136 - val_root_mean_squared_error: 0.1164\n",
      "Epoch 6/10\n",
      "63/63 [==============================] - 1s 10ms/step - loss: 0.0160 - root_mean_squared_error: 0.1264 - val_loss: 0.0109 - val_root_mean_squared_error: 0.1044\n",
      "Epoch 7/10\n",
      "63/63 [==============================] - 1s 12ms/step - loss: 0.0127 - root_mean_squared_error: 0.1128 - val_loss: 0.0077 - val_root_mean_squared_error: 0.0875\n",
      "Epoch 8/10\n",
      "63/63 [==============================] - 1s 9ms/step - loss: 0.0100 - root_mean_squared_error: 0.0998 - val_loss: 0.0061 - val_root_mean_squared_error: 0.0782\n",
      "Epoch 9/10\n",
      "63/63 [==============================] - 1s 10ms/step - loss: 0.0077 - root_mean_squared_error: 0.0875 - val_loss: 0.0047 - val_root_mean_squared_error: 0.0688\n",
      "Epoch 10/10\n",
      "63/63 [==============================] - 1s 9ms/step - loss: 0.0058 - root_mean_squared_error: 0.0761 - val_loss: 0.0031 - val_root_mean_squared_error: 0.0561\n",
      "7/7 [==============================] - 0s 3ms/step - loss: 3.3898e-04 - root_mean_squared_error: 0.0184\n"
     ]
    }
   ],
   "source": [
    "session_num = 0\n",
    "\n",
    "for num_units in HP_NUM_UNITS.domain.values:\n",
    "    for dropout_rate in (HP_DROPOUT.domain.min_value, HP_DROPOUT.domain.max_value):\n",
    "        for optimizer in HP_OPTIMIZER.domain.values:\n",
    "            hparams = {\n",
    "                HP_NUM_UNITS: num_units,\n",
    "                HP_DROPOUT: dropout_rate,\n",
    "                HP_OPTIMIZER: optimizer,\n",
    "            }\n",
    "            run_name = \"run-%d\" % session_num\n",
    "            print('--- Starting trial: %s' % run_name)\n",
    "            print({h.name: hparams[h] for h in hparams})\n",
    "            run('logs/hparam_tuning/' + run_name, hparams)\n",
    "            session_num += 1\n"
   ],
   "metadata": {
    "collapsed": false,
    "pycharm": {
     "name": "#%%\n"
    }
   }
  },
  {
   "cell_type": "markdown",
   "source": [
    "{'num_units': 32, 'dropout': 0.1, 'optimizer': 'nadam'} 0.0933\n",
    "{'num_units': 64, 'dropout': 0.1, 'optimizer': 'nadam'} 0.08706\n",
    "{'num_units': 64, 'dropout': 0.2, 'optimizer': 'adam'} 0.0856"
   ],
   "metadata": {
    "collapsed": false,
    "pycharm": {
     "name": "#%% md\n"
    }
   }
  },
  {
   "cell_type": "code",
   "execution_count": 42,
   "outputs": [
    {
     "data": {
      "text/plain": "Launching TensorBoard..."
     },
     "metadata": {},
     "output_type": "display_data"
    },
    {
     "data": {
      "text/plain": "<IPython.core.display.HTML object>",
      "text/html": "\n      <iframe id=\"tensorboard-frame-362e802c884a5758\" width=\"100%\" height=\"800\" frameborder=\"0\">\n      </iframe>\n      <script>\n        (function() {\n          const frame = document.getElementById(\"tensorboard-frame-362e802c884a5758\");\n          const url = new URL(\"/\", window.location);\n          const port = 6006;\n          if (port) {\n            url.port = port;\n          }\n          frame.src = url;\n        })();\n      </script>\n    "
     },
     "metadata": {},
     "output_type": "display_data"
    }
   ],
   "source": [
    "%tensorboard --logdir logs/hparam_tuning"
   ],
   "metadata": {
    "collapsed": false,
    "pycharm": {
     "name": "#%%\n"
    }
   }
  },
  {
   "cell_type": "code",
   "execution_count": 43,
   "outputs": [],
   "source": [
    "import winsound\n",
    "winsound.Beep(2500,1000)"
   ],
   "metadata": {
    "collapsed": false,
    "pycharm": {
     "name": "#%%\n"
    }
   }
  }
 ],
 "metadata": {
  "kernelspec": {
   "display_name": "Python 3",
   "language": "python",
   "name": "python3"
  },
  "language_info": {
   "codemirror_mode": {
    "name": "ipython",
    "version": 2
   },
   "file_extension": ".py",
   "mimetype": "text/x-python",
   "name": "python",
   "nbconvert_exporter": "python",
   "pygments_lexer": "ipython2",
   "version": "2.7.6"
  }
 },
 "nbformat": 4,
 "nbformat_minor": 0
}