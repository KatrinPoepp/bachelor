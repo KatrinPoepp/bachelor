{
 "cells": [
  {
   "cell_type": "code",
   "execution_count": 6,
   "metadata": {
    "collapsed": true,
    "pycharm": {
     "name": "#%%\n"
    }
   },
   "outputs": [],
   "source": [
    "import pandas as pd # data processing, CSV file I/O (e.g. pd.read_csv)\n",
    "import warnings # Supress warnings\n",
    "import numpy as np\n",
    "warnings.filterwarnings('ignore')\n",
    "\n",
    "df = pd.read_csv(\"./files/Aquifer_Petrignano.csv\")\n",
    "df.index = pd.to_datetime(df.Date, format = '%d/%m/%Y', )\n",
    "df = df.drop(['Date'], axis=1)"
   ]
  },
  {
   "cell_type": "code",
   "execution_count": 7,
   "outputs": [
    {
     "data": {
      "text/plain": "            Rainfall_Bastia_Umbra  Depth_to_Groundwater_P24  \\\nDate                                                          \n2006-03-14                    NaN                    -22.48   \n2006-03-15                    NaN                    -22.38   \n2006-03-16                    NaN                    -22.25   \n2006-03-17                    NaN                    -22.38   \n2006-03-18                    NaN                    -22.60   \n...                           ...                       ...   \n2020-06-26                    0.0                    -25.68   \n2020-06-27                    0.0                    -25.80   \n2020-06-28                    0.0                    -25.80   \n2020-06-29                    0.0                    -25.78   \n2020-06-30                    0.0                    -25.91   \n\n            Depth_to_Groundwater_P25  Temperature_Bastia_Umbra  \\\nDate                                                             \n2006-03-14                    -22.18                       NaN   \n2006-03-15                    -22.14                       NaN   \n2006-03-16                    -22.04                       NaN   \n2006-03-17                    -22.04                       NaN   \n2006-03-18                    -22.04                       NaN   \n...                              ...                       ...   \n2020-06-26                    -25.07                      25.7   \n2020-06-27                    -25.11                      26.2   \n2020-06-28                    -25.19                      26.9   \n2020-06-29                    -25.18                      26.9   \n2020-06-30                    -25.25                      27.3   \n\n            Temperature_Petrignano  Volume_C10_Petrignano  \\\nDate                                                        \n2006-03-14                     NaN                    NaN   \n2006-03-15                     NaN                    NaN   \n2006-03-16                     NaN                    NaN   \n2006-03-17                     NaN                    NaN   \n2006-03-18                     NaN                    NaN   \n...                            ...                    ...   \n2020-06-26                    24.5             -29930.688   \n2020-06-27                    25.0             -31332.960   \n2020-06-28                    25.7             -32120.928   \n2020-06-29                    26.0             -30602.880   \n2020-06-30                    26.5             -31878.144   \n\n            Hydrometry_Fiume_Chiascio_Petrignano  \nDate                                              \n2006-03-14                                   NaN  \n2006-03-15                                   NaN  \n2006-03-16                                   NaN  \n2006-03-17                                   NaN  \n2006-03-18                                   NaN  \n...                                          ...  \n2020-06-26                                   2.5  \n2020-06-27                                   2.4  \n2020-06-28                                   2.4  \n2020-06-29                                   2.4  \n2020-06-30                                   2.4  \n\n[5223 rows x 7 columns]",
      "text/html": "<div>\n<style scoped>\n    .dataframe tbody tr th:only-of-type {\n        vertical-align: middle;\n    }\n\n    .dataframe tbody tr th {\n        vertical-align: top;\n    }\n\n    .dataframe thead th {\n        text-align: right;\n    }\n</style>\n<table border=\"1\" class=\"dataframe\">\n  <thead>\n    <tr style=\"text-align: right;\">\n      <th></th>\n      <th>Rainfall_Bastia_Umbra</th>\n      <th>Depth_to_Groundwater_P24</th>\n      <th>Depth_to_Groundwater_P25</th>\n      <th>Temperature_Bastia_Umbra</th>\n      <th>Temperature_Petrignano</th>\n      <th>Volume_C10_Petrignano</th>\n      <th>Hydrometry_Fiume_Chiascio_Petrignano</th>\n    </tr>\n    <tr>\n      <th>Date</th>\n      <th></th>\n      <th></th>\n      <th></th>\n      <th></th>\n      <th></th>\n      <th></th>\n      <th></th>\n    </tr>\n  </thead>\n  <tbody>\n    <tr>\n      <th>2006-03-14</th>\n      <td>NaN</td>\n      <td>-22.48</td>\n      <td>-22.18</td>\n      <td>NaN</td>\n      <td>NaN</td>\n      <td>NaN</td>\n      <td>NaN</td>\n    </tr>\n    <tr>\n      <th>2006-03-15</th>\n      <td>NaN</td>\n      <td>-22.38</td>\n      <td>-22.14</td>\n      <td>NaN</td>\n      <td>NaN</td>\n      <td>NaN</td>\n      <td>NaN</td>\n    </tr>\n    <tr>\n      <th>2006-03-16</th>\n      <td>NaN</td>\n      <td>-22.25</td>\n      <td>-22.04</td>\n      <td>NaN</td>\n      <td>NaN</td>\n      <td>NaN</td>\n      <td>NaN</td>\n    </tr>\n    <tr>\n      <th>2006-03-17</th>\n      <td>NaN</td>\n      <td>-22.38</td>\n      <td>-22.04</td>\n      <td>NaN</td>\n      <td>NaN</td>\n      <td>NaN</td>\n      <td>NaN</td>\n    </tr>\n    <tr>\n      <th>2006-03-18</th>\n      <td>NaN</td>\n      <td>-22.60</td>\n      <td>-22.04</td>\n      <td>NaN</td>\n      <td>NaN</td>\n      <td>NaN</td>\n      <td>NaN</td>\n    </tr>\n    <tr>\n      <th>...</th>\n      <td>...</td>\n      <td>...</td>\n      <td>...</td>\n      <td>...</td>\n      <td>...</td>\n      <td>...</td>\n      <td>...</td>\n    </tr>\n    <tr>\n      <th>2020-06-26</th>\n      <td>0.0</td>\n      <td>-25.68</td>\n      <td>-25.07</td>\n      <td>25.7</td>\n      <td>24.5</td>\n      <td>-29930.688</td>\n      <td>2.5</td>\n    </tr>\n    <tr>\n      <th>2020-06-27</th>\n      <td>0.0</td>\n      <td>-25.80</td>\n      <td>-25.11</td>\n      <td>26.2</td>\n      <td>25.0</td>\n      <td>-31332.960</td>\n      <td>2.4</td>\n    </tr>\n    <tr>\n      <th>2020-06-28</th>\n      <td>0.0</td>\n      <td>-25.80</td>\n      <td>-25.19</td>\n      <td>26.9</td>\n      <td>25.7</td>\n      <td>-32120.928</td>\n      <td>2.4</td>\n    </tr>\n    <tr>\n      <th>2020-06-29</th>\n      <td>0.0</td>\n      <td>-25.78</td>\n      <td>-25.18</td>\n      <td>26.9</td>\n      <td>26.0</td>\n      <td>-30602.880</td>\n      <td>2.4</td>\n    </tr>\n    <tr>\n      <th>2020-06-30</th>\n      <td>0.0</td>\n      <td>-25.91</td>\n      <td>-25.25</td>\n      <td>27.3</td>\n      <td>26.5</td>\n      <td>-31878.144</td>\n      <td>2.4</td>\n    </tr>\n  </tbody>\n</table>\n<p>5223 rows × 7 columns</p>\n</div>"
     },
     "execution_count": 7,
     "metadata": {},
     "output_type": "execute_result"
    }
   ],
   "source": [
    "df"
   ],
   "metadata": {
    "collapsed": false,
    "pycharm": {
     "name": "#%%\n"
    }
   }
  },
  {
   "cell_type": "code",
   "execution_count": 8,
   "outputs": [],
   "source": [
    "# Drop data before 2009 for the purpose of this tutorial\n",
    "df = df[df.Rainfall_Bastia_Umbra.notna()].reset_index(drop=True)\n",
    "# Drop one of the target columns, so we can focus on only one target\n",
    "df = df.drop(['Depth_to_Groundwater_P24', 'Temperature_Petrignano'], axis=1)\n",
    "\n",
    "# Simplify column names\n",
    "df.columns = ['Rainfall', 'Depth_to_Groundwater', 'Temperature', 'Drainage_Volume', 'River_Hydrometry']\n",
    "\n",
    "targets = ['Depth_to_Groundwater']\n",
    "features = [feature for feature in df.columns if feature not in targets]\n",
    "from datetime import datetime, date\n"
   ],
   "metadata": {
    "collapsed": false,
    "pycharm": {
     "name": "#%%\n"
    }
   }
  },
  {
   "cell_type": "code",
   "execution_count": 5,
   "outputs": [],
   "source": [
    "df.to_csv('files/plain_data.csv')"
   ],
   "metadata": {
    "collapsed": false,
    "pycharm": {
     "name": "#%%\n"
    }
   }
  },
  {
   "cell_type": "code",
   "execution_count": 10,
   "outputs": [
    {
     "data": {
      "text/plain": "            Rainfall  Depth_to_Groundwater  Temperature  Drainage_Volume  \\\nDate                                                                       \n2009-01-01       0.0                -31.14          5.2       -24530.688   \n2009-01-02       0.0                -31.11          2.3       -28785.888   \n2009-01-03       0.0                -31.07          4.4       -25766.208   \n2009-01-04       0.0                -31.05          0.8       -27919.296   \n2009-01-05       0.0                -31.01         -1.9       -29854.656   \n...              ...                   ...          ...              ...   \n2020-06-26       0.0                -25.07         25.7       -29930.688   \n2020-06-27       0.0                -25.11         26.2       -31332.960   \n2020-06-28       0.0                -25.19         26.9       -32120.928   \n2020-06-29       0.0                -25.18         26.9       -30602.880   \n2020-06-30       0.0                -25.25         27.3       -31878.144   \n\n            River_Hydrometry  \nDate                          \n2009-01-01               2.4  \n2009-01-02               2.5  \n2009-01-03               2.4  \n2009-01-04               2.4  \n2009-01-05               2.3  \n...                      ...  \n2020-06-26               2.5  \n2020-06-27               2.4  \n2020-06-28               2.4  \n2020-06-29               2.4  \n2020-06-30               2.4  \n\n[4199 rows x 5 columns]",
      "text/html": "<div>\n<style scoped>\n    .dataframe tbody tr th:only-of-type {\n        vertical-align: middle;\n    }\n\n    .dataframe tbody tr th {\n        vertical-align: top;\n    }\n\n    .dataframe thead th {\n        text-align: right;\n    }\n</style>\n<table border=\"1\" class=\"dataframe\">\n  <thead>\n    <tr style=\"text-align: right;\">\n      <th></th>\n      <th>Rainfall</th>\n      <th>Depth_to_Groundwater</th>\n      <th>Temperature</th>\n      <th>Drainage_Volume</th>\n      <th>River_Hydrometry</th>\n    </tr>\n    <tr>\n      <th>Date</th>\n      <th></th>\n      <th></th>\n      <th></th>\n      <th></th>\n      <th></th>\n    </tr>\n  </thead>\n  <tbody>\n    <tr>\n      <th>2009-01-01</th>\n      <td>0.0</td>\n      <td>-31.14</td>\n      <td>5.2</td>\n      <td>-24530.688</td>\n      <td>2.4</td>\n    </tr>\n    <tr>\n      <th>2009-01-02</th>\n      <td>0.0</td>\n      <td>-31.11</td>\n      <td>2.3</td>\n      <td>-28785.888</td>\n      <td>2.5</td>\n    </tr>\n    <tr>\n      <th>2009-01-03</th>\n      <td>0.0</td>\n      <td>-31.07</td>\n      <td>4.4</td>\n      <td>-25766.208</td>\n      <td>2.4</td>\n    </tr>\n    <tr>\n      <th>2009-01-04</th>\n      <td>0.0</td>\n      <td>-31.05</td>\n      <td>0.8</td>\n      <td>-27919.296</td>\n      <td>2.4</td>\n    </tr>\n    <tr>\n      <th>2009-01-05</th>\n      <td>0.0</td>\n      <td>-31.01</td>\n      <td>-1.9</td>\n      <td>-29854.656</td>\n      <td>2.3</td>\n    </tr>\n    <tr>\n      <th>...</th>\n      <td>...</td>\n      <td>...</td>\n      <td>...</td>\n      <td>...</td>\n      <td>...</td>\n    </tr>\n    <tr>\n      <th>2020-06-26</th>\n      <td>0.0</td>\n      <td>-25.07</td>\n      <td>25.7</td>\n      <td>-29930.688</td>\n      <td>2.5</td>\n    </tr>\n    <tr>\n      <th>2020-06-27</th>\n      <td>0.0</td>\n      <td>-25.11</td>\n      <td>26.2</td>\n      <td>-31332.960</td>\n      <td>2.4</td>\n    </tr>\n    <tr>\n      <th>2020-06-28</th>\n      <td>0.0</td>\n      <td>-25.19</td>\n      <td>26.9</td>\n      <td>-32120.928</td>\n      <td>2.4</td>\n    </tr>\n    <tr>\n      <th>2020-06-29</th>\n      <td>0.0</td>\n      <td>-25.18</td>\n      <td>26.9</td>\n      <td>-30602.880</td>\n      <td>2.4</td>\n    </tr>\n    <tr>\n      <th>2020-06-30</th>\n      <td>0.0</td>\n      <td>-25.25</td>\n      <td>27.3</td>\n      <td>-31878.144</td>\n      <td>2.4</td>\n    </tr>\n  </tbody>\n</table>\n<p>4199 rows × 5 columns</p>\n</div>"
     },
     "execution_count": 10,
     "metadata": {},
     "output_type": "execute_result"
    }
   ],
   "source": [
    "df['River_Hydrometry'] = df['River_Hydrometry'].replace(0.0, np.nan)\n",
    "df['Drainage_Volume'] = df['Drainage_Volume'].replace(0.0, np.nan)\n",
    "\n",
    "df['Drainage_Volume'] = df['Drainage_Volume'].interpolate()\n",
    "df['River_Hydrometry'] = df['River_Hydrometry'].interpolate()\n",
    "df['Depth_to_Groundwater'] = df['Depth_to_Groundwater'].interpolate()\n",
    "\n",
    "df"
   ],
   "metadata": {
    "collapsed": false,
    "pycharm": {
     "name": "#%%\n"
    }
   }
  },
  {
   "cell_type": "code",
   "execution_count": 11,
   "outputs": [],
   "source": [
    "df.to_csv('files/interpolated_data.csv')"
   ],
   "metadata": {
    "collapsed": false,
    "pycharm": {
     "name": "#%%\n"
    }
   }
  },
  {
   "cell_type": "code",
   "execution_count": 13,
   "outputs": [],
   "source": [
    "from sklearn.preprocessing import MinMaxScaler\n",
    "\n",
    "scaler = MinMaxScaler()\n",
    "scaled_values = scaler.fit_transform(df)\n",
    "scaled_df = pd.DataFrame(scaled_values, columns=df.columns, index=df.index)\n",
    "scaled_df.to_csv('files/scaled_data.csv')"
   ],
   "metadata": {
    "collapsed": false,
    "pycharm": {
     "name": "#%%\n"
    }
   }
  },
  {
   "cell_type": "code",
   "execution_count": 16,
   "outputs": [],
   "source": [
    "scaled_df = pd.read_csv('files/scaled_data.csv', index_col=0)"
   ],
   "metadata": {
    "collapsed": false,
    "pycharm": {
     "name": "#%%\n"
    }
   }
  },
  {
   "cell_type": "code",
   "execution_count": 14,
   "outputs": [
    {
     "data": {
      "text/plain": "['files/scaler.joblib']"
     },
     "execution_count": 14,
     "metadata": {},
     "output_type": "execute_result"
    }
   ],
   "source": [
    "import joblib\n",
    "\n",
    "joblib.dump(scaler, 'files/scaler.joblib')"
   ],
   "metadata": {
    "collapsed": false,
    "pycharm": {
     "name": "#%%\n"
    }
   }
  },
  {
   "cell_type": "code",
   "execution_count": 15,
   "outputs": [],
   "source": [
    "loaded_scaler = joblib.load('files/scaler.joblib')"
   ],
   "metadata": {
    "collapsed": false,
    "pycharm": {
     "name": "#%%\n"
    }
   }
  },
  {
   "cell_type": "code",
   "execution_count": 17,
   "outputs": [],
   "source": [
    "unscaled_values = loaded_scaler.inverse_transform(scaled_df.values)\n",
    "unscaled_df = pd.DataFrame(unscaled_values, columns=df.columns, index=df.index)"
   ],
   "metadata": {
    "collapsed": false,
    "pycharm": {
     "name": "#%%\n"
    }
   }
  },
  {
   "cell_type": "code",
   "execution_count": 18,
   "outputs": [
    {
     "data": {
      "text/plain": "            Rainfall  Depth_to_Groundwater  Temperature  Drainage_Volume  \\\nDate                                                                       \n2009-01-01       0.0                -31.14          5.2       -24530.688   \n2009-01-02       0.0                -31.11          2.3       -28785.888   \n2009-01-03       0.0                -31.07          4.4       -25766.208   \n2009-01-04       0.0                -31.05          0.8       -27919.296   \n2009-01-05       0.0                -31.01         -1.9       -29854.656   \n...              ...                   ...          ...              ...   \n2020-06-26       0.0                -25.07         25.7       -29930.688   \n2020-06-27       0.0                -25.11         26.2       -31332.960   \n2020-06-28       0.0                -25.19         26.9       -32120.928   \n2020-06-29       0.0                -25.18         26.9       -30602.880   \n2020-06-30       0.0                -25.25         27.3       -31878.144   \n\n            River_Hydrometry  \nDate                          \n2009-01-01               2.4  \n2009-01-02               2.5  \n2009-01-03               2.4  \n2009-01-04               2.4  \n2009-01-05               2.3  \n...                      ...  \n2020-06-26               2.5  \n2020-06-27               2.4  \n2020-06-28               2.4  \n2020-06-29               2.4  \n2020-06-30               2.4  \n\n[4199 rows x 5 columns]",
      "text/html": "<div>\n<style scoped>\n    .dataframe tbody tr th:only-of-type {\n        vertical-align: middle;\n    }\n\n    .dataframe tbody tr th {\n        vertical-align: top;\n    }\n\n    .dataframe thead th {\n        text-align: right;\n    }\n</style>\n<table border=\"1\" class=\"dataframe\">\n  <thead>\n    <tr style=\"text-align: right;\">\n      <th></th>\n      <th>Rainfall</th>\n      <th>Depth_to_Groundwater</th>\n      <th>Temperature</th>\n      <th>Drainage_Volume</th>\n      <th>River_Hydrometry</th>\n    </tr>\n    <tr>\n      <th>Date</th>\n      <th></th>\n      <th></th>\n      <th></th>\n      <th></th>\n      <th></th>\n    </tr>\n  </thead>\n  <tbody>\n    <tr>\n      <th>2009-01-01</th>\n      <td>0.0</td>\n      <td>-31.14</td>\n      <td>5.2</td>\n      <td>-24530.688</td>\n      <td>2.4</td>\n    </tr>\n    <tr>\n      <th>2009-01-02</th>\n      <td>0.0</td>\n      <td>-31.11</td>\n      <td>2.3</td>\n      <td>-28785.888</td>\n      <td>2.5</td>\n    </tr>\n    <tr>\n      <th>2009-01-03</th>\n      <td>0.0</td>\n      <td>-31.07</td>\n      <td>4.4</td>\n      <td>-25766.208</td>\n      <td>2.4</td>\n    </tr>\n    <tr>\n      <th>2009-01-04</th>\n      <td>0.0</td>\n      <td>-31.05</td>\n      <td>0.8</td>\n      <td>-27919.296</td>\n      <td>2.4</td>\n    </tr>\n    <tr>\n      <th>2009-01-05</th>\n      <td>0.0</td>\n      <td>-31.01</td>\n      <td>-1.9</td>\n      <td>-29854.656</td>\n      <td>2.3</td>\n    </tr>\n    <tr>\n      <th>...</th>\n      <td>...</td>\n      <td>...</td>\n      <td>...</td>\n      <td>...</td>\n      <td>...</td>\n    </tr>\n    <tr>\n      <th>2020-06-26</th>\n      <td>0.0</td>\n      <td>-25.07</td>\n      <td>25.7</td>\n      <td>-29930.688</td>\n      <td>2.5</td>\n    </tr>\n    <tr>\n      <th>2020-06-27</th>\n      <td>0.0</td>\n      <td>-25.11</td>\n      <td>26.2</td>\n      <td>-31332.960</td>\n      <td>2.4</td>\n    </tr>\n    <tr>\n      <th>2020-06-28</th>\n      <td>0.0</td>\n      <td>-25.19</td>\n      <td>26.9</td>\n      <td>-32120.928</td>\n      <td>2.4</td>\n    </tr>\n    <tr>\n      <th>2020-06-29</th>\n      <td>0.0</td>\n      <td>-25.18</td>\n      <td>26.9</td>\n      <td>-30602.880</td>\n      <td>2.4</td>\n    </tr>\n    <tr>\n      <th>2020-06-30</th>\n      <td>0.0</td>\n      <td>-25.25</td>\n      <td>27.3</td>\n      <td>-31878.144</td>\n      <td>2.4</td>\n    </tr>\n  </tbody>\n</table>\n<p>4199 rows × 5 columns</p>\n</div>"
     },
     "execution_count": 18,
     "metadata": {},
     "output_type": "execute_result"
    }
   ],
   "source": [
    "unscaled_df"
   ],
   "metadata": {
    "collapsed": false,
    "pycharm": {
     "name": "#%%\n"
    }
   }
  },
  {
   "cell_type": "code",
   "execution_count": 19,
   "outputs": [
    {
     "name": "stdout",
     "output_type": "stream",
     "text": [
      "Original DataFrame:\n",
      "            Rainfall  Depth_to_Groundwater  Temperature  Drainage_Volume  \\\n",
      "Date                                                                       \n",
      "2009-01-01       0.0                -31.14          5.2       -24530.688   \n",
      "2009-01-02       0.0                -31.11          2.3       -28785.888   \n",
      "2009-01-03       0.0                -31.07          4.4       -25766.208   \n",
      "2009-01-04       0.0                -31.05          0.8       -27919.296   \n",
      "2009-01-05       0.0                -31.01         -1.9       -29854.656   \n",
      "...              ...                   ...          ...              ...   \n",
      "2020-06-26       0.0                -25.07         25.7       -29930.688   \n",
      "2020-06-27       0.0                -25.11         26.2       -31332.960   \n",
      "2020-06-28       0.0                -25.19         26.9       -32120.928   \n",
      "2020-06-29       0.0                -25.18         26.9       -30602.880   \n",
      "2020-06-30       0.0                -25.25         27.3       -31878.144   \n",
      "\n",
      "            River_Hydrometry  \n",
      "Date                          \n",
      "2009-01-01               2.4  \n",
      "2009-01-02               2.5  \n",
      "2009-01-03               2.4  \n",
      "2009-01-04               2.4  \n",
      "2009-01-05               2.3  \n",
      "...                      ...  \n",
      "2020-06-26               2.5  \n",
      "2020-06-27               2.4  \n",
      "2020-06-28               2.4  \n",
      "2020-06-29               2.4  \n",
      "2020-06-30               2.4  \n",
      "\n",
      "[4199 rows x 5 columns]\n",
      "\n",
      "Weekly Resampled DataFrame:\n",
      "            Rainfall  Depth_to_Groundwater  Temperature  Drainage_Volume  \\\n",
      "Date                                                                       \n",
      "2009-01-04       0.0            -31.092500     3.175000      -107002.080   \n",
      "2009-01-11       0.9            -30.934286     1.914286      -212164.704   \n",
      "2009-01-18       1.2            -30.598571     5.485714      -196624.800   \n",
      "2009-01-25       4.2            -30.130000     8.585714      -162883.872   \n",
      "2009-02-01       0.0            -29.907143     4.728571      -171409.824   \n",
      "...              ...                   ...          ...              ...   \n",
      "2020-06-07      19.6            -24.652857    19.271429      -179465.760   \n",
      "2020-06-14      43.0            -24.724286    18.428571      -180633.888   \n",
      "2020-06-21       7.4            -24.752857    20.385714      -192335.472   \n",
      "2020-06-28       0.0            -25.017143    24.928571      -209810.304   \n",
      "2020-07-05       0.0            -25.215000    27.100000       -62481.024   \n",
      "\n",
      "            River_Hydrometry  \n",
      "Date                          \n",
      "2009-01-04          2.425000  \n",
      "2009-01-11          2.314286  \n",
      "2009-01-18          2.300000  \n",
      "2009-01-25          2.357143  \n",
      "2009-02-01          2.571429  \n",
      "...                      ...  \n",
      "2020-06-07          2.442857  \n",
      "2020-06-14          2.771429  \n",
      "2020-06-21          2.728571  \n",
      "2020-06-28          2.485714  \n",
      "2020-07-05          2.400000  \n",
      "\n",
      "[601 rows x 5 columns]\n",
      "\n",
      "Monthly Resampled DataFrame:\n",
      "            Rainfall  Depth_to_Groundwater  Temperature  Drainage_Volume  \\\n",
      "Date                                                                       \n",
      "2009-01-31       6.3            -30.503871     4.964516      -827548.704   \n",
      "2009-02-28      14.0            -29.350000     5.125000      -717952.896   \n",
      "2009-03-31      34.2            -28.502903     9.254839      -879621.120   \n",
      "2009-04-30      16.3            -27.736333    13.806667      -845030.016   \n",
      "2009-05-31      28.6            -27.478065    19.809677      -997805.952   \n",
      "...              ...                   ...          ...              ...   \n",
      "2020-02-29      18.6            -25.261724     8.989655      -822268.800   \n",
      "2020-03-31      70.2            -24.945355     9.758065      -830281.536   \n",
      "2020-04-30      41.6            -24.805133    14.016667      -739037.952   \n",
      "2020-05-31      45.6            -24.716774    18.754839      -747226.080   \n",
      "2020-06-30      70.0            -24.815333    21.176667      -824726.448   \n",
      "\n",
      "            River_Hydrometry  \n",
      "Date                          \n",
      "2009-01-31          2.387097  \n",
      "2009-02-28          2.546429  \n",
      "2009-03-31          2.490323  \n",
      "2009-04-30          2.403333  \n",
      "2009-05-31          2.109677  \n",
      "...                      ...  \n",
      "2020-02-29          2.420690  \n",
      "2020-03-31          2.722581  \n",
      "2020-04-30          2.500000  \n",
      "2020-05-31          2.470968  \n",
      "2020-06-30          2.593333  \n",
      "\n",
      "[138 rows x 5 columns]\n"
     ]
    }
   ],
   "source": [
    "aggregation = {\n",
    "    'Rainfall': 'sum',\n",
    "    'Depth_to_Groundwater': 'mean',\n",
    "    'Temperature': 'mean',\n",
    "    'Drainage_Volume': 'sum',\n",
    "    'River_Hydrometry': 'mean',\n",
    "}\n",
    "weekly_df = df.resample('W').agg(aggregation)\n",
    "monthly_df = df.resample('M').agg(aggregation)\n",
    "yearly_df = df.resample('Y').agg(aggregation)\n",
    "\n",
    "print(\"Original DataFrame:\")\n",
    "print(df)\n",
    "print(\"\\nWeekly Resampled DataFrame:\")\n",
    "print(weekly_df)\n",
    "print(\"\\nMonthly Resampled DataFrame:\")\n",
    "print(monthly_df)"
   ],
   "metadata": {
    "collapsed": false,
    "pycharm": {
     "name": "#%%\n"
    }
   }
  },
  {
   "cell_type": "code",
   "execution_count": 22,
   "outputs": [],
   "source": [
    "\n",
    "monthly_df.to_csv('files/interploated_m.csv')"
   ],
   "metadata": {
    "collapsed": false,
    "pycharm": {
     "name": "#%%\n"
    }
   }
  },
  {
   "cell_type": "code",
   "execution_count": 31,
   "outputs": [
    {
     "data": {
      "text/plain": "['files/scaler_w.joblib']"
     },
     "execution_count": 31,
     "metadata": {},
     "output_type": "execute_result"
    }
   ],
   "source": [
    "df = df_trimmed\n",
    "from sklearn.preprocessing import MinMaxScaler\n",
    "import joblib\n",
    "scaler = MinMaxScaler()\n",
    "scaled_values = scaler.fit_transform(df)\n",
    "scaled_df = pd.DataFrame(scaled_values, columns=df.columns, index=df.index)\n",
    "scaled_df.to_csv('files/scaled_w.csv')\n",
    "\n",
    "\n",
    "joblib.dump(scaler, 'files/scaler_w.joblib')"
   ],
   "metadata": {
    "collapsed": false,
    "pycharm": {
     "name": "#%%\n"
    }
   }
  },
  {
   "cell_type": "code",
   "execution_count": null,
   "outputs": [],
   "source": [
    "scaled_df = pd.read_csv('files/scaled_data.csv', index_col=0)\n",
    "loaded_scaler = joblib.load('files/scaler.joblib')\n",
    "unscaled_values = loaded_scaler.inverse_transform(scaled_df.values)\n",
    "unscaled_df = pd.DataFrame(unscaled_values, columns=df.columns, index=df.index)"
   ],
   "metadata": {
    "collapsed": false,
    "pycharm": {
     "name": "#%%\n"
    }
   }
  },
  {
   "cell_type": "code",
   "execution_count": 24,
   "outputs": [],
   "source": [
    "df = pd.read_csv('files/interploated_w.csv', index_col=0)\n"
   ],
   "metadata": {
    "collapsed": false,
    "pycharm": {
     "name": "#%%\n"
    }
   }
  },
  {
   "cell_type": "code",
   "execution_count": 25,
   "outputs": [
    {
     "data": {
      "text/plain": "            Rainfall  Depth_to_Groundwater  Temperature  Drainage_Volume  \\\nDate                                                                       \n2009-01-04       0.0            -31.092500     3.175000      -107002.080   \n2009-01-11       0.9            -30.934286     1.914286      -212164.704   \n2009-01-18       1.2            -30.598571     5.485714      -196624.800   \n2009-01-25       4.2            -30.130000     8.585714      -162883.872   \n2009-02-01       0.0            -29.907143     4.728571      -171409.824   \n...              ...                   ...          ...              ...   \n2020-06-07      19.6            -24.652857    19.271429      -179465.760   \n2020-06-14      43.0            -24.724286    18.428571      -180633.888   \n2020-06-21       7.4            -24.752857    20.385714      -192335.472   \n2020-06-28       0.0            -25.017143    24.928571      -209810.304   \n2020-07-05       0.0            -25.215000    27.100000       -62481.024   \n\n            River_Hydrometry  \nDate                          \n2009-01-04          2.425000  \n2009-01-11          2.314286  \n2009-01-18          2.300000  \n2009-01-25          2.357143  \n2009-02-01          2.571429  \n...                      ...  \n2020-06-07          2.442857  \n2020-06-14          2.771429  \n2020-06-21          2.728571  \n2020-06-28          2.485714  \n2020-07-05          2.400000  \n\n[601 rows x 5 columns]",
      "text/html": "<div>\n<style scoped>\n    .dataframe tbody tr th:only-of-type {\n        vertical-align: middle;\n    }\n\n    .dataframe tbody tr th {\n        vertical-align: top;\n    }\n\n    .dataframe thead th {\n        text-align: right;\n    }\n</style>\n<table border=\"1\" class=\"dataframe\">\n  <thead>\n    <tr style=\"text-align: right;\">\n      <th></th>\n      <th>Rainfall</th>\n      <th>Depth_to_Groundwater</th>\n      <th>Temperature</th>\n      <th>Drainage_Volume</th>\n      <th>River_Hydrometry</th>\n    </tr>\n    <tr>\n      <th>Date</th>\n      <th></th>\n      <th></th>\n      <th></th>\n      <th></th>\n      <th></th>\n    </tr>\n  </thead>\n  <tbody>\n    <tr>\n      <th>2009-01-04</th>\n      <td>0.0</td>\n      <td>-31.092500</td>\n      <td>3.175000</td>\n      <td>-107002.080</td>\n      <td>2.425000</td>\n    </tr>\n    <tr>\n      <th>2009-01-11</th>\n      <td>0.9</td>\n      <td>-30.934286</td>\n      <td>1.914286</td>\n      <td>-212164.704</td>\n      <td>2.314286</td>\n    </tr>\n    <tr>\n      <th>2009-01-18</th>\n      <td>1.2</td>\n      <td>-30.598571</td>\n      <td>5.485714</td>\n      <td>-196624.800</td>\n      <td>2.300000</td>\n    </tr>\n    <tr>\n      <th>2009-01-25</th>\n      <td>4.2</td>\n      <td>-30.130000</td>\n      <td>8.585714</td>\n      <td>-162883.872</td>\n      <td>2.357143</td>\n    </tr>\n    <tr>\n      <th>2009-02-01</th>\n      <td>0.0</td>\n      <td>-29.907143</td>\n      <td>4.728571</td>\n      <td>-171409.824</td>\n      <td>2.571429</td>\n    </tr>\n    <tr>\n      <th>...</th>\n      <td>...</td>\n      <td>...</td>\n      <td>...</td>\n      <td>...</td>\n      <td>...</td>\n    </tr>\n    <tr>\n      <th>2020-06-07</th>\n      <td>19.6</td>\n      <td>-24.652857</td>\n      <td>19.271429</td>\n      <td>-179465.760</td>\n      <td>2.442857</td>\n    </tr>\n    <tr>\n      <th>2020-06-14</th>\n      <td>43.0</td>\n      <td>-24.724286</td>\n      <td>18.428571</td>\n      <td>-180633.888</td>\n      <td>2.771429</td>\n    </tr>\n    <tr>\n      <th>2020-06-21</th>\n      <td>7.4</td>\n      <td>-24.752857</td>\n      <td>20.385714</td>\n      <td>-192335.472</td>\n      <td>2.728571</td>\n    </tr>\n    <tr>\n      <th>2020-06-28</th>\n      <td>0.0</td>\n      <td>-25.017143</td>\n      <td>24.928571</td>\n      <td>-209810.304</td>\n      <td>2.485714</td>\n    </tr>\n    <tr>\n      <th>2020-07-05</th>\n      <td>0.0</td>\n      <td>-25.215000</td>\n      <td>27.100000</td>\n      <td>-62481.024</td>\n      <td>2.400000</td>\n    </tr>\n  </tbody>\n</table>\n<p>601 rows × 5 columns</p>\n</div>"
     },
     "execution_count": 25,
     "metadata": {},
     "output_type": "execute_result"
    }
   ],
   "source": [
    "df"
   ],
   "metadata": {
    "collapsed": false,
    "pycharm": {
     "name": "#%%\n"
    }
   }
  },
  {
   "cell_type": "code",
   "execution_count": 26,
   "outputs": [],
   "source": [
    "df_trimmed = df.iloc[1:-1]"
   ],
   "metadata": {
    "collapsed": false,
    "pycharm": {
     "name": "#%%\n"
    }
   }
  },
  {
   "cell_type": "code",
   "execution_count": 27,
   "outputs": [
    {
     "data": {
      "text/plain": "            Rainfall  Depth_to_Groundwater  Temperature  Drainage_Volume  \\\nDate                                                                       \n2009-01-11       0.9            -30.934286     1.914286      -212164.704   \n2009-01-18       1.2            -30.598571     5.485714      -196624.800   \n2009-01-25       4.2            -30.130000     8.585714      -162883.872   \n2009-02-01       0.0            -29.907143     4.728571      -171409.824   \n2009-02-08      10.4            -29.608571     8.671429      -179798.400   \n...              ...                   ...          ...              ...   \n2020-05-31      22.2            -24.761429    16.885714      -183938.688   \n2020-06-07      19.6            -24.652857    19.271429      -179465.760   \n2020-06-14      43.0            -24.724286    18.428571      -180633.888   \n2020-06-21       7.4            -24.752857    20.385714      -192335.472   \n2020-06-28       0.0            -25.017143    24.928571      -209810.304   \n\n            River_Hydrometry  \nDate                          \n2009-01-11          2.314286  \n2009-01-18          2.300000  \n2009-01-25          2.357143  \n2009-02-01          2.571429  \n2009-02-08          2.628571  \n...                      ...  \n2020-05-31          2.414286  \n2020-06-07          2.442857  \n2020-06-14          2.771429  \n2020-06-21          2.728571  \n2020-06-28          2.485714  \n\n[599 rows x 5 columns]",
      "text/html": "<div>\n<style scoped>\n    .dataframe tbody tr th:only-of-type {\n        vertical-align: middle;\n    }\n\n    .dataframe tbody tr th {\n        vertical-align: top;\n    }\n\n    .dataframe thead th {\n        text-align: right;\n    }\n</style>\n<table border=\"1\" class=\"dataframe\">\n  <thead>\n    <tr style=\"text-align: right;\">\n      <th></th>\n      <th>Rainfall</th>\n      <th>Depth_to_Groundwater</th>\n      <th>Temperature</th>\n      <th>Drainage_Volume</th>\n      <th>River_Hydrometry</th>\n    </tr>\n    <tr>\n      <th>Date</th>\n      <th></th>\n      <th></th>\n      <th></th>\n      <th></th>\n      <th></th>\n    </tr>\n  </thead>\n  <tbody>\n    <tr>\n      <th>2009-01-11</th>\n      <td>0.9</td>\n      <td>-30.934286</td>\n      <td>1.914286</td>\n      <td>-212164.704</td>\n      <td>2.314286</td>\n    </tr>\n    <tr>\n      <th>2009-01-18</th>\n      <td>1.2</td>\n      <td>-30.598571</td>\n      <td>5.485714</td>\n      <td>-196624.800</td>\n      <td>2.300000</td>\n    </tr>\n    <tr>\n      <th>2009-01-25</th>\n      <td>4.2</td>\n      <td>-30.130000</td>\n      <td>8.585714</td>\n      <td>-162883.872</td>\n      <td>2.357143</td>\n    </tr>\n    <tr>\n      <th>2009-02-01</th>\n      <td>0.0</td>\n      <td>-29.907143</td>\n      <td>4.728571</td>\n      <td>-171409.824</td>\n      <td>2.571429</td>\n    </tr>\n    <tr>\n      <th>2009-02-08</th>\n      <td>10.4</td>\n      <td>-29.608571</td>\n      <td>8.671429</td>\n      <td>-179798.400</td>\n      <td>2.628571</td>\n    </tr>\n    <tr>\n      <th>...</th>\n      <td>...</td>\n      <td>...</td>\n      <td>...</td>\n      <td>...</td>\n      <td>...</td>\n    </tr>\n    <tr>\n      <th>2020-05-31</th>\n      <td>22.2</td>\n      <td>-24.761429</td>\n      <td>16.885714</td>\n      <td>-183938.688</td>\n      <td>2.414286</td>\n    </tr>\n    <tr>\n      <th>2020-06-07</th>\n      <td>19.6</td>\n      <td>-24.652857</td>\n      <td>19.271429</td>\n      <td>-179465.760</td>\n      <td>2.442857</td>\n    </tr>\n    <tr>\n      <th>2020-06-14</th>\n      <td>43.0</td>\n      <td>-24.724286</td>\n      <td>18.428571</td>\n      <td>-180633.888</td>\n      <td>2.771429</td>\n    </tr>\n    <tr>\n      <th>2020-06-21</th>\n      <td>7.4</td>\n      <td>-24.752857</td>\n      <td>20.385714</td>\n      <td>-192335.472</td>\n      <td>2.728571</td>\n    </tr>\n    <tr>\n      <th>2020-06-28</th>\n      <td>0.0</td>\n      <td>-25.017143</td>\n      <td>24.928571</td>\n      <td>-209810.304</td>\n      <td>2.485714</td>\n    </tr>\n  </tbody>\n</table>\n<p>599 rows × 5 columns</p>\n</div>"
     },
     "execution_count": 27,
     "metadata": {},
     "output_type": "execute_result"
    }
   ],
   "source": [
    "df_trimmed"
   ],
   "metadata": {
    "collapsed": false,
    "pycharm": {
     "name": "#%%\n"
    }
   }
  },
  {
   "cell_type": "code",
   "execution_count": 28,
   "outputs": [],
   "source": [
    "df_trimmed.to_csv('files/interploated_w.csv')"
   ],
   "metadata": {
    "collapsed": false,
    "pycharm": {
     "name": "#%%\n"
    }
   }
  },
  {
   "cell_type": "code",
   "execution_count": 30,
   "outputs": [],
   "source": [
    "df = pd.read_csv(\"./files/scaled_m.csv\", index_col=0)\n",
    "df.index = pd.to_datetime(df.index, format = '%Y-%m-%d')"
   ],
   "metadata": {
    "collapsed": false,
    "pycharm": {
     "name": "#%%\n"
    }
   }
  },
  {
   "cell_type": "code",
   "execution_count": 31,
   "outputs": [
    {
     "data": {
      "text/plain": "            Rainfall  Depth_to_Groundwater  Temperature  Drainage_Volume  \\\nDate                                                                       \n2009-01-31  0.032915              0.216100     0.068714         0.726750   \n2009-02-28  0.073145              0.296982     0.074975         0.936674   \n2009-03-31  0.178683              0.356360     0.236094         0.627008   \n2009-04-30  0.085162              0.410094     0.413676         0.693265   \n2009-05-31  0.149425              0.428197     0.647873         0.400633   \n...              ...                   ...          ...              ...   \n2020-02-29  0.097179              0.583554     0.225748         0.736863   \n2020-03-31  0.366771              0.605731     0.255726         0.721515   \n2020-04-30  0.217346              0.615560     0.421868         0.896287   \n2020-05-31  0.238245              0.621753     0.606720         0.880603   \n2020-06-30  0.365726              0.614845     0.701204         0.732156   \n\n            River_Hydrometry  \nDate                          \n2009-01-31          0.396506  \n2009-02-28          0.508567  \n2009-03-31          0.469107  \n2009-04-30          0.407926  \n2009-05-31          0.201392  \n...                      ...  \n2020-02-29          0.420133  \n2020-03-31          0.632459  \n2020-04-30          0.475913  \n2020-05-31          0.455494  \n2020-06-30          0.541556  \n\n[138 rows x 5 columns]",
      "text/html": "<div>\n<style scoped>\n    .dataframe tbody tr th:only-of-type {\n        vertical-align: middle;\n    }\n\n    .dataframe tbody tr th {\n        vertical-align: top;\n    }\n\n    .dataframe thead th {\n        text-align: right;\n    }\n</style>\n<table border=\"1\" class=\"dataframe\">\n  <thead>\n    <tr style=\"text-align: right;\">\n      <th></th>\n      <th>Rainfall</th>\n      <th>Depth_to_Groundwater</th>\n      <th>Temperature</th>\n      <th>Drainage_Volume</th>\n      <th>River_Hydrometry</th>\n    </tr>\n    <tr>\n      <th>Date</th>\n      <th></th>\n      <th></th>\n      <th></th>\n      <th></th>\n      <th></th>\n    </tr>\n  </thead>\n  <tbody>\n    <tr>\n      <th>2009-01-31</th>\n      <td>0.032915</td>\n      <td>0.216100</td>\n      <td>0.068714</td>\n      <td>0.726750</td>\n      <td>0.396506</td>\n    </tr>\n    <tr>\n      <th>2009-02-28</th>\n      <td>0.073145</td>\n      <td>0.296982</td>\n      <td>0.074975</td>\n      <td>0.936674</td>\n      <td>0.508567</td>\n    </tr>\n    <tr>\n      <th>2009-03-31</th>\n      <td>0.178683</td>\n      <td>0.356360</td>\n      <td>0.236094</td>\n      <td>0.627008</td>\n      <td>0.469107</td>\n    </tr>\n    <tr>\n      <th>2009-04-30</th>\n      <td>0.085162</td>\n      <td>0.410094</td>\n      <td>0.413676</td>\n      <td>0.693265</td>\n      <td>0.407926</td>\n    </tr>\n    <tr>\n      <th>2009-05-31</th>\n      <td>0.149425</td>\n      <td>0.428197</td>\n      <td>0.647873</td>\n      <td>0.400633</td>\n      <td>0.201392</td>\n    </tr>\n    <tr>\n      <th>...</th>\n      <td>...</td>\n      <td>...</td>\n      <td>...</td>\n      <td>...</td>\n      <td>...</td>\n    </tr>\n    <tr>\n      <th>2020-02-29</th>\n      <td>0.097179</td>\n      <td>0.583554</td>\n      <td>0.225748</td>\n      <td>0.736863</td>\n      <td>0.420133</td>\n    </tr>\n    <tr>\n      <th>2020-03-31</th>\n      <td>0.366771</td>\n      <td>0.605731</td>\n      <td>0.255726</td>\n      <td>0.721515</td>\n      <td>0.632459</td>\n    </tr>\n    <tr>\n      <th>2020-04-30</th>\n      <td>0.217346</td>\n      <td>0.615560</td>\n      <td>0.421868</td>\n      <td>0.896287</td>\n      <td>0.475913</td>\n    </tr>\n    <tr>\n      <th>2020-05-31</th>\n      <td>0.238245</td>\n      <td>0.621753</td>\n      <td>0.606720</td>\n      <td>0.880603</td>\n      <td>0.455494</td>\n    </tr>\n    <tr>\n      <th>2020-06-30</th>\n      <td>0.365726</td>\n      <td>0.614845</td>\n      <td>0.701204</td>\n      <td>0.732156</td>\n      <td>0.541556</td>\n    </tr>\n  </tbody>\n</table>\n<p>138 rows × 5 columns</p>\n</div>"
     },
     "execution_count": 31,
     "metadata": {},
     "output_type": "execute_result"
    }
   ],
   "source": [
    "df"
   ],
   "metadata": {
    "collapsed": false,
    "pycharm": {
     "name": "#%%\n"
    }
   }
  },
  {
   "cell_type": "code",
   "execution_count": 32,
   "outputs": [
    {
     "data": {
      "text/plain": "            year  month  quarter  season\nDate                                    \n2009-01-31  2009      1        1       1\n2009-02-28  2009      2        1       1\n2009-03-31  2009      3        1       2\n2009-04-30  2009      4        2       2\n2009-05-31  2009      5        2       2\n...          ...    ...      ...     ...\n2020-02-29  2020      2        1       1\n2020-03-31  2020      3        1       2\n2020-04-30  2020      4        2       2\n2020-05-31  2020      5        2       2\n2020-06-30  2020      6        2       3\n\n[138 rows x 4 columns]",
      "text/html": "<div>\n<style scoped>\n    .dataframe tbody tr th:only-of-type {\n        vertical-align: middle;\n    }\n\n    .dataframe tbody tr th {\n        vertical-align: top;\n    }\n\n    .dataframe thead th {\n        text-align: right;\n    }\n</style>\n<table border=\"1\" class=\"dataframe\">\n  <thead>\n    <tr style=\"text-align: right;\">\n      <th></th>\n      <th>year</th>\n      <th>month</th>\n      <th>quarter</th>\n      <th>season</th>\n    </tr>\n    <tr>\n      <th>Date</th>\n      <th></th>\n      <th></th>\n      <th></th>\n      <th></th>\n    </tr>\n  </thead>\n  <tbody>\n    <tr>\n      <th>2009-01-31</th>\n      <td>2009</td>\n      <td>1</td>\n      <td>1</td>\n      <td>1</td>\n    </tr>\n    <tr>\n      <th>2009-02-28</th>\n      <td>2009</td>\n      <td>2</td>\n      <td>1</td>\n      <td>1</td>\n    </tr>\n    <tr>\n      <th>2009-03-31</th>\n      <td>2009</td>\n      <td>3</td>\n      <td>1</td>\n      <td>2</td>\n    </tr>\n    <tr>\n      <th>2009-04-30</th>\n      <td>2009</td>\n      <td>4</td>\n      <td>2</td>\n      <td>2</td>\n    </tr>\n    <tr>\n      <th>2009-05-31</th>\n      <td>2009</td>\n      <td>5</td>\n      <td>2</td>\n      <td>2</td>\n    </tr>\n    <tr>\n      <th>...</th>\n      <td>...</td>\n      <td>...</td>\n      <td>...</td>\n      <td>...</td>\n    </tr>\n    <tr>\n      <th>2020-02-29</th>\n      <td>2020</td>\n      <td>2</td>\n      <td>1</td>\n      <td>1</td>\n    </tr>\n    <tr>\n      <th>2020-03-31</th>\n      <td>2020</td>\n      <td>3</td>\n      <td>1</td>\n      <td>2</td>\n    </tr>\n    <tr>\n      <th>2020-04-30</th>\n      <td>2020</td>\n      <td>4</td>\n      <td>2</td>\n      <td>2</td>\n    </tr>\n    <tr>\n      <th>2020-05-31</th>\n      <td>2020</td>\n      <td>5</td>\n      <td>2</td>\n      <td>2</td>\n    </tr>\n    <tr>\n      <th>2020-06-30</th>\n      <td>2020</td>\n      <td>6</td>\n      <td>2</td>\n      <td>3</td>\n    </tr>\n  </tbody>\n</table>\n<p>138 rows × 4 columns</p>\n</div>"
     },
     "execution_count": 32,
     "metadata": {},
     "output_type": "execute_result"
    }
   ],
   "source": [
    "df['year'] = df.index.year\n",
    "df['month'] = df.index.month\n",
    "#df['day'] = df.index.day\n",
    "#df['day_of_year'] = df.index.dayofyear\n",
    "#df['week_of_year'] = df.index.weekofyear\n",
    "df['quarter'] = df.index.quarter\n",
    "df['season'] = df.month%12 // 3 + 1\n",
    "\n",
    "#df[['year', 'month', 'day', 'day_of_year', 'week_of_year', 'quarter', 'season']]\n",
    "#df[['year', 'month',  'week_of_year', 'quarter', 'season']]\n",
    "df[['year', 'month', 'quarter', 'season']]"
   ],
   "metadata": {
    "collapsed": false,
    "pycharm": {
     "name": "#%%\n"
    }
   }
  },
  {
   "cell_type": "code",
   "execution_count": 33,
   "outputs": [
    {
     "data": {
      "text/plain": "<Axes: xlabel='month_sin', ylabel='month_cos'>"
     },
     "execution_count": 33,
     "metadata": {},
     "output_type": "execute_result"
    },
    {
     "data": {
      "text/plain": "<Figure size 600x600 with 1 Axes>",
      "image/png": "[encoded data removed]"
     },
     "metadata": {},
     "output_type": "display_data"
    }
   ],
   "source": [
    "from matplotlib import pyplot as plt\n",
    "import seaborn as sns\n",
    "\n",
    "month_in_year = 12\n",
    "df['month_sin'] = np.sin(2 * np.pi * df.month / month_in_year)\n",
    "df['month_cos'] = np.cos(2 * np.pi * df.month / month_in_year)\n",
    "# days_in_month = 30\n",
    "# df['day_sin'] = np.sin(2 * np.pi * df.day / days_in_month)\n",
    "# df['day_cos'] = np.cos(2 * np.pi * df.day / days_in_month)\n",
    "\n",
    "# days_in_year = 365\n",
    "# df['day_of_year_sin'] = np.sin(2 * np.pi * df.day_of_year / days_in_year)\n",
    "# df['day_of_year_cos'] = np.cos(2 * np.pi * df.day_of_year / days_in_year)\n",
    "\n",
    "# weeks_in_year = 52.1429\n",
    "# df['week_of_year_sin'] = np.sin(2 * np.pi * df.week_of_year / weeks_in_year)\n",
    "# df['week_of_year_cos'] = np.cos(2 * np.pi * df.week_of_year / weeks_in_year)\n",
    "\n",
    "quarters_in_year = 4\n",
    "df['quarter_sin'] = np.sin(2 * np.pi * df.quarter / quarters_in_year)\n",
    "df['quarter_cos'] = np.cos(2 * np.pi * df.quarter / quarters_in_year)\n",
    "\n",
    "seasons_in_year = 4\n",
    "df['season_sin'] = np.sin(2 * np.pi * df.season / seasons_in_year)\n",
    "df['season_cos'] = np.cos(2 * np.pi * df.season / seasons_in_year)\n",
    "\n",
    "f, ax = plt.subplots(nrows=1, ncols=1, figsize=(6, 6))\n",
    "\n",
    "sns.scatterplot(x=df.month_sin, y=df.month_cos, color='dodgerblue')"
   ],
   "metadata": {
    "collapsed": false,
    "pycharm": {
     "name": "#%%\n"
    }
   }
  },
  {
   "cell_type": "code",
   "execution_count": 34,
   "outputs": [
    {
     "data": {
      "text/plain": "            Rainfall  Depth_to_Groundwater  Temperature  Drainage_Volume  \\\nDate                                                                       \n2009-01-31  0.032915              0.216100     0.068714         0.726750   \n2009-02-28  0.073145              0.296982     0.074975         0.936674   \n2009-03-31  0.178683              0.356360     0.236094         0.627008   \n2009-04-30  0.085162              0.410094     0.413676         0.693265   \n2009-05-31  0.149425              0.428197     0.647873         0.400633   \n...              ...                   ...          ...              ...   \n2020-02-29  0.097179              0.583554     0.225748         0.736863   \n2020-03-31  0.366771              0.605731     0.255726         0.721515   \n2020-04-30  0.217346              0.615560     0.421868         0.896287   \n2020-05-31  0.238245              0.621753     0.606720         0.880603   \n2020-06-30  0.365726              0.614845     0.701204         0.732156   \n\n            River_Hydrometry  year  month  quarter  season     month_sin  \\\nDate                                                                       \n2009-01-31          0.396506  2009      1        1       1  5.000000e-01   \n2009-02-28          0.508567  2009      2        1       1  8.660254e-01   \n2009-03-31          0.469107  2009      3        1       2  1.000000e+00   \n2009-04-30          0.407926  2009      4        2       2  8.660254e-01   \n2009-05-31          0.201392  2009      5        2       2  5.000000e-01   \n...                      ...   ...    ...      ...     ...           ...   \n2020-02-29          0.420133  2020      2        1       1  8.660254e-01   \n2020-03-31          0.632459  2020      3        1       2  1.000000e+00   \n2020-04-30          0.475913  2020      4        2       2  8.660254e-01   \n2020-05-31          0.455494  2020      5        2       2  5.000000e-01   \n2020-06-30          0.541556  2020      6        2       3  1.224647e-16   \n\n               month_cos   quarter_sin   quarter_cos    season_sin  \\\nDate                                                                 \n2009-01-31  8.660254e-01  1.000000e+00  6.123234e-17  1.000000e+00   \n2009-02-28  5.000000e-01  1.000000e+00  6.123234e-17  1.000000e+00   \n2009-03-31  6.123234e-17  1.000000e+00  6.123234e-17  1.224647e-16   \n2009-04-30 -5.000000e-01  1.224647e-16 -1.000000e+00  1.224647e-16   \n2009-05-31 -8.660254e-01  1.224647e-16 -1.000000e+00  1.224647e-16   \n...                  ...           ...           ...           ...   \n2020-02-29  5.000000e-01  1.000000e+00  6.123234e-17  1.000000e+00   \n2020-03-31  6.123234e-17  1.000000e+00  6.123234e-17  1.224647e-16   \n2020-04-30 -5.000000e-01  1.224647e-16 -1.000000e+00  1.224647e-16   \n2020-05-31 -8.660254e-01  1.224647e-16 -1.000000e+00  1.224647e-16   \n2020-06-30 -1.000000e+00  1.224647e-16 -1.000000e+00 -1.000000e+00   \n\n              season_cos  \nDate                      \n2009-01-31  6.123234e-17  \n2009-02-28  6.123234e-17  \n2009-03-31 -1.000000e+00  \n2009-04-30 -1.000000e+00  \n2009-05-31 -1.000000e+00  \n...                  ...  \n2020-02-29  6.123234e-17  \n2020-03-31 -1.000000e+00  \n2020-04-30 -1.000000e+00  \n2020-05-31 -1.000000e+00  \n2020-06-30 -1.836970e-16  \n\n[138 rows x 15 columns]",
      "text/html": "<div>\n<style scoped>\n    .dataframe tbody tr th:only-of-type {\n        vertical-align: middle;\n    }\n\n    .dataframe tbody tr th {\n        vertical-align: top;\n    }\n\n    .dataframe thead th {\n        text-align: right;\n    }\n</style>\n<table border=\"1\" class=\"dataframe\">\n  <thead>\n    <tr style=\"text-align: right;\">\n      <th></th>\n      <th>Rainfall</th>\n      <th>Depth_to_Groundwater</th>\n      <th>Temperature</th>\n      <th>Drainage_Volume</th>\n      <th>River_Hydrometry</th>\n      <th>year</th>\n      <th>month</th>\n      <th>quarter</th>\n      <th>season</th>\n      <th>month_sin</th>\n      <th>month_cos</th>\n      <th>quarter_sin</th>\n      <th>quarter_cos</th>\n      <th>season_sin</th>\n      <th>season_cos</th>\n    </tr>\n    <tr>\n      <th>Date</th>\n      <th></th>\n      <th></th>\n      <th></th>\n      <th></th>\n      <th></th>\n      <th></th>\n      <th></th>\n      <th></th>\n      <th></th>\n      <th></th>\n      <th></th>\n      <th></th>\n      <th></th>\n      <th></th>\n      <th></th>\n    </tr>\n  </thead>\n  <tbody>\n    <tr>\n      <th>2009-01-31</th>\n      <td>0.032915</td>\n      <td>0.216100</td>\n      <td>0.068714</td>\n      <td>0.726750</td>\n      <td>0.396506</td>\n      <td>2009</td>\n      <td>1</td>\n      <td>1</td>\n      <td>1</td>\n      <td>5.000000e-01</td>\n      <td>8.660254e-01</td>\n      <td>1.000000e+00</td>\n      <td>6.123234e-17</td>\n      <td>1.000000e+00</td>\n      <td>6.123234e-17</td>\n    </tr>\n    <tr>\n      <th>2009-02-28</th>\n      <td>0.073145</td>\n      <td>0.296982</td>\n      <td>0.074975</td>\n      <td>0.936674</td>\n      <td>0.508567</td>\n      <td>2009</td>\n      <td>2</td>\n      <td>1</td>\n      <td>1</td>\n      <td>8.660254e-01</td>\n      <td>5.000000e-01</td>\n      <td>1.000000e+00</td>\n      <td>6.123234e-17</td>\n      <td>1.000000e+00</td>\n      <td>6.123234e-17</td>\n    </tr>\n    <tr>\n      <th>2009-03-31</th>\n      <td>0.178683</td>\n      <td>0.356360</td>\n      <td>0.236094</td>\n      <td>0.627008</td>\n      <td>0.469107</td>\n      <td>2009</td>\n      <td>3</td>\n      <td>1</td>\n      <td>2</td>\n      <td>1.000000e+00</td>\n      <td>6.123234e-17</td>\n      <td>1.000000e+00</td>\n      <td>6.123234e-17</td>\n      <td>1.224647e-16</td>\n      <td>-1.000000e+00</td>\n    </tr>\n    <tr>\n      <th>2009-04-30</th>\n      <td>0.085162</td>\n      <td>0.410094</td>\n      <td>0.413676</td>\n      <td>0.693265</td>\n      <td>0.407926</td>\n      <td>2009</td>\n      <td>4</td>\n      <td>2</td>\n      <td>2</td>\n      <td>8.660254e-01</td>\n      <td>-5.000000e-01</td>\n      <td>1.224647e-16</td>\n      <td>-1.000000e+00</td>\n      <td>1.224647e-16</td>\n      <td>-1.000000e+00</td>\n    </tr>\n    <tr>\n      <th>2009-05-31</th>\n      <td>0.149425</td>\n      <td>0.428197</td>\n      <td>0.647873</td>\n      <td>0.400633</td>\n      <td>0.201392</td>\n      <td>2009</td>\n      <td>5</td>\n      <td>2</td>\n      <td>2</td>\n      <td>5.000000e-01</td>\n      <td>-8.660254e-01</td>\n      <td>1.224647e-16</td>\n      <td>-1.000000e+00</td>\n      <td>1.224647e-16</td>\n      <td>-1.000000e+00</td>\n    </tr>\n    <tr>\n      <th>...</th>\n      <td>...</td>\n      <td>...</td>\n      <td>...</td>\n      <td>...</td>\n      <td>...</td>\n      <td>...</td>\n      <td>...</td>\n      <td>...</td>\n      <td>...</td>\n      <td>...</td>\n      <td>...</td>\n      <td>...</td>\n      <td>...</td>\n      <td>...</td>\n      <td>...</td>\n    </tr>\n    <tr>\n      <th>2020-02-29</th>\n      <td>0.097179</td>\n      <td>0.583554</td>\n      <td>0.225748</td>\n      <td>0.736863</td>\n      <td>0.420133</td>\n      <td>2020</td>\n      <td>2</td>\n      <td>1</td>\n      <td>1</td>\n      <td>8.660254e-01</td>\n      <td>5.000000e-01</td>\n      <td>1.000000e+00</td>\n      <td>6.123234e-17</td>\n      <td>1.000000e+00</td>\n      <td>6.123234e-17</td>\n    </tr>\n    <tr>\n      <th>2020-03-31</th>\n      <td>0.366771</td>\n      <td>0.605731</td>\n      <td>0.255726</td>\n      <td>0.721515</td>\n      <td>0.632459</td>\n      <td>2020</td>\n      <td>3</td>\n      <td>1</td>\n      <td>2</td>\n      <td>1.000000e+00</td>\n      <td>6.123234e-17</td>\n      <td>1.000000e+00</td>\n      <td>6.123234e-17</td>\n      <td>1.224647e-16</td>\n      <td>-1.000000e+00</td>\n    </tr>\n    <tr>\n      <th>2020-04-30</th>\n      <td>0.217346</td>\n      <td>0.615560</td>\n      <td>0.421868</td>\n      <td>0.896287</td>\n      <td>0.475913</td>\n      <td>2020</td>\n      <td>4</td>\n      <td>2</td>\n      <td>2</td>\n      <td>8.660254e-01</td>\n      <td>-5.000000e-01</td>\n      <td>1.224647e-16</td>\n      <td>-1.000000e+00</td>\n      <td>1.224647e-16</td>\n      <td>-1.000000e+00</td>\n    </tr>\n    <tr>\n      <th>2020-05-31</th>\n      <td>0.238245</td>\n      <td>0.621753</td>\n      <td>0.606720</td>\n      <td>0.880603</td>\n      <td>0.455494</td>\n      <td>2020</td>\n      <td>5</td>\n      <td>2</td>\n      <td>2</td>\n      <td>5.000000e-01</td>\n      <td>-8.660254e-01</td>\n      <td>1.224647e-16</td>\n      <td>-1.000000e+00</td>\n      <td>1.224647e-16</td>\n      <td>-1.000000e+00</td>\n    </tr>\n    <tr>\n      <th>2020-06-30</th>\n      <td>0.365726</td>\n      <td>0.614845</td>\n      <td>0.701204</td>\n      <td>0.732156</td>\n      <td>0.541556</td>\n      <td>2020</td>\n      <td>6</td>\n      <td>2</td>\n      <td>3</td>\n      <td>1.224647e-16</td>\n      <td>-1.000000e+00</td>\n      <td>1.224647e-16</td>\n      <td>-1.000000e+00</td>\n      <td>-1.000000e+00</td>\n      <td>-1.836970e-16</td>\n    </tr>\n  </tbody>\n</table>\n<p>138 rows × 15 columns</p>\n</div>"
     },
     "execution_count": 34,
     "metadata": {},
     "output_type": "execute_result"
    }
   ],
   "source": [
    "df"
   ],
   "metadata": {
    "collapsed": false,
    "pycharm": {
     "name": "#%%\n"
    }
   }
  },
  {
   "cell_type": "code",
   "execution_count": 35,
   "outputs": [],
   "source": [
    "df.to_csv('files/cycl_m.csv')"
   ],
   "metadata": {
    "collapsed": false,
    "pycharm": {
     "name": "#%%\n"
    }
   }
  },
  {
   "cell_type": "code",
   "execution_count": null,
   "outputs": [],
   "source": [],
   "metadata": {
    "collapsed": false,
    "pycharm": {
     "name": "#%%\n"
    }
   }
  }
 ],
 "metadata": {
  "kernelspec": {
   "display_name": "Python 3",
   "language": "python",
   "name": "python3"
  },
  "language_info": {
   "codemirror_mode": {
    "name": "ipython",
    "version": 2
   },
   "file_extension": ".py",
   "mimetype": "text/x-python",
   "name": "python",
   "nbconvert_exporter": "python",
   "pygments_lexer": "ipython2",
   "version": "2.7.6"
  }
 },
 "nbformat": 4,
 "nbformat_minor": 0
}