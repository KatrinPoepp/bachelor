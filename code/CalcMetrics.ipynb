{
 "cells": [
  {
   "cell_type": "code",
   "execution_count": 7,
   "outputs": [],
   "source": [
    "import numpy as np  # linear algebra\n",
    "import pandas as pd  # data processing, CSV file I/O (e.g. pd.read_csv)"
   ],
   "metadata": {
    "collapsed": false,
    "pycharm": {
     "name": "#%%\n"
    }
   }
  },
  {
   "cell_type": "code",
   "execution_count": 20,
   "outputs": [],
   "source": [
    "num = 2\n",
    "model = \"ARIMA\""
   ],
   "metadata": {
    "collapsed": false,
    "pycharm": {
     "name": "#%%\n"
    }
   }
  },
  {
   "cell_type": "code",
   "execution_count": 21,
   "outputs": [],
   "source": [
    "df = pd.read_csv(\"./files/interpolated_w.csv\", index_col=0)\n",
    "df.index = pd.to_datetime(df.index, format = '%Y-%m-%d')"
   ],
   "metadata": {
    "collapsed": false,
    "pycharm": {
     "name": "#%%\n"
    }
   }
  },
  {
   "cell_type": "code",
   "execution_count": 22,
   "outputs": [],
   "source": [
    "preds = pd.read_csv(\"./predictions/\"+model+\"/\"+str(num)+\".csv\", index_col=0)\n",
    "preds.index = pd.to_datetime(preds.index, format = '%Y-%m-%d')"
   ],
   "metadata": {
    "collapsed": false,
    "pycharm": {
     "name": "#%%\n"
    }
   }
  },
  {
   "cell_type": "code",
   "execution_count": 23,
   "outputs": [
    {
     "data": {
      "text/plain": "             Rainfall  Depth_to_Groundwater  Temperature  Drainage_Volume  \\\n2017-01-29  14.427634            -23.697495     4.738158   -180401.564048   \n2017-02-05  13.817573            -23.610478     4.897174   -177507.156389   \n2017-02-12  15.188064            -23.449970     7.280185   -175121.106689   \n2017-02-19  15.180846            -23.518224     6.492589   -176539.724712   \n2017-02-26  14.643441            -23.466651     6.932556   -169818.902112   \n...               ...                   ...          ...              ...   \n2020-06-07  13.801858            -24.780747    20.851859   -182571.016494   \n2020-06-14  13.681304            -24.611395    22.500546   -176478.758671   \n2020-06-21  16.929065            -24.761679    22.324470   -179552.808803   \n2020-06-28  12.886534            -24.751379    23.560890   -190137.617697   \n2020-07-05  11.792138            -25.151518    25.117223   -205018.199114   \n\n            River_Hydrometry  \n2017-01-29          2.831478  \n2017-02-05          2.838014  \n2017-02-12          2.839193  \n2017-02-19          3.055875  \n2017-02-26          2.889114  \n...                      ...  \n2020-06-07          2.439211  \n2020-06-14          2.454017  \n2020-06-21          2.708864  \n2020-06-28          2.705996  \n2020-07-05          2.518684  \n\n[180 rows x 5 columns]",
      "text/html": "<div>\n<style scoped>\n    .dataframe tbody tr th:only-of-type {\n        vertical-align: middle;\n    }\n\n    .dataframe tbody tr th {\n        vertical-align: top;\n    }\n\n    .dataframe thead th {\n        text-align: right;\n    }\n</style>\n<table border=\"1\" class=\"dataframe\">\n  <thead>\n    <tr style=\"text-align: right;\">\n      <th></th>\n      <th>Rainfall</th>\n      <th>Depth_to_Groundwater</th>\n      <th>Temperature</th>\n      <th>Drainage_Volume</th>\n      <th>River_Hydrometry</th>\n    </tr>\n  </thead>\n  <tbody>\n    <tr>\n      <th>2017-01-29</th>\n      <td>14.427634</td>\n      <td>-23.697495</td>\n      <td>4.738158</td>\n      <td>-180401.564048</td>\n      <td>2.831478</td>\n    </tr>\n    <tr>\n      <th>2017-02-05</th>\n      <td>13.817573</td>\n      <td>-23.610478</td>\n      <td>4.897174</td>\n      <td>-177507.156389</td>\n      <td>2.838014</td>\n    </tr>\n    <tr>\n      <th>2017-02-12</th>\n      <td>15.188064</td>\n      <td>-23.449970</td>\n      <td>7.280185</td>\n      <td>-175121.106689</td>\n      <td>2.839193</td>\n    </tr>\n    <tr>\n      <th>2017-02-19</th>\n      <td>15.180846</td>\n      <td>-23.518224</td>\n      <td>6.492589</td>\n      <td>-176539.724712</td>\n      <td>3.055875</td>\n    </tr>\n    <tr>\n      <th>2017-02-26</th>\n      <td>14.643441</td>\n      <td>-23.466651</td>\n      <td>6.932556</td>\n      <td>-169818.902112</td>\n      <td>2.889114</td>\n    </tr>\n    <tr>\n      <th>...</th>\n      <td>...</td>\n      <td>...</td>\n      <td>...</td>\n      <td>...</td>\n      <td>...</td>\n    </tr>\n    <tr>\n      <th>2020-06-07</th>\n      <td>13.801858</td>\n      <td>-24.780747</td>\n      <td>20.851859</td>\n      <td>-182571.016494</td>\n      <td>2.439211</td>\n    </tr>\n    <tr>\n      <th>2020-06-14</th>\n      <td>13.681304</td>\n      <td>-24.611395</td>\n      <td>22.500546</td>\n      <td>-176478.758671</td>\n      <td>2.454017</td>\n    </tr>\n    <tr>\n      <th>2020-06-21</th>\n      <td>16.929065</td>\n      <td>-24.761679</td>\n      <td>22.324470</td>\n      <td>-179552.808803</td>\n      <td>2.708864</td>\n    </tr>\n    <tr>\n      <th>2020-06-28</th>\n      <td>12.886534</td>\n      <td>-24.751379</td>\n      <td>23.560890</td>\n      <td>-190137.617697</td>\n      <td>2.705996</td>\n    </tr>\n    <tr>\n      <th>2020-07-05</th>\n      <td>11.792138</td>\n      <td>-25.151518</td>\n      <td>25.117223</td>\n      <td>-205018.199114</td>\n      <td>2.518684</td>\n    </tr>\n  </tbody>\n</table>\n<p>180 rows × 5 columns</p>\n</div>"
     },
     "execution_count": 23,
     "metadata": {},
     "output_type": "execute_result"
    }
   ],
   "source": [
    "preds"
   ],
   "metadata": {
    "collapsed": false,
    "pycharm": {
     "name": "#%%\n"
    }
   }
  },
  {
   "cell_type": "code",
   "execution_count": 24,
   "outputs": [],
   "source": [
    "metrics = {}\n",
    "def calc_metrics(name):\n",
    "\n",
    "    results = pd.DataFrame(data={'Predictions':preds[name], 'Actuals':df[name]}, index=preds.index)\n",
    "\n",
    "    # Step 2: Calculate the differences between the predicted and actual values\n",
    "    results['Difference'] = results['Actuals'] - results['Predictions']\n",
    "\n",
    "    # Step 3: Calculate squared differences for RMSE\n",
    "    results['Squared_difference'] = results['Difference'] ** 2\n",
    "\n",
    "    # Step 4: Calculate absolute differences for MAE and MAPE\n",
    "    results['Absolute_difference'] = np.abs(results['Difference'])\n",
    "    results['Absolute_percentage_difference'] = np.abs(results['Difference'] / results['Actuals'])\n",
    "\n",
    "    # Step 5: Compute the metrics\n",
    "    rmse = np.sqrt(results['Squared_difference'].mean())\n",
    "    mae = results['Absolute_difference'].mean()\n",
    "    mape = results['Absolute_percentage_difference'].mean() * 100  # to get the percentage\n",
    "    return rmse, mae, mape\n",
    "\n",
    "for column in df.columns:\n",
    "\n",
    "    rmse, mae, mape = calc_metrics(column)\n",
    "    metrics[column] = {\n",
    "        'RMSE': rmse,\n",
    "        'MAE': mae,\n",
    "        'MAPE': mape\n",
    "    }\n",
    "metrics_df = pd.DataFrame(metrics)"
   ],
   "metadata": {
    "collapsed": false,
    "pycharm": {
     "name": "#%%\n"
    }
   }
  },
  {
   "cell_type": "code",
   "execution_count": 25,
   "outputs": [
    {
     "data": {
      "text/plain": "       Rainfall  Depth_to_Groundwater  Temperature  Drainage_Volume  \\\nRMSE  16.938140              0.131976     2.108532     10482.379982   \nMAE   13.395015              0.099054     1.597837      7966.579156   \nMAPE        inf              0.389695    15.758976         4.198370   \n\n      River_Hydrometry  \nRMSE          0.147512  \nMAE           0.110613  \nMAPE          4.224389  ",
      "text/html": "<div>\n<style scoped>\n    .dataframe tbody tr th:only-of-type {\n        vertical-align: middle;\n    }\n\n    .dataframe tbody tr th {\n        vertical-align: top;\n    }\n\n    .dataframe thead th {\n        text-align: right;\n    }\n</style>\n<table border=\"1\" class=\"dataframe\">\n  <thead>\n    <tr style=\"text-align: right;\">\n      <th></th>\n      <th>Rainfall</th>\n      <th>Depth_to_Groundwater</th>\n      <th>Temperature</th>\n      <th>Drainage_Volume</th>\n      <th>River_Hydrometry</th>\n    </tr>\n  </thead>\n  <tbody>\n    <tr>\n      <th>RMSE</th>\n      <td>16.938140</td>\n      <td>0.131976</td>\n      <td>2.108532</td>\n      <td>10482.379982</td>\n      <td>0.147512</td>\n    </tr>\n    <tr>\n      <th>MAE</th>\n      <td>13.395015</td>\n      <td>0.099054</td>\n      <td>1.597837</td>\n      <td>7966.579156</td>\n      <td>0.110613</td>\n    </tr>\n    <tr>\n      <th>MAPE</th>\n      <td>inf</td>\n      <td>0.389695</td>\n      <td>15.758976</td>\n      <td>4.198370</td>\n      <td>4.224389</td>\n    </tr>\n  </tbody>\n</table>\n</div>"
     },
     "execution_count": 25,
     "metadata": {},
     "output_type": "execute_result"
    }
   ],
   "source": [
    "metrics_df"
   ],
   "metadata": {
    "collapsed": false,
    "pycharm": {
     "name": "#%%\n"
    }
   }
  },
  {
   "cell_type": "code",
   "execution_count": null,
   "outputs": [],
   "source": [
    "metrics_df.to_csv('metrics/'+model+'/'+str(num)+'.csv')"
   ],
   "metadata": {
    "collapsed": false,
    "pycharm": {
     "name": "#%%\n"
    }
   }
  }
 ],
 "metadata": {
  "kernelspec": {
   "display_name": "Python 3",
   "language": "python",
   "name": "python3"
  },
  "language_info": {
   "codemirror_mode": {
    "name": "ipython",
    "version": 2
   },
   "file_extension": ".py",
   "mimetype": "text/x-python",
   "name": "python",
   "nbconvert_exporter": "python",
   "pygments_lexer": "ipython2",
   "version": "2.7.6"
  }
 },
 "nbformat": 4,
 "nbformat_minor": 0
}