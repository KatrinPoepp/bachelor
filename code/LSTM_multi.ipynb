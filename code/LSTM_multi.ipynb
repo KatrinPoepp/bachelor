{
 "cells": [
  {
   "cell_type": "code",
   "execution_count": 2,
   "outputs": [],
   "source": [
    "import numpy as np # linear algebra\n",
    "import pandas as pd # data processing, CSV file I/O (e.g. pd.read_csv)\n",
    "import tensorflow as tf\n",
    "import matplotlib.pyplot as plt # Visualization\n",
    "import warnings # Supress warnings\n",
    "import os\n",
    "import random\n",
    "warnings.filterwarnings('ignore')"
   ],
   "metadata": {
    "collapsed": false,
    "pycharm": {
     "name": "#%%\n"
    }
   }
  },
  {
   "cell_type": "code",
   "execution_count": 3,
   "outputs": [],
   "source": [
    "from keras.models import Sequential\n",
    "from keras.layers import *\n",
    "from keras.callbacks import ModelCheckpoint\n",
    "from keras.losses import MeanSquaredError\n",
    "from keras.metrics import RootMeanSquaredError\n",
    "from keras.optimizers import Adam\n",
    "from keras.models import load_model"
   ],
   "metadata": {
    "collapsed": false,
    "pycharm": {
     "name": "#%%\n"
    }
   }
  },
  {
   "cell_type": "code",
   "execution_count": 4,
   "outputs": [
    {
     "name": "stdout",
     "output_type": "stream",
     "text": [
      "WARNING:tensorflow:From C:\\Users\\poeppelmann\\AppData\\Local\\Temp\\ipykernel_41596\\457203896.py:18: The name tf.keras.backend.set_session is deprecated. Please use tf.compat.v1.keras.backend.set_session instead.\n",
      "\n"
     ]
    }
   ],
   "source": [
    "# Seed value\n",
    "SEED = 2023\n",
    "# 1. Set the `PYTHONHASHSEED` environment variable at a fixed value\n",
    "os.environ['PYTHONHASHSEED'] = str(SEED)\n",
    "\n",
    "# 2. Set the `python` built-in pseudo-random generator at a fixed value\n",
    "random.seed(SEED)\n",
    "\n",
    "# 3. Set the `numpy` pseudo-random generator at a fixed value\n",
    "np.random.seed(SEED)\n",
    "\n",
    "# 4. Set the `tensorflow` pseudo-random generator at a fixed value\n",
    "tf.random.set_seed(SEED)\n",
    "\n",
    "# 5. Configure a new global `tensorflow` session\n",
    "session_conf = tf.compat.v1.ConfigProto(intra_op_parallelism_threads=1, inter_op_parallelism_threads=1)\n",
    "sess = tf.compat.v1.Session(graph=tf.compat.v1.get_default_graph(), config=session_conf)\n",
    "tf.compat.v1.keras.backend.set_session(sess)"
   ],
   "metadata": {
    "collapsed": false,
    "pycharm": {
     "name": "#%%\n"
    }
   }
  },
  {
   "cell_type": "code",
   "execution_count": 95,
   "outputs": [
    {
     "data": {
      "text/plain": "            Rainfall  Depth_to_Groundwater  Temperature  Drainage_Volume  \\\nDate                                                                       \n2009-01-31  0.032915              0.216100     0.068714         0.726750   \n2009-02-28  0.073145              0.296982     0.074975         0.936674   \n2009-03-31  0.178683              0.356360     0.236094         0.627008   \n2009-04-30  0.085162              0.410094     0.413676         0.693265   \n2009-05-31  0.149425              0.428197     0.647873         0.400633   \n...              ...                   ...          ...              ...   \n2020-02-29  0.097179              0.583554     0.225748         0.736863   \n2020-03-31  0.366771              0.605731     0.255726         0.721515   \n2020-04-30  0.217346              0.615560     0.421868         0.896287   \n2020-05-31  0.238245              0.621753     0.606720         0.880603   \n2020-06-30  0.365726              0.614845     0.701204         0.732156   \n\n            River_Hydrometry  year  month  quarter  season     month_sin  \\\nDate                                                                       \n2009-01-31          0.396506  2009      1        1       1  5.000000e-01   \n2009-02-28          0.508567  2009      2        1       1  8.660254e-01   \n2009-03-31          0.469107  2009      3        1       2  1.000000e+00   \n2009-04-30          0.407926  2009      4        2       2  8.660254e-01   \n2009-05-31          0.201392  2009      5        2       2  5.000000e-01   \n...                      ...   ...    ...      ...     ...           ...   \n2020-02-29          0.420133  2020      2        1       1  8.660254e-01   \n2020-03-31          0.632459  2020      3        1       2  1.000000e+00   \n2020-04-30          0.475913  2020      4        2       2  8.660254e-01   \n2020-05-31          0.455494  2020      5        2       2  5.000000e-01   \n2020-06-30          0.541556  2020      6        2       3  1.224647e-16   \n\n               month_cos   quarter_sin   quarter_cos    season_sin  \\\nDate                                                                 \n2009-01-31  8.660254e-01  1.000000e+00  6.123234e-17  1.000000e+00   \n2009-02-28  5.000000e-01  1.000000e+00  6.123234e-17  1.000000e+00   \n2009-03-31  6.123234e-17  1.000000e+00  6.123234e-17  1.224647e-16   \n2009-04-30 -5.000000e-01  1.224647e-16 -1.000000e+00  1.224647e-16   \n2009-05-31 -8.660254e-01  1.224647e-16 -1.000000e+00  1.224647e-16   \n...                  ...           ...           ...           ...   \n2020-02-29  5.000000e-01  1.000000e+00  6.123234e-17  1.000000e+00   \n2020-03-31  6.123234e-17  1.000000e+00  6.123234e-17  1.224647e-16   \n2020-04-30 -5.000000e-01  1.224647e-16 -1.000000e+00  1.224647e-16   \n2020-05-31 -8.660254e-01  1.224647e-16 -1.000000e+00  1.224647e-16   \n2020-06-30 -1.000000e+00  1.224647e-16 -1.000000e+00 -1.000000e+00   \n\n              season_cos  \nDate                      \n2009-01-31  6.123234e-17  \n2009-02-28  6.123234e-17  \n2009-03-31 -1.000000e+00  \n2009-04-30 -1.000000e+00  \n2009-05-31 -1.000000e+00  \n...                  ...  \n2020-02-29  6.123234e-17  \n2020-03-31 -1.000000e+00  \n2020-04-30 -1.000000e+00  \n2020-05-31 -1.000000e+00  \n2020-06-30 -1.836970e-16  \n\n[138 rows x 15 columns]",
      "text/html": "<div>\n<style scoped>\n    .dataframe tbody tr th:only-of-type {\n        vertical-align: middle;\n    }\n\n    .dataframe tbody tr th {\n        vertical-align: top;\n    }\n\n    .dataframe thead th {\n        text-align: right;\n    }\n</style>\n<table border=\"1\" class=\"dataframe\">\n  <thead>\n    <tr style=\"text-align: right;\">\n      <th></th>\n      <th>Rainfall</th>\n      <th>Depth_to_Groundwater</th>\n      <th>Temperature</th>\n      <th>Drainage_Volume</th>\n      <th>River_Hydrometry</th>\n      <th>year</th>\n      <th>month</th>\n      <th>quarter</th>\n      <th>season</th>\n      <th>month_sin</th>\n      <th>month_cos</th>\n      <th>quarter_sin</th>\n      <th>quarter_cos</th>\n      <th>season_sin</th>\n      <th>season_cos</th>\n    </tr>\n    <tr>\n      <th>Date</th>\n      <th></th>\n      <th></th>\n      <th></th>\n      <th></th>\n      <th></th>\n      <th></th>\n      <th></th>\n      <th></th>\n      <th></th>\n      <th></th>\n      <th></th>\n      <th></th>\n      <th></th>\n      <th></th>\n      <th></th>\n    </tr>\n  </thead>\n  <tbody>\n    <tr>\n      <th>2009-01-31</th>\n      <td>0.032915</td>\n      <td>0.216100</td>\n      <td>0.068714</td>\n      <td>0.726750</td>\n      <td>0.396506</td>\n      <td>2009</td>\n      <td>1</td>\n      <td>1</td>\n      <td>1</td>\n      <td>5.000000e-01</td>\n      <td>8.660254e-01</td>\n      <td>1.000000e+00</td>\n      <td>6.123234e-17</td>\n      <td>1.000000e+00</td>\n      <td>6.123234e-17</td>\n    </tr>\n    <tr>\n      <th>2009-02-28</th>\n      <td>0.073145</td>\n      <td>0.296982</td>\n      <td>0.074975</td>\n      <td>0.936674</td>\n      <td>0.508567</td>\n      <td>2009</td>\n      <td>2</td>\n      <td>1</td>\n      <td>1</td>\n      <td>8.660254e-01</td>\n      <td>5.000000e-01</td>\n      <td>1.000000e+00</td>\n      <td>6.123234e-17</td>\n      <td>1.000000e+00</td>\n      <td>6.123234e-17</td>\n    </tr>\n    <tr>\n      <th>2009-03-31</th>\n      <td>0.178683</td>\n      <td>0.356360</td>\n      <td>0.236094</td>\n      <td>0.627008</td>\n      <td>0.469107</td>\n      <td>2009</td>\n      <td>3</td>\n      <td>1</td>\n      <td>2</td>\n      <td>1.000000e+00</td>\n      <td>6.123234e-17</td>\n      <td>1.000000e+00</td>\n      <td>6.123234e-17</td>\n      <td>1.224647e-16</td>\n      <td>-1.000000e+00</td>\n    </tr>\n    <tr>\n      <th>2009-04-30</th>\n      <td>0.085162</td>\n      <td>0.410094</td>\n      <td>0.413676</td>\n      <td>0.693265</td>\n      <td>0.407926</td>\n      <td>2009</td>\n      <td>4</td>\n      <td>2</td>\n      <td>2</td>\n      <td>8.660254e-01</td>\n      <td>-5.000000e-01</td>\n      <td>1.224647e-16</td>\n      <td>-1.000000e+00</td>\n      <td>1.224647e-16</td>\n      <td>-1.000000e+00</td>\n    </tr>\n    <tr>\n      <th>2009-05-31</th>\n      <td>0.149425</td>\n      <td>0.428197</td>\n      <td>0.647873</td>\n      <td>0.400633</td>\n      <td>0.201392</td>\n      <td>2009</td>\n      <td>5</td>\n      <td>2</td>\n      <td>2</td>\n      <td>5.000000e-01</td>\n      <td>-8.660254e-01</td>\n      <td>1.224647e-16</td>\n      <td>-1.000000e+00</td>\n      <td>1.224647e-16</td>\n      <td>-1.000000e+00</td>\n    </tr>\n    <tr>\n      <th>...</th>\n      <td>...</td>\n      <td>...</td>\n      <td>...</td>\n      <td>...</td>\n      <td>...</td>\n      <td>...</td>\n      <td>...</td>\n      <td>...</td>\n      <td>...</td>\n      <td>...</td>\n      <td>...</td>\n      <td>...</td>\n      <td>...</td>\n      <td>...</td>\n      <td>...</td>\n    </tr>\n    <tr>\n      <th>2020-02-29</th>\n      <td>0.097179</td>\n      <td>0.583554</td>\n      <td>0.225748</td>\n      <td>0.736863</td>\n      <td>0.420133</td>\n      <td>2020</td>\n      <td>2</td>\n      <td>1</td>\n      <td>1</td>\n      <td>8.660254e-01</td>\n      <td>5.000000e-01</td>\n      <td>1.000000e+00</td>\n      <td>6.123234e-17</td>\n      <td>1.000000e+00</td>\n      <td>6.123234e-17</td>\n    </tr>\n    <tr>\n      <th>2020-03-31</th>\n      <td>0.366771</td>\n      <td>0.605731</td>\n      <td>0.255726</td>\n      <td>0.721515</td>\n      <td>0.632459</td>\n      <td>2020</td>\n      <td>3</td>\n      <td>1</td>\n      <td>2</td>\n      <td>1.000000e+00</td>\n      <td>6.123234e-17</td>\n      <td>1.000000e+00</td>\n      <td>6.123234e-17</td>\n      <td>1.224647e-16</td>\n      <td>-1.000000e+00</td>\n    </tr>\n    <tr>\n      <th>2020-04-30</th>\n      <td>0.217346</td>\n      <td>0.615560</td>\n      <td>0.421868</td>\n      <td>0.896287</td>\n      <td>0.475913</td>\n      <td>2020</td>\n      <td>4</td>\n      <td>2</td>\n      <td>2</td>\n      <td>8.660254e-01</td>\n      <td>-5.000000e-01</td>\n      <td>1.224647e-16</td>\n      <td>-1.000000e+00</td>\n      <td>1.224647e-16</td>\n      <td>-1.000000e+00</td>\n    </tr>\n    <tr>\n      <th>2020-05-31</th>\n      <td>0.238245</td>\n      <td>0.621753</td>\n      <td>0.606720</td>\n      <td>0.880603</td>\n      <td>0.455494</td>\n      <td>2020</td>\n      <td>5</td>\n      <td>2</td>\n      <td>2</td>\n      <td>5.000000e-01</td>\n      <td>-8.660254e-01</td>\n      <td>1.224647e-16</td>\n      <td>-1.000000e+00</td>\n      <td>1.224647e-16</td>\n      <td>-1.000000e+00</td>\n    </tr>\n    <tr>\n      <th>2020-06-30</th>\n      <td>0.365726</td>\n      <td>0.614845</td>\n      <td>0.701204</td>\n      <td>0.732156</td>\n      <td>0.541556</td>\n      <td>2020</td>\n      <td>6</td>\n      <td>2</td>\n      <td>3</td>\n      <td>1.224647e-16</td>\n      <td>-1.000000e+00</td>\n      <td>1.224647e-16</td>\n      <td>-1.000000e+00</td>\n      <td>-1.000000e+00</td>\n      <td>-1.836970e-16</td>\n    </tr>\n  </tbody>\n</table>\n<p>138 rows × 15 columns</p>\n</div>"
     },
     "execution_count": 95,
     "metadata": {},
     "output_type": "execute_result"
    }
   ],
   "source": [
    "df = pd.read_csv(\"./files/cycl_m.csv\", index_col=0)\n",
    "df.index = pd.to_datetime(df.index, format = '%Y-%m-%d')\n",
    "df"
   ],
   "metadata": {
    "collapsed": false,
    "pycharm": {
     "name": "#%%\n"
    }
   }
  },
  {
   "cell_type": "code",
   "execution_count": 96,
   "outputs": [],
   "source": [
    "features_sin = ['Rainfall', 'Depth_to_Groundwater', 'Temperature', 'Drainage_Volume', 'River_Hydrometry', 'day_sin', 'month_sin', 'week_of_year_sin', 'quarter_sin', 'season_sin']\n",
    "features_cos = ['Rainfall', 'Depth_to_Groundwater', 'Temperature', 'Drainage_Volume', 'River_Hydrometry', 'day_cos', 'month_cos', 'week_of_year_cos', 'quarter_cos', 'season_cos']\n",
    "delete1 = [feature for feature in df.columns if feature not in features_sin]\n",
    "delete2 = [feature for feature in df.columns if feature not in features_cos]"
   ],
   "metadata": {
    "collapsed": false,
    "pycharm": {
     "name": "#%%\n"
    }
   }
  },
  {
   "cell_type": "code",
   "execution_count": 97,
   "outputs": [],
   "source": [
    "df_sin = df.drop(delete1, axis=1)\n",
    "df_cos = df.drop(delete2, axis=1)"
   ],
   "metadata": {
    "collapsed": false,
    "pycharm": {
     "name": "#%%\n"
    }
   }
  },
  {
   "cell_type": "code",
   "execution_count": 98,
   "outputs": [
    {
     "data": {
      "text/plain": "            Rainfall  Depth_to_Groundwater  Temperature  Drainage_Volume  \\\nDate                                                                       \n2009-01-31  0.032915              0.216100     0.068714         0.726750   \n2009-02-28  0.073145              0.296982     0.074975         0.936674   \n2009-03-31  0.178683              0.356360     0.236094         0.627008   \n2009-04-30  0.085162              0.410094     0.413676         0.693265   \n2009-05-31  0.149425              0.428197     0.647873         0.400633   \n...              ...                   ...          ...              ...   \n2020-02-29  0.097179              0.583554     0.225748         0.736863   \n2020-03-31  0.366771              0.605731     0.255726         0.721515   \n2020-04-30  0.217346              0.615560     0.421868         0.896287   \n2020-05-31  0.238245              0.621753     0.606720         0.880603   \n2020-06-30  0.365726              0.614845     0.701204         0.732156   \n\n            River_Hydrometry     month_cos   quarter_cos    season_cos  \nDate                                                                    \n2009-01-31          0.396506  8.660254e-01  6.123234e-17  6.123234e-17  \n2009-02-28          0.508567  5.000000e-01  6.123234e-17  6.123234e-17  \n2009-03-31          0.469107  6.123234e-17  6.123234e-17 -1.000000e+00  \n2009-04-30          0.407926 -5.000000e-01 -1.000000e+00 -1.000000e+00  \n2009-05-31          0.201392 -8.660254e-01 -1.000000e+00 -1.000000e+00  \n...                      ...           ...           ...           ...  \n2020-02-29          0.420133  5.000000e-01  6.123234e-17  6.123234e-17  \n2020-03-31          0.632459  6.123234e-17  6.123234e-17 -1.000000e+00  \n2020-04-30          0.475913 -5.000000e-01 -1.000000e+00 -1.000000e+00  \n2020-05-31          0.455494 -8.660254e-01 -1.000000e+00 -1.000000e+00  \n2020-06-30          0.541556 -1.000000e+00 -1.000000e+00 -1.836970e-16  \n\n[138 rows x 8 columns]",
      "text/html": "<div>\n<style scoped>\n    .dataframe tbody tr th:only-of-type {\n        vertical-align: middle;\n    }\n\n    .dataframe tbody tr th {\n        vertical-align: top;\n    }\n\n    .dataframe thead th {\n        text-align: right;\n    }\n</style>\n<table border=\"1\" class=\"dataframe\">\n  <thead>\n    <tr style=\"text-align: right;\">\n      <th></th>\n      <th>Rainfall</th>\n      <th>Depth_to_Groundwater</th>\n      <th>Temperature</th>\n      <th>Drainage_Volume</th>\n      <th>River_Hydrometry</th>\n      <th>month_cos</th>\n      <th>quarter_cos</th>\n      <th>season_cos</th>\n    </tr>\n    <tr>\n      <th>Date</th>\n      <th></th>\n      <th></th>\n      <th></th>\n      <th></th>\n      <th></th>\n      <th></th>\n      <th></th>\n      <th></th>\n    </tr>\n  </thead>\n  <tbody>\n    <tr>\n      <th>2009-01-31</th>\n      <td>0.032915</td>\n      <td>0.216100</td>\n      <td>0.068714</td>\n      <td>0.726750</td>\n      <td>0.396506</td>\n      <td>8.660254e-01</td>\n      <td>6.123234e-17</td>\n      <td>6.123234e-17</td>\n    </tr>\n    <tr>\n      <th>2009-02-28</th>\n      <td>0.073145</td>\n      <td>0.296982</td>\n      <td>0.074975</td>\n      <td>0.936674</td>\n      <td>0.508567</td>\n      <td>5.000000e-01</td>\n      <td>6.123234e-17</td>\n      <td>6.123234e-17</td>\n    </tr>\n    <tr>\n      <th>2009-03-31</th>\n      <td>0.178683</td>\n      <td>0.356360</td>\n      <td>0.236094</td>\n      <td>0.627008</td>\n      <td>0.469107</td>\n      <td>6.123234e-17</td>\n      <td>6.123234e-17</td>\n      <td>-1.000000e+00</td>\n    </tr>\n    <tr>\n      <th>2009-04-30</th>\n      <td>0.085162</td>\n      <td>0.410094</td>\n      <td>0.413676</td>\n      <td>0.693265</td>\n      <td>0.407926</td>\n      <td>-5.000000e-01</td>\n      <td>-1.000000e+00</td>\n      <td>-1.000000e+00</td>\n    </tr>\n    <tr>\n      <th>2009-05-31</th>\n      <td>0.149425</td>\n      <td>0.428197</td>\n      <td>0.647873</td>\n      <td>0.400633</td>\n      <td>0.201392</td>\n      <td>-8.660254e-01</td>\n      <td>-1.000000e+00</td>\n      <td>-1.000000e+00</td>\n    </tr>\n    <tr>\n      <th>...</th>\n      <td>...</td>\n      <td>...</td>\n      <td>...</td>\n      <td>...</td>\n      <td>...</td>\n      <td>...</td>\n      <td>...</td>\n      <td>...</td>\n    </tr>\n    <tr>\n      <th>2020-02-29</th>\n      <td>0.097179</td>\n      <td>0.583554</td>\n      <td>0.225748</td>\n      <td>0.736863</td>\n      <td>0.420133</td>\n      <td>5.000000e-01</td>\n      <td>6.123234e-17</td>\n      <td>6.123234e-17</td>\n    </tr>\n    <tr>\n      <th>2020-03-31</th>\n      <td>0.366771</td>\n      <td>0.605731</td>\n      <td>0.255726</td>\n      <td>0.721515</td>\n      <td>0.632459</td>\n      <td>6.123234e-17</td>\n      <td>6.123234e-17</td>\n      <td>-1.000000e+00</td>\n    </tr>\n    <tr>\n      <th>2020-04-30</th>\n      <td>0.217346</td>\n      <td>0.615560</td>\n      <td>0.421868</td>\n      <td>0.896287</td>\n      <td>0.475913</td>\n      <td>-5.000000e-01</td>\n      <td>-1.000000e+00</td>\n      <td>-1.000000e+00</td>\n    </tr>\n    <tr>\n      <th>2020-05-31</th>\n      <td>0.238245</td>\n      <td>0.621753</td>\n      <td>0.606720</td>\n      <td>0.880603</td>\n      <td>0.455494</td>\n      <td>-8.660254e-01</td>\n      <td>-1.000000e+00</td>\n      <td>-1.000000e+00</td>\n    </tr>\n    <tr>\n      <th>2020-06-30</th>\n      <td>0.365726</td>\n      <td>0.614845</td>\n      <td>0.701204</td>\n      <td>0.732156</td>\n      <td>0.541556</td>\n      <td>-1.000000e+00</td>\n      <td>-1.000000e+00</td>\n      <td>-1.836970e-16</td>\n    </tr>\n  </tbody>\n</table>\n<p>138 rows × 8 columns</p>\n</div>"
     },
     "execution_count": 98,
     "metadata": {},
     "output_type": "execute_result"
    }
   ],
   "source": [
    "df_cos"
   ],
   "metadata": {
    "collapsed": false,
    "pycharm": {
     "name": "#%%\n"
    }
   }
  },
  {
   "cell_type": "code",
   "execution_count": 99,
   "outputs": [],
   "source": [
    "features_new = ['Depth_to_Groundwater', 'Drainage_Volume', 'River_Hydrometry', 'month_cos', 'week_of_year_cos', 'quarter_cos']\n",
    "features_3 = ['Rainfall', 'Depth_to_Groundwater', 'Drainage_Volume', 'River_Hydrometry', 'month_cos', 'quarter_cos']\n",
    "delete3 = [feature for feature in df_cos.columns if feature not in features_3]\n",
    "df_new = df_cos.drop(delete3, axis=1)"
   ],
   "metadata": {
    "collapsed": false,
    "pycharm": {
     "name": "#%%\n"
    }
   }
  },
  {
   "cell_type": "code",
   "execution_count": 100,
   "outputs": [
    {
     "data": {
      "text/plain": "            Rainfall  Depth_to_Groundwater  Drainage_Volume  River_Hydrometry  \\\nDate                                                                            \n2009-01-31  0.032915              0.216100         0.726750          0.396506   \n2009-02-28  0.073145              0.296982         0.936674          0.508567   \n2009-03-31  0.178683              0.356360         0.627008          0.469107   \n2009-04-30  0.085162              0.410094         0.693265          0.407926   \n2009-05-31  0.149425              0.428197         0.400633          0.201392   \n...              ...                   ...              ...               ...   \n2020-02-29  0.097179              0.583554         0.736863          0.420133   \n2020-03-31  0.366771              0.605731         0.721515          0.632459   \n2020-04-30  0.217346              0.615560         0.896287          0.475913   \n2020-05-31  0.238245              0.621753         0.880603          0.455494   \n2020-06-30  0.365726              0.614845         0.732156          0.541556   \n\n               month_cos   quarter_cos  \nDate                                    \n2009-01-31  8.660254e-01  6.123234e-17  \n2009-02-28  5.000000e-01  6.123234e-17  \n2009-03-31  6.123234e-17  6.123234e-17  \n2009-04-30 -5.000000e-01 -1.000000e+00  \n2009-05-31 -8.660254e-01 -1.000000e+00  \n...                  ...           ...  \n2020-02-29  5.000000e-01  6.123234e-17  \n2020-03-31  6.123234e-17  6.123234e-17  \n2020-04-30 -5.000000e-01 -1.000000e+00  \n2020-05-31 -8.660254e-01 -1.000000e+00  \n2020-06-30 -1.000000e+00 -1.000000e+00  \n\n[138 rows x 6 columns]",
      "text/html": "<div>\n<style scoped>\n    .dataframe tbody tr th:only-of-type {\n        vertical-align: middle;\n    }\n\n    .dataframe tbody tr th {\n        vertical-align: top;\n    }\n\n    .dataframe thead th {\n        text-align: right;\n    }\n</style>\n<table border=\"1\" class=\"dataframe\">\n  <thead>\n    <tr style=\"text-align: right;\">\n      <th></th>\n      <th>Rainfall</th>\n      <th>Depth_to_Groundwater</th>\n      <th>Drainage_Volume</th>\n      <th>River_Hydrometry</th>\n      <th>month_cos</th>\n      <th>quarter_cos</th>\n    </tr>\n    <tr>\n      <th>Date</th>\n      <th></th>\n      <th></th>\n      <th></th>\n      <th></th>\n      <th></th>\n      <th></th>\n    </tr>\n  </thead>\n  <tbody>\n    <tr>\n      <th>2009-01-31</th>\n      <td>0.032915</td>\n      <td>0.216100</td>\n      <td>0.726750</td>\n      <td>0.396506</td>\n      <td>8.660254e-01</td>\n      <td>6.123234e-17</td>\n    </tr>\n    <tr>\n      <th>2009-02-28</th>\n      <td>0.073145</td>\n      <td>0.296982</td>\n      <td>0.936674</td>\n      <td>0.508567</td>\n      <td>5.000000e-01</td>\n      <td>6.123234e-17</td>\n    </tr>\n    <tr>\n      <th>2009-03-31</th>\n      <td>0.178683</td>\n      <td>0.356360</td>\n      <td>0.627008</td>\n      <td>0.469107</td>\n      <td>6.123234e-17</td>\n      <td>6.123234e-17</td>\n    </tr>\n    <tr>\n      <th>2009-04-30</th>\n      <td>0.085162</td>\n      <td>0.410094</td>\n      <td>0.693265</td>\n      <td>0.407926</td>\n      <td>-5.000000e-01</td>\n      <td>-1.000000e+00</td>\n    </tr>\n    <tr>\n      <th>2009-05-31</th>\n      <td>0.149425</td>\n      <td>0.428197</td>\n      <td>0.400633</td>\n      <td>0.201392</td>\n      <td>-8.660254e-01</td>\n      <td>-1.000000e+00</td>\n    </tr>\n    <tr>\n      <th>...</th>\n      <td>...</td>\n      <td>...</td>\n      <td>...</td>\n      <td>...</td>\n      <td>...</td>\n      <td>...</td>\n    </tr>\n    <tr>\n      <th>2020-02-29</th>\n      <td>0.097179</td>\n      <td>0.583554</td>\n      <td>0.736863</td>\n      <td>0.420133</td>\n      <td>5.000000e-01</td>\n      <td>6.123234e-17</td>\n    </tr>\n    <tr>\n      <th>2020-03-31</th>\n      <td>0.366771</td>\n      <td>0.605731</td>\n      <td>0.721515</td>\n      <td>0.632459</td>\n      <td>6.123234e-17</td>\n      <td>6.123234e-17</td>\n    </tr>\n    <tr>\n      <th>2020-04-30</th>\n      <td>0.217346</td>\n      <td>0.615560</td>\n      <td>0.896287</td>\n      <td>0.475913</td>\n      <td>-5.000000e-01</td>\n      <td>-1.000000e+00</td>\n    </tr>\n    <tr>\n      <th>2020-05-31</th>\n      <td>0.238245</td>\n      <td>0.621753</td>\n      <td>0.880603</td>\n      <td>0.455494</td>\n      <td>-8.660254e-01</td>\n      <td>-1.000000e+00</td>\n    </tr>\n    <tr>\n      <th>2020-06-30</th>\n      <td>0.365726</td>\n      <td>0.614845</td>\n      <td>0.732156</td>\n      <td>0.541556</td>\n      <td>-1.000000e+00</td>\n      <td>-1.000000e+00</td>\n    </tr>\n  </tbody>\n</table>\n<p>138 rows × 6 columns</p>\n</div>"
     },
     "execution_count": 100,
     "metadata": {},
     "output_type": "execute_result"
    }
   ],
   "source": [
    "df = df_new\n",
    "df"
   ],
   "metadata": {
    "collapsed": false,
    "pycharm": {
     "name": "#%%\n"
    }
   }
  },
  {
   "cell_type": "code",
   "execution_count": 101,
   "outputs": [],
   "source": [
    "N_FEATURES  = 6 # multivariate\n",
    "N_STEPS_IN  = 5 # static window\n",
    "N_STEPS_OUT = 1  # single-step\n",
    "TRAIN_SIZE = int((len(df.index)-N_STEPS_IN) * 0.5)\n",
    "VAL_SIZE = int((len(df.index)-N_STEPS_IN) * 0.2)\n",
    "#print(TRAIN_SIZE, VAL_SIZE)"
   ],
   "metadata": {
    "collapsed": false,
    "pycharm": {
     "name": "#%%\n"
    }
   }
  },
  {
   "cell_type": "code",
   "execution_count": 102,
   "outputs": [],
   "source": [
    "def df_to_X_y(df):\n",
    "    df_as_np = df.to_numpy()\n",
    "    X = []\n",
    "    y = []\n",
    "    for i in range(len(df_as_np)-N_STEPS_IN):\n",
    "        row = [r for r in df_as_np[i:i+N_STEPS_IN]]\n",
    "        X.append(row)\n",
    "        label = df_as_np[i+N_STEPS_IN][1]\n",
    "        y.append(label)\n",
    "    return np.array(X), np.array(y)"
   ],
   "metadata": {
    "collapsed": false,
    "pycharm": {
     "name": "#%%\n"
    }
   }
  },
  {
   "cell_type": "code",
   "execution_count": 103,
   "outputs": [
    {
     "data": {
      "text/plain": "((133, 5, 6), (133,))"
     },
     "execution_count": 103,
     "metadata": {},
     "output_type": "execute_result"
    }
   ],
   "source": [
    "X1, y1=df_to_X_y(df)\n",
    "X1.shape, y1.shape"
   ],
   "metadata": {
    "collapsed": false,
    "pycharm": {
     "name": "#%%\n"
    }
   }
  },
  {
   "cell_type": "code",
   "execution_count": 104,
   "outputs": [],
   "source": [
    "def get_sets(df):\n",
    "    X1, y1 = df_to_X_y(df)\n",
    "    X_train1, y_train1 = X1[:TRAIN_SIZE], y1[:TRAIN_SIZE]\n",
    "    X_val1, y_val1 = X1[TRAIN_SIZE:TRAIN_SIZE + VAL_SIZE], y1[TRAIN_SIZE:TRAIN_SIZE + VAL_SIZE]\n",
    "    X_test1, y_test1 = X1[TRAIN_SIZE + VAL_SIZE:], y1[TRAIN_SIZE + VAL_SIZE:]\n",
    "    return X1, y1, X_train1, y_train1, X_val1, y_val1, X_test1, y_test1"
   ],
   "metadata": {
    "collapsed": false,
    "pycharm": {
     "name": "#%%\n"
    }
   }
  },
  {
   "cell_type": "code",
   "execution_count": 105,
   "outputs": [
    {
     "data": {
      "text/plain": "((66, 5, 6), (66,), (26, 5, 6), (26,), (41, 5, 6), (41,))"
     },
     "execution_count": 105,
     "metadata": {},
     "output_type": "execute_result"
    }
   ],
   "source": [
    "X1, y1, X_train1, y_train1, X_val1, y_val1, X_test1, y_test1 = get_sets(df)\n",
    "X_train1.shape, y_train1.shape, X_val1.shape, y_val1.shape, X_test1.shape, y_test1.shape"
   ],
   "metadata": {
    "collapsed": false,
    "pycharm": {
     "name": "#%%\n"
    }
   }
  },
  {
   "cell_type": "code",
   "execution_count": 106,
   "outputs": [],
   "source": [
    "def init_model(lstm_units = 64, lstm_units_sec = 64):\n",
    "    # Use initializers to initialize model parameters with the same values\n",
    "    INITIALIZER_GLOROT_UNIFORM = tf.keras.initializers.GlorotUniform(seed = SEED)\n",
    "    INITIALIZER_ORTHOGONAL = tf.keras.initializers.Orthogonal(gain = 1.0, seed = SEED)\n",
    "    model = Sequential()\n",
    "    model.add(InputLayer((N_STEPS_IN, N_FEATURES)))\n",
    "    # model.add(LSTM(units                 = lstm_units,\n",
    "    #                kernel_initializer    = INITIALIZER_GLOROT_UNIFORM,\n",
    "    #                recurrent_initializer = INITIALIZER_ORTHOGONAL,\n",
    "    #                return_sequences=True))\n",
    "    model.add(LSTM(units                 = lstm_units_sec,\n",
    "                   kernel_initializer    = INITIALIZER_GLOROT_UNIFORM,\n",
    "                   recurrent_initializer = INITIALIZER_ORTHOGONAL))\n",
    "    tf.keras.layers.Dropout(0.3),\n",
    "    model.add(Dense(units= 8, activation='relu', kernel_initializer = INITIALIZER_GLOROT_UNIFORM))\n",
    "    model.add(Dense(units              = N_STEPS_OUT,\n",
    "                    kernel_initializer = INITIALIZER_GLOROT_UNIFORM,\n",
    "                    activation = 'linear'))\n",
    "    model.summary()\n",
    "    return model"
   ],
   "metadata": {
    "collapsed": false,
    "pycharm": {
     "name": "#%%\n"
    }
   }
  },
  {
   "cell_type": "code",
   "execution_count": 107,
   "outputs": [
    {
     "name": "stdout",
     "output_type": "stream",
     "text": [
      "Model: \"sequential_9\"\n",
      "_________________________________________________________________\n",
      " Layer (type)                Output Shape              Param #   \n",
      "=================================================================\n",
      " lstm_9 (LSTM)               (None, 64)                18176     \n",
      "                                                                 \n",
      " dense_18 (Dense)            (None, 8)                 520       \n",
      "                                                                 \n",
      " dense_19 (Dense)            (None, 1)                 9         \n",
      "                                                                 \n",
      "=================================================================\n",
      "Total params: 18,705\n",
      "Trainable params: 18,705\n",
      "Non-trainable params: 0\n",
      "_________________________________________________________________\n"
     ]
    }
   ],
   "source": [
    "# Create model instance\n",
    "model = init_model()\n",
    "\n",
    "# Visualize model architecture\n",
    "#tf.keras.utils.plot_model(model, show_shapes=True)"
   ],
   "metadata": {
    "collapsed": false,
    "pycharm": {
     "name": "#%%\n"
    }
   }
  },
  {
   "cell_type": "code",
   "execution_count": 109,
   "outputs": [],
   "source": [
    "def train_model(df, checkpoint):\n",
    "    X1, y1, X_train1, y_train1, X_val1, y_val1, X_test1, y_test1 = get_sets(df)\n",
    "    model = init_model()\n",
    "    cp = ModelCheckpoint('C:\\\\Users\\\\poeppelmann\\\\DataspellProjects\\\\dsProject\\\\LSTM_models\\\\multi\\\\'+checkpoint, save_best_only=True)\n",
    "    model.compile(loss=MeanSquaredError(), optimizer='adam', metrics=[RootMeanSquaredError()])\n",
    "    model.fit(X_train1, y_train1, validation_data=(X_val1, y_val1), epochs=50, callbacks=[cp])\n",
    "    return model"
   ],
   "metadata": {
    "collapsed": false,
    "pycharm": {
     "name": "#%%\n"
    }
   }
  },
  {
   "cell_type": "code",
   "execution_count": 110,
   "outputs": [],
   "source": [
    "def model_predict(df, checkpoint):\n",
    "    model = load_model('C:\\\\Users\\\\poeppelmann\\\\DataspellProjects\\\\dsProject\\\\LSTM_models\\\\multi\\\\'+checkpoint)\n",
    "    X1, y1, X_train1, y_train1, X_val1, y_val1, X_test1, y_test1 = get_sets(df)\n",
    "    #train_predictions = model.predict(X_train1).flatten()\n",
    "    #val_predictions = model.predict(X_val1).flatten()\n",
    "    #predictions = np.concatenate((train_predictions, val_predictions, test_predictions))\n",
    "    #results = pd.DataFrame(data={'Predictions':predictions, 'Actuals':y1}, index=df.index[5:])\n",
    "    #results.to_csv('predictions/'+name)\n",
    "    predictions = pd.Series(model.predict(X_test1).flatten())\n",
    "    predictions.index = df.index[TRAIN_SIZE+VAL_SIZE+N_STEPS_IN:]\n",
    "    predictions.name='Depth_to_Groundwater'\n",
    "    return predictions"
   ],
   "metadata": {
    "collapsed": false,
    "pycharm": {
     "name": "#%%\n"
    }
   }
  },
  {
   "cell_type": "code",
   "execution_count": 111,
   "outputs": [],
   "source": [
    "checkpoint = '6'"
   ],
   "metadata": {
    "collapsed": false,
    "pycharm": {
     "name": "#%%\n"
    }
   }
  },
  {
   "cell_type": "code",
   "execution_count": 112,
   "outputs": [
    {
     "name": "stdout",
     "output_type": "stream",
     "text": [
      "Model: \"sequential_10\"\n",
      "_________________________________________________________________\n",
      " Layer (type)                Output Shape              Param #   \n",
      "=================================================================\n",
      " lstm_10 (LSTM)              (None, 64)                18176     \n",
      "                                                                 \n",
      " dense_20 (Dense)            (None, 8)                 520       \n",
      "                                                                 \n",
      " dense_21 (Dense)            (None, 1)                 9         \n",
      "                                                                 \n",
      "=================================================================\n",
      "Total params: 18,705\n",
      "Trainable params: 18,705\n",
      "Non-trainable params: 0\n",
      "_________________________________________________________________\n",
      "Epoch 1/50\n",
      "1/3 [=========>....................] - ETA: 8s - loss: 0.3730 - root_mean_squared_error: 0.6107"
     ]
    },
    {
     "name": "stderr",
     "output_type": "stream",
     "text": [
      "WARNING:absl:Found untraced functions such as _update_step_xla, lstm_cell_13_layer_call_fn, lstm_cell_13_layer_call_and_return_conditional_losses while saving (showing 3 of 3). These functions will not be directly callable after loading.\n"
     ]
    },
    {
     "name": "stdout",
     "output_type": "stream",
     "text": [
      "INFO:tensorflow:Assets written to: C:\\Users\\poeppelmann\\DataspellProjects\\dsProject\\LSTM_models\\multi\\6\\assets\n"
     ]
    },
    {
     "name": "stderr",
     "output_type": "stream",
     "text": [
      "INFO:tensorflow:Assets written to: C:\\Users\\poeppelmann\\DataspellProjects\\dsProject\\LSTM_models\\multi\\6\\assets\n"
     ]
    },
    {
     "name": "stdout",
     "output_type": "stream",
     "text": [
      "3/3 [==============================] - 16s 6s/step - loss: 0.3679 - root_mean_squared_error: 0.6065 - val_loss: 0.4502 - val_root_mean_squared_error: 0.6710\n",
      "Epoch 2/50\n",
      "1/3 [=========>....................] - ETA: 0s - loss: 0.2733 - root_mean_squared_error: 0.5228"
     ]
    },
    {
     "name": "stderr",
     "output_type": "stream",
     "text": [
      "WARNING:absl:Found untraced functions such as _update_step_xla, lstm_cell_13_layer_call_fn, lstm_cell_13_layer_call_and_return_conditional_losses while saving (showing 3 of 3). These functions will not be directly callable after loading.\n"
     ]
    },
    {
     "name": "stdout",
     "output_type": "stream",
     "text": [
      "INFO:tensorflow:Assets written to: C:\\Users\\poeppelmann\\DataspellProjects\\dsProject\\LSTM_models\\multi\\6\\assets\n"
     ]
    },
    {
     "name": "stderr",
     "output_type": "stream",
     "text": [
      "INFO:tensorflow:Assets written to: C:\\Users\\poeppelmann\\DataspellProjects\\dsProject\\LSTM_models\\multi\\6\\assets\n"
     ]
    },
    {
     "name": "stdout",
     "output_type": "stream",
     "text": [
      "3/3 [==============================] - 13s 7s/step - loss: 0.2773 - root_mean_squared_error: 0.5266 - val_loss: 0.2811 - val_root_mean_squared_error: 0.5302\n",
      "Epoch 3/50\n",
      "1/3 [=========>....................] - ETA: 0s - loss: 0.2110 - root_mean_squared_error: 0.4593"
     ]
    },
    {
     "name": "stderr",
     "output_type": "stream",
     "text": [
      "WARNING:absl:Found untraced functions such as _update_step_xla, lstm_cell_13_layer_call_fn, lstm_cell_13_layer_call_and_return_conditional_losses while saving (showing 3 of 3). These functions will not be directly callable after loading.\n"
     ]
    },
    {
     "name": "stdout",
     "output_type": "stream",
     "text": [
      "INFO:tensorflow:Assets written to: C:\\Users\\poeppelmann\\DataspellProjects\\dsProject\\LSTM_models\\multi\\6\\assets\n"
     ]
    },
    {
     "name": "stderr",
     "output_type": "stream",
     "text": [
      "INFO:tensorflow:Assets written to: C:\\Users\\poeppelmann\\DataspellProjects\\dsProject\\LSTM_models\\multi\\6\\assets\n"
     ]
    },
    {
     "name": "stdout",
     "output_type": "stream",
     "text": [
      "3/3 [==============================] - 11s 5s/step - loss: 0.1873 - root_mean_squared_error: 0.4327 - val_loss: 0.1438 - val_root_mean_squared_error: 0.3792\n",
      "Epoch 4/50\n",
      "1/3 [=========>....................] - ETA: 0s - loss: 0.1425 - root_mean_squared_error: 0.3775"
     ]
    },
    {
     "name": "stderr",
     "output_type": "stream",
     "text": [
      "WARNING:absl:Found untraced functions such as _update_step_xla, lstm_cell_13_layer_call_fn, lstm_cell_13_layer_call_and_return_conditional_losses while saving (showing 3 of 3). These functions will not be directly callable after loading.\n"
     ]
    },
    {
     "name": "stdout",
     "output_type": "stream",
     "text": [
      "INFO:tensorflow:Assets written to: C:\\Users\\poeppelmann\\DataspellProjects\\dsProject\\LSTM_models\\multi\\6\\assets\n"
     ]
    },
    {
     "name": "stderr",
     "output_type": "stream",
     "text": [
      "INFO:tensorflow:Assets written to: C:\\Users\\poeppelmann\\DataspellProjects\\dsProject\\LSTM_models\\multi\\6\\assets\n"
     ]
    },
    {
     "name": "stdout",
     "output_type": "stream",
     "text": [
      "3/3 [==============================] - 9s 5s/step - loss: 0.1089 - root_mean_squared_error: 0.3300 - val_loss: 0.0499 - val_root_mean_squared_error: 0.2234\n",
      "Epoch 5/50\n",
      "1/3 [=========>....................] - ETA: 0s - loss: 0.0720 - root_mean_squared_error: 0.2683"
     ]
    },
    {
     "name": "stderr",
     "output_type": "stream",
     "text": [
      "WARNING:absl:Found untraced functions such as _update_step_xla, lstm_cell_13_layer_call_fn, lstm_cell_13_layer_call_and_return_conditional_losses while saving (showing 3 of 3). These functions will not be directly callable after loading.\n"
     ]
    },
    {
     "name": "stdout",
     "output_type": "stream",
     "text": [
      "INFO:tensorflow:Assets written to: C:\\Users\\poeppelmann\\DataspellProjects\\dsProject\\LSTM_models\\multi\\6\\assets\n"
     ]
    },
    {
     "name": "stderr",
     "output_type": "stream",
     "text": [
      "INFO:tensorflow:Assets written to: C:\\Users\\poeppelmann\\DataspellProjects\\dsProject\\LSTM_models\\multi\\6\\assets\n"
     ]
    },
    {
     "name": "stdout",
     "output_type": "stream",
     "text": [
      "3/3 [==============================] - 10s 5s/step - loss: 0.0536 - root_mean_squared_error: 0.2315 - val_loss: 0.0081 - val_root_mean_squared_error: 0.0902\n",
      "Epoch 6/50\n",
      "3/3 [==============================] - 0s 21ms/step - loss: 0.0220 - root_mean_squared_error: 0.1483 - val_loss: 0.0161 - val_root_mean_squared_error: 0.1269\n",
      "Epoch 7/50\n",
      "3/3 [==============================] - 0s 21ms/step - loss: 0.0175 - root_mean_squared_error: 0.1324 - val_loss: 0.0529 - val_root_mean_squared_error: 0.2300\n",
      "Epoch 8/50\n",
      "3/3 [==============================] - 0s 23ms/step - loss: 0.0266 - root_mean_squared_error: 0.1630 - val_loss: 0.0759 - val_root_mean_squared_error: 0.2755\n",
      "Epoch 9/50\n",
      "3/3 [==============================] - 0s 21ms/step - loss: 0.0302 - root_mean_squared_error: 0.1738 - val_loss: 0.0663 - val_root_mean_squared_error: 0.2575\n",
      "Epoch 10/50\n",
      "3/3 [==============================] - 0s 23ms/step - loss: 0.0241 - root_mean_squared_error: 0.1554 - val_loss: 0.0426 - val_root_mean_squared_error: 0.2064\n",
      "Epoch 11/50\n",
      "3/3 [==============================] - 0s 20ms/step - loss: 0.0152 - root_mean_squared_error: 0.1234 - val_loss: 0.0213 - val_root_mean_squared_error: 0.1460\n",
      "Epoch 12/50\n",
      "3/3 [==============================] - 0s 18ms/step - loss: 0.0112 - root_mean_squared_error: 0.1056 - val_loss: 0.0104 - val_root_mean_squared_error: 0.1019\n",
      "Epoch 13/50\n",
      "1/3 [=========>....................] - ETA: 0s - loss: 0.0116 - root_mean_squared_error: 0.1078"
     ]
    },
    {
     "name": "stderr",
     "output_type": "stream",
     "text": [
      "WARNING:absl:Found untraced functions such as _update_step_xla, lstm_cell_13_layer_call_fn, lstm_cell_13_layer_call_and_return_conditional_losses while saving (showing 3 of 3). These functions will not be directly callable after loading.\n"
     ]
    },
    {
     "name": "stdout",
     "output_type": "stream",
     "text": [
      "INFO:tensorflow:Assets written to: C:\\Users\\poeppelmann\\DataspellProjects\\dsProject\\LSTM_models\\multi\\6\\assets\n"
     ]
    },
    {
     "name": "stderr",
     "output_type": "stream",
     "text": [
      "INFO:tensorflow:Assets written to: C:\\Users\\poeppelmann\\DataspellProjects\\dsProject\\LSTM_models\\multi\\6\\assets\n"
     ]
    },
    {
     "name": "stdout",
     "output_type": "stream",
     "text": [
      "3/3 [==============================] - 10s 5s/step - loss: 0.0114 - root_mean_squared_error: 0.1068 - val_loss: 0.0068 - val_root_mean_squared_error: 0.0822\n",
      "Epoch 14/50\n",
      "1/3 [=========>....................] - ETA: 0s - loss: 0.0111 - root_mean_squared_error: 0.1053"
     ]
    },
    {
     "name": "stderr",
     "output_type": "stream",
     "text": [
      "WARNING:absl:Found untraced functions such as _update_step_xla, lstm_cell_13_layer_call_fn, lstm_cell_13_layer_call_and_return_conditional_losses while saving (showing 3 of 3). These functions will not be directly callable after loading.\n"
     ]
    },
    {
     "name": "stdout",
     "output_type": "stream",
     "text": [
      "INFO:tensorflow:Assets written to: C:\\Users\\poeppelmann\\DataspellProjects\\dsProject\\LSTM_models\\multi\\6\\assets\n"
     ]
    },
    {
     "name": "stderr",
     "output_type": "stream",
     "text": [
      "INFO:tensorflow:Assets written to: C:\\Users\\poeppelmann\\DataspellProjects\\dsProject\\LSTM_models\\multi\\6\\assets\n"
     ]
    },
    {
     "name": "stdout",
     "output_type": "stream",
     "text": [
      "3/3 [==============================] - 8s 4s/step - loss: 0.0126 - root_mean_squared_error: 0.1121 - val_loss: 0.0058 - val_root_mean_squared_error: 0.0765\n",
      "Epoch 15/50\n",
      "3/3 [==============================] - 0s 18ms/step - loss: 0.0119 - root_mean_squared_error: 0.1089 - val_loss: 0.0071 - val_root_mean_squared_error: 0.0845\n",
      "Epoch 16/50\n",
      "3/3 [==============================] - 0s 20ms/step - loss: 0.0097 - root_mean_squared_error: 0.0987 - val_loss: 0.0128 - val_root_mean_squared_error: 0.1130\n",
      "Epoch 17/50\n",
      "3/3 [==============================] - 0s 19ms/step - loss: 0.0083 - root_mean_squared_error: 0.0910 - val_loss: 0.0229 - val_root_mean_squared_error: 0.1512\n",
      "Epoch 18/50\n",
      "3/3 [==============================] - 0s 21ms/step - loss: 0.0085 - root_mean_squared_error: 0.0922 - val_loss: 0.0315 - val_root_mean_squared_error: 0.1776\n",
      "Epoch 19/50\n",
      "3/3 [==============================] - 0s 21ms/step - loss: 0.0089 - root_mean_squared_error: 0.0943 - val_loss: 0.0337 - val_root_mean_squared_error: 0.1837\n",
      "Epoch 20/50\n",
      "3/3 [==============================] - 0s 22ms/step - loss: 0.0085 - root_mean_squared_error: 0.0921 - val_loss: 0.0295 - val_root_mean_squared_error: 0.1718\n",
      "Epoch 21/50\n",
      "3/3 [==============================] - 0s 19ms/step - loss: 0.0074 - root_mean_squared_error: 0.0863 - val_loss: 0.0221 - val_root_mean_squared_error: 0.1485\n",
      "Epoch 22/50\n",
      "3/3 [==============================] - 0s 22ms/step - loss: 0.0067 - root_mean_squared_error: 0.0817 - val_loss: 0.0168 - val_root_mean_squared_error: 0.1296\n",
      "Epoch 23/50\n",
      "3/3 [==============================] - 0s 21ms/step - loss: 0.0065 - root_mean_squared_error: 0.0809 - val_loss: 0.0136 - val_root_mean_squared_error: 0.1167\n",
      "Epoch 24/50\n",
      "3/3 [==============================] - 0s 23ms/step - loss: 0.0067 - root_mean_squared_error: 0.0815 - val_loss: 0.0134 - val_root_mean_squared_error: 0.1155\n",
      "Epoch 25/50\n",
      "3/3 [==============================] - 0s 23ms/step - loss: 0.0066 - root_mean_squared_error: 0.0814 - val_loss: 0.0153 - val_root_mean_squared_error: 0.1235\n",
      "Epoch 26/50\n",
      "3/3 [==============================] - 0s 23ms/step - loss: 0.0061 - root_mean_squared_error: 0.0780 - val_loss: 0.0203 - val_root_mean_squared_error: 0.1426\n",
      "Epoch 27/50\n",
      "3/3 [==============================] - 0s 22ms/step - loss: 0.0057 - root_mean_squared_error: 0.0754 - val_loss: 0.0228 - val_root_mean_squared_error: 0.1511\n",
      "Epoch 28/50\n",
      "3/3 [==============================] - 0s 26ms/step - loss: 0.0055 - root_mean_squared_error: 0.0741 - val_loss: 0.0254 - val_root_mean_squared_error: 0.1593\n",
      "Epoch 29/50\n",
      "3/3 [==============================] - 0s 24ms/step - loss: 0.0054 - root_mean_squared_error: 0.0737 - val_loss: 0.0290 - val_root_mean_squared_error: 0.1702\n",
      "Epoch 30/50\n",
      "3/3 [==============================] - 0s 24ms/step - loss: 0.0056 - root_mean_squared_error: 0.0745 - val_loss: 0.0327 - val_root_mean_squared_error: 0.1809\n",
      "Epoch 31/50\n",
      "3/3 [==============================] - 0s 23ms/step - loss: 0.0056 - root_mean_squared_error: 0.0749 - val_loss: 0.0314 - val_root_mean_squared_error: 0.1771\n",
      "Epoch 32/50\n",
      "3/3 [==============================] - 0s 23ms/step - loss: 0.0053 - root_mean_squared_error: 0.0726 - val_loss: 0.0250 - val_root_mean_squared_error: 0.1580\n",
      "Epoch 33/50\n",
      "3/3 [==============================] - 0s 24ms/step - loss: 0.0050 - root_mean_squared_error: 0.0705 - val_loss: 0.0213 - val_root_mean_squared_error: 0.1461\n",
      "Epoch 34/50\n",
      "3/3 [==============================] - 0s 31ms/step - loss: 0.0051 - root_mean_squared_error: 0.0716 - val_loss: 0.0192 - val_root_mean_squared_error: 0.1384\n",
      "Epoch 35/50\n",
      "3/3 [==============================] - 0s 35ms/step - loss: 0.0055 - root_mean_squared_error: 0.0743 - val_loss: 0.0174 - val_root_mean_squared_error: 0.1321\n",
      "Epoch 36/50\n",
      "3/3 [==============================] - 0s 28ms/step - loss: 0.0057 - root_mean_squared_error: 0.0758 - val_loss: 0.0180 - val_root_mean_squared_error: 0.1343\n",
      "Epoch 37/50\n",
      "3/3 [==============================] - 0s 25ms/step - loss: 0.0053 - root_mean_squared_error: 0.0730 - val_loss: 0.0207 - val_root_mean_squared_error: 0.1440\n",
      "Epoch 38/50\n",
      "3/3 [==============================] - 0s 25ms/step - loss: 0.0047 - root_mean_squared_error: 0.0687 - val_loss: 0.0221 - val_root_mean_squared_error: 0.1488\n",
      "Epoch 39/50\n",
      "3/3 [==============================] - 0s 23ms/step - loss: 0.0046 - root_mean_squared_error: 0.0676 - val_loss: 0.0238 - val_root_mean_squared_error: 0.1544\n",
      "Epoch 40/50\n",
      "3/3 [==============================] - 0s 24ms/step - loss: 0.0045 - root_mean_squared_error: 0.0671 - val_loss: 0.0262 - val_root_mean_squared_error: 0.1619\n",
      "Epoch 41/50\n",
      "3/3 [==============================] - 0s 24ms/step - loss: 0.0044 - root_mean_squared_error: 0.0666 - val_loss: 0.0290 - val_root_mean_squared_error: 0.1704\n",
      "Epoch 42/50\n",
      "3/3 [==============================] - 0s 25ms/step - loss: 0.0045 - root_mean_squared_error: 0.0668 - val_loss: 0.0336 - val_root_mean_squared_error: 0.1833\n",
      "Epoch 43/50\n",
      "3/3 [==============================] - 0s 24ms/step - loss: 0.0046 - root_mean_squared_error: 0.0676 - val_loss: 0.0355 - val_root_mean_squared_error: 0.1884\n",
      "Epoch 44/50\n",
      "3/3 [==============================] - 0s 28ms/step - loss: 0.0045 - root_mean_squared_error: 0.0668 - val_loss: 0.0311 - val_root_mean_squared_error: 0.1763\n",
      "Epoch 45/50\n",
      "3/3 [==============================] - 0s 25ms/step - loss: 0.0043 - root_mean_squared_error: 0.0656 - val_loss: 0.0262 - val_root_mean_squared_error: 0.1618\n",
      "Epoch 46/50\n",
      "3/3 [==============================] - 0s 27ms/step - loss: 0.0045 - root_mean_squared_error: 0.0667 - val_loss: 0.0255 - val_root_mean_squared_error: 0.1596\n",
      "Epoch 47/50\n",
      "3/3 [==============================] - 0s 27ms/step - loss: 0.0043 - root_mean_squared_error: 0.0654 - val_loss: 0.0239 - val_root_mean_squared_error: 0.1545\n",
      "Epoch 48/50\n",
      "3/3 [==============================] - 0s 24ms/step - loss: 0.0041 - root_mean_squared_error: 0.0637 - val_loss: 0.0240 - val_root_mean_squared_error: 0.1548\n",
      "Epoch 49/50\n",
      "3/3 [==============================] - 0s 25ms/step - loss: 0.0041 - root_mean_squared_error: 0.0639 - val_loss: 0.0274 - val_root_mean_squared_error: 0.1656\n",
      "Epoch 50/50\n",
      "3/3 [==============================] - 0s 24ms/step - loss: 0.0043 - root_mean_squared_error: 0.0653 - val_loss: 0.0276 - val_root_mean_squared_error: 0.1662\n"
     ]
    },
    {
     "data": {
      "text/plain": "<keras.engine.sequential.Sequential at 0x1fe298eeac0>"
     },
     "execution_count": 112,
     "metadata": {},
     "output_type": "execute_result"
    }
   ],
   "source": [
    "train_model(df, checkpoint)"
   ],
   "metadata": {
    "collapsed": false,
    "pycharm": {
     "name": "#%%\n"
    }
   }
  },
  {
   "cell_type": "code",
   "execution_count": 113,
   "outputs": [
    {
     "name": "stdout",
     "output_type": "stream",
     "text": [
      "2/2 [==============================] - 0s 2ms/step\n"
     ]
    }
   ],
   "source": [
    "result = model_predict(df, checkpoint)"
   ],
   "metadata": {
    "collapsed": false,
    "pycharm": {
     "name": "#%%\n"
    }
   }
  },
  {
   "cell_type": "code",
   "execution_count": 114,
   "outputs": [
    {
     "data": {
      "text/plain": "Date\n2017-02-28    0.782112\n2017-03-31    0.796726\n2017-04-30    0.816397\n2017-05-31    0.789760\n2017-06-30    0.762467\n2017-07-31    0.696065\n2017-08-31    0.595710\n2017-09-30    0.509507\n2017-10-31    0.504665\n2017-11-30    0.518082\n2017-12-31    0.576791\n2018-01-31    0.633805\n2018-02-28    0.651584\n2018-03-31    0.671002\n2018-04-30    0.743130\n2018-05-31    0.739050\n2018-06-30    0.723745\n2018-07-31    0.693301\n2018-08-31    0.622243\n2018-09-30    0.552507\n2018-10-31    0.520980\n2018-11-30    0.579371\n2018-12-31    0.618838\n2019-01-31    0.645541\n2019-02-28    0.657154\n2019-03-31    0.665683\n2019-04-30    0.668622\n2019-05-31    0.656400\n2019-06-30    0.671276\n2019-07-31    0.626961\n2019-08-31    0.595801\n2019-09-30    0.552220\n2019-10-31    0.528305\n2019-11-30    0.542248\n2019-12-31    0.623958\n2020-01-31    0.658274\n2020-02-29    0.670240\n2020-03-31    0.671090\n2020-04-30    0.700463\n2020-05-31    0.666410\n2020-06-30    0.631691\nName: Depth_to_Groundwater, dtype: float32"
     },
     "execution_count": 114,
     "metadata": {},
     "output_type": "execute_result"
    }
   ],
   "source": [
    "result"
   ],
   "metadata": {
    "collapsed": false,
    "pycharm": {
     "name": "#%%\n"
    }
   }
  },
  {
   "cell_type": "code",
   "execution_count": 115,
   "outputs": [],
   "source": [
    "result.to_csv('predictions/LSTM_multi/'+checkpoint+'.csv')"
   ],
   "metadata": {
    "collapsed": false,
    "pycharm": {
     "name": "#%%\n"
    }
   }
  },
  {
   "cell_type": "code",
   "execution_count": 116,
   "outputs": [],
   "source": [
    "metrics = {}\n",
    "def calc_metrics(name, series):\n",
    "\n",
    "    results = pd.DataFrame(data={'Predictions':series, 'Actuals':df[name]}, index=series.index)\n",
    "\n",
    "    # Step 2: Calculate the differences between the predicted and actual values\n",
    "    results['Difference'] = results['Actuals'] - results['Predictions']\n",
    "\n",
    "    # Step 3: Calculate squared differences for RMSE\n",
    "    results['Squared_difference'] = results['Difference'] ** 2\n",
    "\n",
    "    # Step 4: Calculate absolute differences for MAE and MAPE\n",
    "    results['Absolute_difference'] = np.abs(results['Difference'])\n",
    "    results['Absolute_percentage_difference'] = np.abs(results['Difference'] / results['Actuals'])\n",
    "\n",
    "    # Step 5: Compute the metrics\n",
    "    rmse = np.sqrt(results['Squared_difference'].mean())\n",
    "    mae = results['Absolute_difference'].mean()\n",
    "    mape = results['Absolute_percentage_difference'].mean() * 100  # to get the percentage\n",
    "    return rmse, mae, mape\n",
    "\n",
    "column = 'Depth_to_Groundwater'\n",
    "rmse, mae, mape = calc_metrics(column, result)\n",
    "metrics[column] = {\n",
    "    'RMSE': rmse,\n",
    "    'MAE': mae,\n",
    "    'MAPE': mape\n",
    "}\n",
    "metrics_df = pd.DataFrame(metrics)"
   ],
   "metadata": {
    "collapsed": false,
    "pycharm": {
     "name": "#%%\n"
    }
   }
  },
  {
   "cell_type": "code",
   "execution_count": 117,
   "outputs": [
    {
     "data": {
      "text/plain": "      Depth_to_Groundwater\nMAE               0.081895\nMAPE             15.167235\nRMSE              0.093202",
      "text/html": "<div>\n<style scoped>\n    .dataframe tbody tr th:only-of-type {\n        vertical-align: middle;\n    }\n\n    .dataframe tbody tr th {\n        vertical-align: top;\n    }\n\n    .dataframe thead th {\n        text-align: right;\n    }\n</style>\n<table border=\"1\" class=\"dataframe\">\n  <thead>\n    <tr style=\"text-align: right;\">\n      <th></th>\n      <th>Depth_to_Groundwater</th>\n    </tr>\n  </thead>\n  <tbody>\n    <tr>\n      <th>MAE</th>\n      <td>0.081895</td>\n    </tr>\n    <tr>\n      <th>MAPE</th>\n      <td>15.167235</td>\n    </tr>\n    <tr>\n      <th>RMSE</th>\n      <td>0.093202</td>\n    </tr>\n  </tbody>\n</table>\n</div>"
     },
     "execution_count": 117,
     "metadata": {},
     "output_type": "execute_result"
    }
   ],
   "source": [
    "metrics_df"
   ],
   "metadata": {
    "collapsed": false,
    "pycharm": {
     "name": "#%%\n"
    }
   }
  },
  {
   "cell_type": "code",
   "execution_count": 91,
   "outputs": [],
   "source": [
    "metrics_df.to_csv('metrics/LSTM_multi/'+checkpoint+'.csv')"
   ],
   "metadata": {
    "collapsed": false,
    "pycharm": {
     "name": "#%%\n"
    }
   }
  },
  {
   "cell_type": "code",
   "execution_count": 94,
   "outputs": [
    {
     "data": {
      "text/plain": "<Axes: xlabel='Date'>"
     },
     "execution_count": 94,
     "metadata": {},
     "output_type": "execute_result"
    },
    {
     "data": {
      "text/plain": "<Figure size 640x480 with 1 Axes>",
      "image/png": "[encoded data removed]"
     },
     "metadata": {},
     "output_type": "display_data"
    }
   ],
   "source": [
    "result[-100:].plot(legend=True, label='prediction')\n",
    "df['Depth_to_Groundwater'][-100:].plot(legend=True)"
   ],
   "metadata": {
    "collapsed": false,
    "pycharm": {
     "name": "#%%\n"
    }
   }
  },
  {
   "cell_type": "code",
   "execution_count": 118,
   "outputs": [],
   "source": [
    "import winsound\n",
    "winsound.Beep(2500,1000)"
   ],
   "metadata": {
    "collapsed": false,
    "pycharm": {
     "name": "#%%\n"
    }
   }
  },
  {
   "cell_type": "code",
   "execution_count": null,
   "outputs": [],
   "source": [],
   "metadata": {
    "collapsed": false,
    "pycharm": {
     "name": "#%%\n"
    }
   }
  }
 ],
 "metadata": {
  "kernelspec": {
   "display_name": "Python 3",
   "language": "python",
   "name": "python3"
  },
  "language_info": {
   "codemirror_mode": {
    "name": "ipython",
    "version": 2
   },
   "file_extension": ".py",
   "mimetype": "text/x-python",
   "name": "python",
   "nbconvert_exporter": "python",
   "pygments_lexer": "ipython2",
   "version": "2.7.6"
  }
 },
 "nbformat": 4,
 "nbformat_minor": 0
}