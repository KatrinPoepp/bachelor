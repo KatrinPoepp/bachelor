{
 "cells": [
  {
   "cell_type": "code",
   "execution_count": 33,
   "outputs": [],
   "source": [
    "import numpy as np  # linear algebra\n",
    "import pandas as pd  # data processing, CSV file I/O (e.g. pd.read_csv)\n",
    "import tensorflow as tf\n",
    "import matplotlib.pyplot as plt  # Visualization\n",
    "import warnings  # Supress warnings\n",
    "import os\n",
    "import random"
   ],
   "metadata": {
    "collapsed": false,
    "pycharm": {
     "name": "#%%\n"
    }
   }
  },
  {
   "cell_type": "code",
   "execution_count": 34,
   "outputs": [],
   "source": [
    "\n",
    "warnings.filterwarnings('ignore')\n",
    "from keras.models import Sequential\n",
    "from keras.layers import *\n",
    "from keras.callbacks import ModelCheckpoint\n",
    "from keras.losses import MeanSquaredError\n",
    "from keras.metrics import RootMeanSquaredError\n",
    "from keras.optimizers import Adam\n",
    "from keras.models import load_model"
   ],
   "metadata": {
    "collapsed": false,
    "pycharm": {
     "name": "#%%\n"
    }
   }
  },
  {
   "cell_type": "code",
   "execution_count": 35,
   "outputs": [],
   "source": [
    "\n",
    "# Seed value\n",
    "SEED = 2023\n",
    "# 1. Set the `PYTHONHASHSEED` environment variable at a fixed value\n",
    "os.environ['PYTHONHASHSEED'] = str(SEED)\n",
    "\n",
    "# 2. Set the `python` built-in pseudo-random generator at a fixed value\n",
    "random.seed(SEED)\n",
    "\n",
    "# 3. Set the `numpy` pseudo-random generator at a fixed value\n",
    "np.random.seed(SEED)\n",
    "\n",
    "# 4. Set the `tensorflow` pseudo-random generator at a fixed value\n",
    "tf.random.set_seed(SEED)\n",
    "\n",
    "# 5. Configure a new global `tensorflow` session\n",
    "session_conf = tf.compat.v1.ConfigProto(intra_op_parallelism_threads=1, inter_op_parallelism_threads=1)\n",
    "sess = tf.compat.v1.Session(graph=tf.compat.v1.get_default_graph(), config=session_conf)\n",
    "tf.compat.v1.keras.backend.set_session(sess)"
   ],
   "metadata": {
    "collapsed": false,
    "pycharm": {
     "name": "#%%\n"
    }
   }
  },
  {
   "cell_type": "code",
   "execution_count": 60,
   "outputs": [
    {
     "data": {
      "text/plain": "            Rainfall  Depth_to_Groundwater  Temperature  Drainage_Volume  \\\nDate                                                                       \n2009-01-31  0.032915              0.216100     0.068714         0.726750   \n2009-02-28  0.073145              0.296982     0.074975         0.936674   \n2009-03-31  0.178683              0.356360     0.236094         0.627008   \n2009-04-30  0.085162              0.410094     0.413676         0.693265   \n2009-05-31  0.149425              0.428197     0.647873         0.400633   \n...              ...                   ...          ...              ...   \n2020-02-29  0.097179              0.583554     0.225748         0.736863   \n2020-03-31  0.366771              0.605731     0.255726         0.721515   \n2020-04-30  0.217346              0.615560     0.421868         0.896287   \n2020-05-31  0.238245              0.621753     0.606720         0.880603   \n2020-06-30  0.365726              0.614845     0.701204         0.732156   \n\n            River_Hydrometry  year  month  quarter  season     month_sin  \\\nDate                                                                       \n2009-01-31          0.396506  2009      1        1       1  5.000000e-01   \n2009-02-28          0.508567  2009      2        1       1  8.660254e-01   \n2009-03-31          0.469107  2009      3        1       2  1.000000e+00   \n2009-04-30          0.407926  2009      4        2       2  8.660254e-01   \n2009-05-31          0.201392  2009      5        2       2  5.000000e-01   \n...                      ...   ...    ...      ...     ...           ...   \n2020-02-29          0.420133  2020      2        1       1  8.660254e-01   \n2020-03-31          0.632459  2020      3        1       2  1.000000e+00   \n2020-04-30          0.475913  2020      4        2       2  8.660254e-01   \n2020-05-31          0.455494  2020      5        2       2  5.000000e-01   \n2020-06-30          0.541556  2020      6        2       3  1.224647e-16   \n\n               month_cos   quarter_sin   quarter_cos    season_sin  \\\nDate                                                                 \n2009-01-31  8.660254e-01  1.000000e+00  6.123234e-17  1.000000e+00   \n2009-02-28  5.000000e-01  1.000000e+00  6.123234e-17  1.000000e+00   \n2009-03-31  6.123234e-17  1.000000e+00  6.123234e-17  1.224647e-16   \n2009-04-30 -5.000000e-01  1.224647e-16 -1.000000e+00  1.224647e-16   \n2009-05-31 -8.660254e-01  1.224647e-16 -1.000000e+00  1.224647e-16   \n...                  ...           ...           ...           ...   \n2020-02-29  5.000000e-01  1.000000e+00  6.123234e-17  1.000000e+00   \n2020-03-31  6.123234e-17  1.000000e+00  6.123234e-17  1.224647e-16   \n2020-04-30 -5.000000e-01  1.224647e-16 -1.000000e+00  1.224647e-16   \n2020-05-31 -8.660254e-01  1.224647e-16 -1.000000e+00  1.224647e-16   \n2020-06-30 -1.000000e+00  1.224647e-16 -1.000000e+00 -1.000000e+00   \n\n              season_cos  \nDate                      \n2009-01-31  6.123234e-17  \n2009-02-28  6.123234e-17  \n2009-03-31 -1.000000e+00  \n2009-04-30 -1.000000e+00  \n2009-05-31 -1.000000e+00  \n...                  ...  \n2020-02-29  6.123234e-17  \n2020-03-31 -1.000000e+00  \n2020-04-30 -1.000000e+00  \n2020-05-31 -1.000000e+00  \n2020-06-30 -1.836970e-16  \n\n[138 rows x 15 columns]",
      "text/html": "<div>\n<style scoped>\n    .dataframe tbody tr th:only-of-type {\n        vertical-align: middle;\n    }\n\n    .dataframe tbody tr th {\n        vertical-align: top;\n    }\n\n    .dataframe thead th {\n        text-align: right;\n    }\n</style>\n<table border=\"1\" class=\"dataframe\">\n  <thead>\n    <tr style=\"text-align: right;\">\n      <th></th>\n      <th>Rainfall</th>\n      <th>Depth_to_Groundwater</th>\n      <th>Temperature</th>\n      <th>Drainage_Volume</th>\n      <th>River_Hydrometry</th>\n      <th>year</th>\n      <th>month</th>\n      <th>quarter</th>\n      <th>season</th>\n      <th>month_sin</th>\n      <th>month_cos</th>\n      <th>quarter_sin</th>\n      <th>quarter_cos</th>\n      <th>season_sin</th>\n      <th>season_cos</th>\n    </tr>\n    <tr>\n      <th>Date</th>\n      <th></th>\n      <th></th>\n      <th></th>\n      <th></th>\n      <th></th>\n      <th></th>\n      <th></th>\n      <th></th>\n      <th></th>\n      <th></th>\n      <th></th>\n      <th></th>\n      <th></th>\n      <th></th>\n      <th></th>\n    </tr>\n  </thead>\n  <tbody>\n    <tr>\n      <th>2009-01-31</th>\n      <td>0.032915</td>\n      <td>0.216100</td>\n      <td>0.068714</td>\n      <td>0.726750</td>\n      <td>0.396506</td>\n      <td>2009</td>\n      <td>1</td>\n      <td>1</td>\n      <td>1</td>\n      <td>5.000000e-01</td>\n      <td>8.660254e-01</td>\n      <td>1.000000e+00</td>\n      <td>6.123234e-17</td>\n      <td>1.000000e+00</td>\n      <td>6.123234e-17</td>\n    </tr>\n    <tr>\n      <th>2009-02-28</th>\n      <td>0.073145</td>\n      <td>0.296982</td>\n      <td>0.074975</td>\n      <td>0.936674</td>\n      <td>0.508567</td>\n      <td>2009</td>\n      <td>2</td>\n      <td>1</td>\n      <td>1</td>\n      <td>8.660254e-01</td>\n      <td>5.000000e-01</td>\n      <td>1.000000e+00</td>\n      <td>6.123234e-17</td>\n      <td>1.000000e+00</td>\n      <td>6.123234e-17</td>\n    </tr>\n    <tr>\n      <th>2009-03-31</th>\n      <td>0.178683</td>\n      <td>0.356360</td>\n      <td>0.236094</td>\n      <td>0.627008</td>\n      <td>0.469107</td>\n      <td>2009</td>\n      <td>3</td>\n      <td>1</td>\n      <td>2</td>\n      <td>1.000000e+00</td>\n      <td>6.123234e-17</td>\n      <td>1.000000e+00</td>\n      <td>6.123234e-17</td>\n      <td>1.224647e-16</td>\n      <td>-1.000000e+00</td>\n    </tr>\n    <tr>\n      <th>2009-04-30</th>\n      <td>0.085162</td>\n      <td>0.410094</td>\n      <td>0.413676</td>\n      <td>0.693265</td>\n      <td>0.407926</td>\n      <td>2009</td>\n      <td>4</td>\n      <td>2</td>\n      <td>2</td>\n      <td>8.660254e-01</td>\n      <td>-5.000000e-01</td>\n      <td>1.224647e-16</td>\n      <td>-1.000000e+00</td>\n      <td>1.224647e-16</td>\n      <td>-1.000000e+00</td>\n    </tr>\n    <tr>\n      <th>2009-05-31</th>\n      <td>0.149425</td>\n      <td>0.428197</td>\n      <td>0.647873</td>\n      <td>0.400633</td>\n      <td>0.201392</td>\n      <td>2009</td>\n      <td>5</td>\n      <td>2</td>\n      <td>2</td>\n      <td>5.000000e-01</td>\n      <td>-8.660254e-01</td>\n      <td>1.224647e-16</td>\n      <td>-1.000000e+00</td>\n      <td>1.224647e-16</td>\n      <td>-1.000000e+00</td>\n    </tr>\n    <tr>\n      <th>...</th>\n      <td>...</td>\n      <td>...</td>\n      <td>...</td>\n      <td>...</td>\n      <td>...</td>\n      <td>...</td>\n      <td>...</td>\n      <td>...</td>\n      <td>...</td>\n      <td>...</td>\n      <td>...</td>\n      <td>...</td>\n      <td>...</td>\n      <td>...</td>\n      <td>...</td>\n    </tr>\n    <tr>\n      <th>2020-02-29</th>\n      <td>0.097179</td>\n      <td>0.583554</td>\n      <td>0.225748</td>\n      <td>0.736863</td>\n      <td>0.420133</td>\n      <td>2020</td>\n      <td>2</td>\n      <td>1</td>\n      <td>1</td>\n      <td>8.660254e-01</td>\n      <td>5.000000e-01</td>\n      <td>1.000000e+00</td>\n      <td>6.123234e-17</td>\n      <td>1.000000e+00</td>\n      <td>6.123234e-17</td>\n    </tr>\n    <tr>\n      <th>2020-03-31</th>\n      <td>0.366771</td>\n      <td>0.605731</td>\n      <td>0.255726</td>\n      <td>0.721515</td>\n      <td>0.632459</td>\n      <td>2020</td>\n      <td>3</td>\n      <td>1</td>\n      <td>2</td>\n      <td>1.000000e+00</td>\n      <td>6.123234e-17</td>\n      <td>1.000000e+00</td>\n      <td>6.123234e-17</td>\n      <td>1.224647e-16</td>\n      <td>-1.000000e+00</td>\n    </tr>\n    <tr>\n      <th>2020-04-30</th>\n      <td>0.217346</td>\n      <td>0.615560</td>\n      <td>0.421868</td>\n      <td>0.896287</td>\n      <td>0.475913</td>\n      <td>2020</td>\n      <td>4</td>\n      <td>2</td>\n      <td>2</td>\n      <td>8.660254e-01</td>\n      <td>-5.000000e-01</td>\n      <td>1.224647e-16</td>\n      <td>-1.000000e+00</td>\n      <td>1.224647e-16</td>\n      <td>-1.000000e+00</td>\n    </tr>\n    <tr>\n      <th>2020-05-31</th>\n      <td>0.238245</td>\n      <td>0.621753</td>\n      <td>0.606720</td>\n      <td>0.880603</td>\n      <td>0.455494</td>\n      <td>2020</td>\n      <td>5</td>\n      <td>2</td>\n      <td>2</td>\n      <td>5.000000e-01</td>\n      <td>-8.660254e-01</td>\n      <td>1.224647e-16</td>\n      <td>-1.000000e+00</td>\n      <td>1.224647e-16</td>\n      <td>-1.000000e+00</td>\n    </tr>\n    <tr>\n      <th>2020-06-30</th>\n      <td>0.365726</td>\n      <td>0.614845</td>\n      <td>0.701204</td>\n      <td>0.732156</td>\n      <td>0.541556</td>\n      <td>2020</td>\n      <td>6</td>\n      <td>2</td>\n      <td>3</td>\n      <td>1.224647e-16</td>\n      <td>-1.000000e+00</td>\n      <td>1.224647e-16</td>\n      <td>-1.000000e+00</td>\n      <td>-1.000000e+00</td>\n      <td>-1.836970e-16</td>\n    </tr>\n  </tbody>\n</table>\n<p>138 rows × 15 columns</p>\n</div>"
     },
     "execution_count": 60,
     "metadata": {},
     "output_type": "execute_result"
    }
   ],
   "source": [
    "df = pd.read_csv(\"./files/cycl_m.csv\", index_col=0)\n",
    "df.index = pd.to_datetime(df.index, format='%Y-%m-%d')\n",
    "df"
   ],
   "metadata": {
    "collapsed": false,
    "pycharm": {
     "name": "#%%\n"
    }
   }
  },
  {
   "cell_type": "code",
   "execution_count": 61,
   "outputs": [],
   "source": [
    "features_cos = ['Rainfall', 'Depth_to_Groundwater', 'Temperature', 'Drainage_Volume', 'River_Hydrometry', 'day_cos',\n",
    "                'month_cos', 'week_of_year_cos', 'quarter_cos', 'season_cos']\n",
    "delete = [feature for feature in df.columns if feature not in features_cos]\n",
    "df_cos = df.drop(delete, axis=1)"
   ],
   "metadata": {
    "collapsed": false,
    "pycharm": {
     "name": "#%%\n"
    }
   }
  },
  {
   "cell_type": "code",
   "execution_count": 62,
   "outputs": [],
   "source": [
    "features_new = ['Depth_to_Groundwater', 'Drainage_Volume', 'River_Hydrometry', 'month_cos', 'week_of_year_cos', 'quarter_cos']\n",
    "features_3 = ['Rainfall', 'Depth_to_Groundwater', 'Drainage_Volume', 'River_Hydrometry', 'month_cos', 'quarter_cos']\n",
    "delete3 = [feature for feature in df_cos.columns if feature not in features_3]\n",
    "df_new = df_cos.drop(delete3, axis=1)"
   ],
   "metadata": {
    "collapsed": false,
    "pycharm": {
     "name": "#%%\n"
    }
   }
  },
  {
   "cell_type": "code",
   "execution_count": 63,
   "outputs": [
    {
     "data": {
      "text/plain": "            Rainfall  Depth_to_Groundwater  Drainage_Volume  River_Hydrometry  \\\nDate                                                                            \n2009-01-31  0.032915              0.216100         0.726750          0.396506   \n2009-02-28  0.073145              0.296982         0.936674          0.508567   \n2009-03-31  0.178683              0.356360         0.627008          0.469107   \n2009-04-30  0.085162              0.410094         0.693265          0.407926   \n2009-05-31  0.149425              0.428197         0.400633          0.201392   \n...              ...                   ...              ...               ...   \n2020-02-29  0.097179              0.583554         0.736863          0.420133   \n2020-03-31  0.366771              0.605731         0.721515          0.632459   \n2020-04-30  0.217346              0.615560         0.896287          0.475913   \n2020-05-31  0.238245              0.621753         0.880603          0.455494   \n2020-06-30  0.365726              0.614845         0.732156          0.541556   \n\n               month_cos   quarter_cos  \nDate                                    \n2009-01-31  8.660254e-01  6.123234e-17  \n2009-02-28  5.000000e-01  6.123234e-17  \n2009-03-31  6.123234e-17  6.123234e-17  \n2009-04-30 -5.000000e-01 -1.000000e+00  \n2009-05-31 -8.660254e-01 -1.000000e+00  \n...                  ...           ...  \n2020-02-29  5.000000e-01  6.123234e-17  \n2020-03-31  6.123234e-17  6.123234e-17  \n2020-04-30 -5.000000e-01 -1.000000e+00  \n2020-05-31 -8.660254e-01 -1.000000e+00  \n2020-06-30 -1.000000e+00 -1.000000e+00  \n\n[138 rows x 6 columns]",
      "text/html": "<div>\n<style scoped>\n    .dataframe tbody tr th:only-of-type {\n        vertical-align: middle;\n    }\n\n    .dataframe tbody tr th {\n        vertical-align: top;\n    }\n\n    .dataframe thead th {\n        text-align: right;\n    }\n</style>\n<table border=\"1\" class=\"dataframe\">\n  <thead>\n    <tr style=\"text-align: right;\">\n      <th></th>\n      <th>Rainfall</th>\n      <th>Depth_to_Groundwater</th>\n      <th>Drainage_Volume</th>\n      <th>River_Hydrometry</th>\n      <th>month_cos</th>\n      <th>quarter_cos</th>\n    </tr>\n    <tr>\n      <th>Date</th>\n      <th></th>\n      <th></th>\n      <th></th>\n      <th></th>\n      <th></th>\n      <th></th>\n    </tr>\n  </thead>\n  <tbody>\n    <tr>\n      <th>2009-01-31</th>\n      <td>0.032915</td>\n      <td>0.216100</td>\n      <td>0.726750</td>\n      <td>0.396506</td>\n      <td>8.660254e-01</td>\n      <td>6.123234e-17</td>\n    </tr>\n    <tr>\n      <th>2009-02-28</th>\n      <td>0.073145</td>\n      <td>0.296982</td>\n      <td>0.936674</td>\n      <td>0.508567</td>\n      <td>5.000000e-01</td>\n      <td>6.123234e-17</td>\n    </tr>\n    <tr>\n      <th>2009-03-31</th>\n      <td>0.178683</td>\n      <td>0.356360</td>\n      <td>0.627008</td>\n      <td>0.469107</td>\n      <td>6.123234e-17</td>\n      <td>6.123234e-17</td>\n    </tr>\n    <tr>\n      <th>2009-04-30</th>\n      <td>0.085162</td>\n      <td>0.410094</td>\n      <td>0.693265</td>\n      <td>0.407926</td>\n      <td>-5.000000e-01</td>\n      <td>-1.000000e+00</td>\n    </tr>\n    <tr>\n      <th>2009-05-31</th>\n      <td>0.149425</td>\n      <td>0.428197</td>\n      <td>0.400633</td>\n      <td>0.201392</td>\n      <td>-8.660254e-01</td>\n      <td>-1.000000e+00</td>\n    </tr>\n    <tr>\n      <th>...</th>\n      <td>...</td>\n      <td>...</td>\n      <td>...</td>\n      <td>...</td>\n      <td>...</td>\n      <td>...</td>\n    </tr>\n    <tr>\n      <th>2020-02-29</th>\n      <td>0.097179</td>\n      <td>0.583554</td>\n      <td>0.736863</td>\n      <td>0.420133</td>\n      <td>5.000000e-01</td>\n      <td>6.123234e-17</td>\n    </tr>\n    <tr>\n      <th>2020-03-31</th>\n      <td>0.366771</td>\n      <td>0.605731</td>\n      <td>0.721515</td>\n      <td>0.632459</td>\n      <td>6.123234e-17</td>\n      <td>6.123234e-17</td>\n    </tr>\n    <tr>\n      <th>2020-04-30</th>\n      <td>0.217346</td>\n      <td>0.615560</td>\n      <td>0.896287</td>\n      <td>0.475913</td>\n      <td>-5.000000e-01</td>\n      <td>-1.000000e+00</td>\n    </tr>\n    <tr>\n      <th>2020-05-31</th>\n      <td>0.238245</td>\n      <td>0.621753</td>\n      <td>0.880603</td>\n      <td>0.455494</td>\n      <td>-8.660254e-01</td>\n      <td>-1.000000e+00</td>\n    </tr>\n    <tr>\n      <th>2020-06-30</th>\n      <td>0.365726</td>\n      <td>0.614845</td>\n      <td>0.732156</td>\n      <td>0.541556</td>\n      <td>-1.000000e+00</td>\n      <td>-1.000000e+00</td>\n    </tr>\n  </tbody>\n</table>\n<p>138 rows × 6 columns</p>\n</div>"
     },
     "execution_count": 63,
     "metadata": {},
     "output_type": "execute_result"
    }
   ],
   "source": [
    "df = df_new\n",
    "df"
   ],
   "metadata": {
    "collapsed": false,
    "pycharm": {
     "name": "#%%\n"
    }
   }
  },
  {
   "cell_type": "code",
   "execution_count": 15,
   "outputs": [],
   "source": [
    "# Load the TensorBoard notebook extension\n",
    "%load_ext tensorboard"
   ],
   "metadata": {
    "collapsed": false,
    "pycharm": {
     "name": "#%%\n"
    }
   }
  },
  {
   "cell_type": "code",
   "execution_count": 16,
   "outputs": [],
   "source": [
    "from tensorboard.plugins.hparams import api as hp"
   ],
   "metadata": {
    "collapsed": false,
    "pycharm": {
     "name": "#%%\n"
    }
   }
  },
  {
   "cell_type": "code",
   "execution_count": 64,
   "outputs": [],
   "source": [
    "HP_NUM_UNITS = hp.HParam('num_units', hp.Discrete([64, 96, 128]))\n",
    "HP_N_STEPS_IN = hp.HParam('n_steps_in', hp.Discrete([3, 5, 7, 10, 15]))\n",
    "HP_DROPOUT = hp.HParam('dropout', hp.Discrete([0.1, 0.2, 0.3, 0.4]))\n",
    "HP_OPTIMIZER = hp.HParam('optimizer', hp.Discrete(['adam', 'nadam']))\n",
    "\n",
    "METRIC_RMSE = 'RootMeanSquaredError'\n",
    "\n",
    "logdir = 'logs/hparam_tuning_multi'\n",
    "with tf.summary.create_file_writer(logdir).as_default():\n",
    "    hp.hparams_config(\n",
    "        hparams=[HP_NUM_UNITS, HP_N_STEPS_IN, HP_DROPOUT, HP_OPTIMIZER],\n",
    "        metrics=[hp.Metric(METRIC_RMSE, display_name='RMSE')]\n",
    "    )\n"
   ],
   "metadata": {
    "collapsed": false,
    "pycharm": {
     "name": "#%%\n"
    }
   }
  },
  {
   "cell_type": "code",
   "execution_count": 65,
   "outputs": [],
   "source": [
    "N_FEATURES  = 6  # multivariate\n",
    "#N_STEPS_IN  = 5 # static window\n",
    "N_STEPS_OUT = 1  # single-step"
   ],
   "metadata": {
    "collapsed": false,
    "pycharm": {
     "name": "#%%\n"
    }
   }
  },
  {
   "cell_type": "code",
   "execution_count": 66,
   "outputs": [],
   "source": [
    "def df_to_X_y(df, hparams):\n",
    "    N_STEPS_IN  = hparams[HP_N_STEPS_IN]\n",
    "    df_as_np = df.to_numpy()\n",
    "    X = []\n",
    "    y = []\n",
    "    for i in range(len(df_as_np) - N_STEPS_IN):\n",
    "        row = [r for r in df_as_np[i:i + N_STEPS_IN]]\n",
    "        X.append(row)\n",
    "        label = df_as_np[i + N_STEPS_IN][1]\n",
    "        y.append(label)\n",
    "    return np.array(X), np.array(y)\n",
    "\n",
    "def get_sets(df, hparams):\n",
    "    X1, y1 = df_to_X_y(df, hparams)\n",
    "    N_STEPS_IN  = hparams[HP_N_STEPS_IN]\n",
    "    TRAIN_SIZE = int((len(df.index)-N_STEPS_IN) * 0.5)\n",
    "    VAL_SIZE = int((len(df.index)-N_STEPS_IN) * 0.2)\n",
    "\n",
    "    X_train1, y_train1 = X1[:TRAIN_SIZE], y1[:TRAIN_SIZE]\n",
    "    X_val1, y_val1 = X1[TRAIN_SIZE:TRAIN_SIZE + VAL_SIZE], y1[TRAIN_SIZE:TRAIN_SIZE + VAL_SIZE]\n",
    "    X_test1, y_test1 = X1[TRAIN_SIZE + VAL_SIZE:], y1[TRAIN_SIZE + VAL_SIZE:]\n",
    "    return X1, y1, X_train1, y_train1, X_val1, y_val1, X_test1, y_test1"
   ],
   "metadata": {
    "collapsed": false,
    "pycharm": {
     "name": "#%%\n"
    }
   }
  },
  {
   "cell_type": "code",
   "execution_count": 45,
   "outputs": [],
   "source": [
    "def init_model(hparams):\n",
    "    # Use initializers to initialize model parameters with the same values\n",
    "    INITIALIZER_GLOROT_UNIFORM = tf.keras.initializers.GlorotUniform(seed=SEED)\n",
    "    INITIALIZER_ORTHOGONAL = tf.keras.initializers.Orthogonal(gain=1.0, seed=SEED)\n",
    "    model = Sequential()\n",
    "    model.add(InputLayer((hparams[HP_N_STEPS_IN], N_FEATURES)))\n",
    "    model.add(LSTM(units=hparams[HP_NUM_UNITS],\n",
    "                   kernel_initializer=INITIALIZER_GLOROT_UNIFORM,\n",
    "                   recurrent_initializer=INITIALIZER_ORTHOGONAL))\n",
    "    tf.keras.layers.Dropout(hparams[HP_DROPOUT]),\n",
    "    model.add(Dense(units=8, activation='relu', kernel_initializer=INITIALIZER_GLOROT_UNIFORM))\n",
    "    model.add(Dense(units=N_STEPS_OUT,\n",
    "                    kernel_initializer=INITIALIZER_GLOROT_UNIFORM,\n",
    "                    activation='linear'))\n",
    "    return model"
   ],
   "metadata": {
    "collapsed": false,
    "pycharm": {
     "name": "#%%\n"
    }
   }
  },
  {
   "cell_type": "code",
   "execution_count": 57,
   "outputs": [],
   "source": [
    "def train_model(df, hparams):\n",
    "    X1, y1, X_train1, y_train1, X_val1, y_val1, X_test1, y_test1 = get_sets(df, hparams)\n",
    "    model = init_model(hparams)\n",
    "    model.compile(loss=MeanSquaredError(), optimizer=hparams[HP_OPTIMIZER], metrics=[RootMeanSquaredError()])\n",
    "    model.fit(X_train1, y_train1, validation_data=(X_val1, y_val1), epochs=15, verbose=0, callbacks=[\n",
    "        tf.keras.callbacks.TensorBoard(logdir),  # log metrics\n",
    "        hp.KerasCallback(logdir, hparams),  # log hparams\n",
    "    ])\n",
    "    return model"
   ],
   "metadata": {
    "collapsed": false,
    "pycharm": {
     "name": "#%%\n"
    }
   }
  },
  {
   "cell_type": "code",
   "execution_count": 47,
   "outputs": [],
   "source": [
    "def train_test_model(df, hparams):\n",
    "    X1, y1, X_train1, y_train1, X_val1, y_val1, X_test1, y_test1 = get_sets(df, hparams)\n",
    "    model = train_model(df, hparams)\n",
    "    _, rmse = model.evaluate(X_test1, y_test1)\n",
    "    return  rmse"
   ],
   "metadata": {
    "collapsed": false,
    "pycharm": {
     "name": "#%%\n"
    }
   }
  },
  {
   "cell_type": "code",
   "execution_count": 48,
   "outputs": [],
   "source": [
    "def run(run_dir, hparams):\n",
    "    with tf.summary.create_file_writer(run_dir).as_default():\n",
    "        hp.hparams(hparams)  # record the values used in this trial\n",
    "        rmse = train_test_model(df, hparams)\n",
    "        tf.summary.scalar(METRIC_RMSE, rmse, step=10)"
   ],
   "metadata": {
    "collapsed": false,
    "pycharm": {
     "name": "#%%\n"
    }
   }
  },
  {
   "cell_type": "code",
   "execution_count": 67,
   "outputs": [
    {
     "name": "stdout",
     "output_type": "stream",
     "text": [
      "--- Starting trial: run-0\n",
      "{'n_steps_in': 3, 'num_units': 64, 'dropout': 0.1, 'optimizer': 'adam'}\n",
      "2/2 [==============================] - 0s 4ms/step - loss: 0.0182 - root_mean_squared_error: 0.1349\n",
      "--- Starting trial: run-1\n",
      "{'n_steps_in': 3, 'num_units': 64, 'dropout': 0.1, 'optimizer': 'nadam'}\n",
      "2/2 [==============================] - 0s 5ms/step - loss: 0.0263 - root_mean_squared_error: 0.1620\n",
      "--- Starting trial: run-2\n",
      "{'n_steps_in': 3, 'num_units': 64, 'dropout': 0.2, 'optimizer': 'adam'}\n",
      "2/2 [==============================] - 0s 4ms/step - loss: 0.0182 - root_mean_squared_error: 0.1349\n",
      "--- Starting trial: run-3\n",
      "{'n_steps_in': 3, 'num_units': 64, 'dropout': 0.2, 'optimizer': 'nadam'}\n",
      "2/2 [==============================] - 0s 5ms/step - loss: 0.0263 - root_mean_squared_error: 0.1620\n",
      "--- Starting trial: run-4\n",
      "{'n_steps_in': 3, 'num_units': 64, 'dropout': 0.3, 'optimizer': 'adam'}\n",
      "2/2 [==============================] - 0s 6ms/step - loss: 0.0182 - root_mean_squared_error: 0.1349\n",
      "--- Starting trial: run-5\n",
      "{'n_steps_in': 3, 'num_units': 64, 'dropout': 0.3, 'optimizer': 'nadam'}\n",
      "2/2 [==============================] - 0s 14ms/step - loss: 0.0263 - root_mean_squared_error: 0.1620\n",
      "--- Starting trial: run-6\n",
      "{'n_steps_in': 3, 'num_units': 64, 'dropout': 0.4, 'optimizer': 'adam'}\n",
      "2/2 [==============================] - 0s 7ms/step - loss: 0.0182 - root_mean_squared_error: 0.1349\n",
      "--- Starting trial: run-7\n",
      "{'n_steps_in': 3, 'num_units': 64, 'dropout': 0.4, 'optimizer': 'nadam'}\n",
      "2/2 [==============================] - 0s 5ms/step - loss: 0.0263 - root_mean_squared_error: 0.1620\n",
      "--- Starting trial: run-8\n",
      "{'n_steps_in': 3, 'num_units': 96, 'dropout': 0.1, 'optimizer': 'adam'}\n",
      "2/2 [==============================] - 0s 6ms/step - loss: 0.0138 - root_mean_squared_error: 0.1173\n",
      "--- Starting trial: run-9\n",
      "{'n_steps_in': 3, 'num_units': 96, 'dropout': 0.1, 'optimizer': 'nadam'}\n",
      "2/2 [==============================] - 0s 6ms/step - loss: 0.0229 - root_mean_squared_error: 0.1515\n",
      "--- Starting trial: run-10\n",
      "{'n_steps_in': 3, 'num_units': 96, 'dropout': 0.2, 'optimizer': 'adam'}\n",
      "2/2 [==============================] - 0s 6ms/step - loss: 0.0138 - root_mean_squared_error: 0.1173\n",
      "--- Starting trial: run-11\n",
      "{'n_steps_in': 3, 'num_units': 96, 'dropout': 0.2, 'optimizer': 'nadam'}\n",
      "2/2 [==============================] - 0s 7ms/step - loss: 0.0229 - root_mean_squared_error: 0.1515\n",
      "--- Starting trial: run-12\n",
      "{'n_steps_in': 3, 'num_units': 96, 'dropout': 0.3, 'optimizer': 'adam'}\n",
      "2/2 [==============================] - 0s 5ms/step - loss: 0.0138 - root_mean_squared_error: 0.1173\n",
      "--- Starting trial: run-13\n",
      "{'n_steps_in': 3, 'num_units': 96, 'dropout': 0.3, 'optimizer': 'nadam'}\n",
      "2/2 [==============================] - 0s 5ms/step - loss: 0.0229 - root_mean_squared_error: 0.1515\n",
      "--- Starting trial: run-14\n",
      "{'n_steps_in': 3, 'num_units': 96, 'dropout': 0.4, 'optimizer': 'adam'}\n",
      "2/2 [==============================] - 0s 5ms/step - loss: 0.0138 - root_mean_squared_error: 0.1173\n",
      "--- Starting trial: run-15\n",
      "{'n_steps_in': 3, 'num_units': 96, 'dropout': 0.4, 'optimizer': 'nadam'}\n",
      "2/2 [==============================] - 0s 6ms/step - loss: 0.0229 - root_mean_squared_error: 0.1515\n",
      "--- Starting trial: run-16\n",
      "{'n_steps_in': 3, 'num_units': 128, 'dropout': 0.1, 'optimizer': 'adam'}\n",
      "2/2 [==============================] - 0s 5ms/step - loss: 0.0277 - root_mean_squared_error: 0.1663\n",
      "--- Starting trial: run-17\n",
      "{'n_steps_in': 3, 'num_units': 128, 'dropout': 0.1, 'optimizer': 'nadam'}\n",
      "2/2 [==============================] - 0s 7ms/step - loss: 0.0174 - root_mean_squared_error: 0.1318\n",
      "--- Starting trial: run-18\n",
      "{'n_steps_in': 3, 'num_units': 128, 'dropout': 0.2, 'optimizer': 'adam'}\n",
      "2/2 [==============================] - 0s 7ms/step - loss: 0.0277 - root_mean_squared_error: 0.1663\n",
      "--- Starting trial: run-19\n",
      "{'n_steps_in': 3, 'num_units': 128, 'dropout': 0.2, 'optimizer': 'nadam'}\n",
      "2/2 [==============================] - 0s 7ms/step - loss: 0.0174 - root_mean_squared_error: 0.1318\n",
      "--- Starting trial: run-20\n",
      "{'n_steps_in': 3, 'num_units': 128, 'dropout': 0.3, 'optimizer': 'adam'}\n",
      "2/2 [==============================] - 0s 7ms/step - loss: 0.0277 - root_mean_squared_error: 0.1663\n",
      "--- Starting trial: run-21\n",
      "{'n_steps_in': 3, 'num_units': 128, 'dropout': 0.3, 'optimizer': 'nadam'}\n",
      "2/2 [==============================] - 0s 5ms/step - loss: 0.0174 - root_mean_squared_error: 0.1318\n",
      "--- Starting trial: run-22\n",
      "{'n_steps_in': 3, 'num_units': 128, 'dropout': 0.4, 'optimizer': 'adam'}\n",
      "2/2 [==============================] - 0s 7ms/step - loss: 0.0277 - root_mean_squared_error: 0.1663\n",
      "--- Starting trial: run-23\n",
      "{'n_steps_in': 3, 'num_units': 128, 'dropout': 0.4, 'optimizer': 'nadam'}\n",
      "2/2 [==============================] - 0s 5ms/step - loss: 0.0174 - root_mean_squared_error: 0.1318\n",
      "--- Starting trial: run-24\n",
      "{'n_steps_in': 5, 'num_units': 64, 'dropout': 0.1, 'optimizer': 'adam'}\n",
      "2/2 [==============================] - 0s 7ms/step - loss: 0.0109 - root_mean_squared_error: 0.1044\n",
      "--- Starting trial: run-25\n",
      "{'n_steps_in': 5, 'num_units': 64, 'dropout': 0.1, 'optimizer': 'nadam'}\n",
      "2/2 [==============================] - 0s 7ms/step - loss: 0.0264 - root_mean_squared_error: 0.1626\n",
      "--- Starting trial: run-26\n",
      "{'n_steps_in': 5, 'num_units': 64, 'dropout': 0.2, 'optimizer': 'adam'}\n",
      "2/2 [==============================] - 0s 7ms/step - loss: 0.0109 - root_mean_squared_error: 0.1044\n",
      "--- Starting trial: run-27\n",
      "{'n_steps_in': 5, 'num_units': 64, 'dropout': 0.2, 'optimizer': 'nadam'}\n",
      "2/2 [==============================] - 0s 6ms/step - loss: 0.0264 - root_mean_squared_error: 0.1626\n",
      "--- Starting trial: run-28\n",
      "{'n_steps_in': 5, 'num_units': 64, 'dropout': 0.3, 'optimizer': 'adam'}\n",
      "2/2 [==============================] - 0s 4ms/step - loss: 0.0109 - root_mean_squared_error: 0.1044\n",
      "--- Starting trial: run-29\n",
      "{'n_steps_in': 5, 'num_units': 64, 'dropout': 0.3, 'optimizer': 'nadam'}\n",
      "2/2 [==============================] - 0s 8ms/step - loss: 0.0264 - root_mean_squared_error: 0.1626\n",
      "--- Starting trial: run-30\n",
      "{'n_steps_in': 5, 'num_units': 64, 'dropout': 0.4, 'optimizer': 'adam'}\n",
      "2/2 [==============================] - 0s 6ms/step - loss: 0.0109 - root_mean_squared_error: 0.1044\n",
      "--- Starting trial: run-31\n",
      "{'n_steps_in': 5, 'num_units': 64, 'dropout': 0.4, 'optimizer': 'nadam'}\n",
      "2/2 [==============================] - 0s 6ms/step - loss: 0.0264 - root_mean_squared_error: 0.1626\n",
      "--- Starting trial: run-32\n",
      "{'n_steps_in': 5, 'num_units': 96, 'dropout': 0.1, 'optimizer': 'adam'}\n",
      "2/2 [==============================] - 0s 6ms/step - loss: 0.0166 - root_mean_squared_error: 0.1290\n",
      "--- Starting trial: run-33\n",
      "{'n_steps_in': 5, 'num_units': 96, 'dropout': 0.1, 'optimizer': 'nadam'}\n",
      "2/2 [==============================] - 0s 7ms/step - loss: 0.0390 - root_mean_squared_error: 0.1975\n",
      "--- Starting trial: run-34\n",
      "{'n_steps_in': 5, 'num_units': 96, 'dropout': 0.2, 'optimizer': 'adam'}\n",
      "2/2 [==============================] - 0s 5ms/step - loss: 0.0166 - root_mean_squared_error: 0.1290\n",
      "--- Starting trial: run-35\n",
      "{'n_steps_in': 5, 'num_units': 96, 'dropout': 0.2, 'optimizer': 'nadam'}\n",
      "2/2 [==============================] - 0s 6ms/step - loss: 0.0390 - root_mean_squared_error: 0.1975\n",
      "--- Starting trial: run-36\n",
      "{'n_steps_in': 5, 'num_units': 96, 'dropout': 0.3, 'optimizer': 'adam'}\n",
      "2/2 [==============================] - 0s 4ms/step - loss: 0.0166 - root_mean_squared_error: 0.1290\n",
      "--- Starting trial: run-37\n",
      "{'n_steps_in': 5, 'num_units': 96, 'dropout': 0.3, 'optimizer': 'nadam'}\n",
      "2/2 [==============================] - 0s 10ms/step - loss: 0.0390 - root_mean_squared_error: 0.1975\n",
      "--- Starting trial: run-38\n",
      "{'n_steps_in': 5, 'num_units': 96, 'dropout': 0.4, 'optimizer': 'adam'}\n",
      "2/2 [==============================] - 0s 7ms/step - loss: 0.0166 - root_mean_squared_error: 0.1290\n",
      "--- Starting trial: run-39\n",
      "{'n_steps_in': 5, 'num_units': 96, 'dropout': 0.4, 'optimizer': 'nadam'}\n",
      "2/2 [==============================] - 0s 7ms/step - loss: 0.0390 - root_mean_squared_error: 0.1975\n",
      "--- Starting trial: run-40\n",
      "{'n_steps_in': 5, 'num_units': 128, 'dropout': 0.1, 'optimizer': 'adam'}\n",
      "2/2 [==============================] - 0s 8ms/step - loss: 0.0533 - root_mean_squared_error: 0.2310\n",
      "--- Starting trial: run-41\n",
      "{'n_steps_in': 5, 'num_units': 128, 'dropout': 0.1, 'optimizer': 'nadam'}\n",
      "2/2 [==============================] - 0s 5ms/step - loss: 0.0408 - root_mean_squared_error: 0.2021\n",
      "--- Starting trial: run-42\n",
      "{'n_steps_in': 5, 'num_units': 128, 'dropout': 0.2, 'optimizer': 'adam'}\n",
      "2/2 [==============================] - 0s 9ms/step - loss: 0.0533 - root_mean_squared_error: 0.2310\n",
      "--- Starting trial: run-43\n",
      "{'n_steps_in': 5, 'num_units': 128, 'dropout': 0.2, 'optimizer': 'nadam'}\n",
      "2/2 [==============================] - 0s 5ms/step - loss: 0.0408 - root_mean_squared_error: 0.2021\n",
      "--- Starting trial: run-44\n",
      "{'n_steps_in': 5, 'num_units': 128, 'dropout': 0.3, 'optimizer': 'adam'}\n",
      "2/2 [==============================] - 0s 6ms/step - loss: 0.0533 - root_mean_squared_error: 0.2310\n",
      "--- Starting trial: run-45\n",
      "{'n_steps_in': 5, 'num_units': 128, 'dropout': 0.3, 'optimizer': 'nadam'}\n",
      "2/2 [==============================] - 0s 7ms/step - loss: 0.0408 - root_mean_squared_error: 0.2021\n",
      "--- Starting trial: run-46\n",
      "{'n_steps_in': 5, 'num_units': 128, 'dropout': 0.4, 'optimizer': 'adam'}\n",
      "2/2 [==============================] - 0s 9ms/step - loss: 0.0533 - root_mean_squared_error: 0.2310\n",
      "--- Starting trial: run-47\n",
      "{'n_steps_in': 5, 'num_units': 128, 'dropout': 0.4, 'optimizer': 'nadam'}\n",
      "2/2 [==============================] - 0s 7ms/step - loss: 0.0408 - root_mean_squared_error: 0.2021\n",
      "--- Starting trial: run-48\n",
      "{'n_steps_in': 7, 'num_units': 64, 'dropout': 0.1, 'optimizer': 'adam'}\n",
      "2/2 [==============================] - 0s 6ms/step - loss: 0.0359 - root_mean_squared_error: 0.1895\n",
      "--- Starting trial: run-49\n",
      "{'n_steps_in': 7, 'num_units': 64, 'dropout': 0.1, 'optimizer': 'nadam'}\n",
      "2/2 [==============================] - 0s 5ms/step - loss: 0.0340 - root_mean_squared_error: 0.1845\n",
      "--- Starting trial: run-50\n",
      "{'n_steps_in': 7, 'num_units': 64, 'dropout': 0.2, 'optimizer': 'adam'}\n",
      "2/2 [==============================] - 0s 5ms/step - loss: 0.0359 - root_mean_squared_error: 0.1895\n",
      "--- Starting trial: run-51\n",
      "{'n_steps_in': 7, 'num_units': 64, 'dropout': 0.2, 'optimizer': 'nadam'}\n",
      "2/2 [==============================] - 0s 3ms/step - loss: 0.0340 - root_mean_squared_error: 0.1845\n",
      "--- Starting trial: run-52\n",
      "{'n_steps_in': 7, 'num_units': 64, 'dropout': 0.3, 'optimizer': 'adam'}\n",
      "2/2 [==============================] - 0s 7ms/step - loss: 0.0359 - root_mean_squared_error: 0.1895\n",
      "--- Starting trial: run-53\n",
      "{'n_steps_in': 7, 'num_units': 64, 'dropout': 0.3, 'optimizer': 'nadam'}\n",
      "2/2 [==============================] - 0s 7ms/step - loss: 0.0340 - root_mean_squared_error: 0.1845\n",
      "--- Starting trial: run-54\n",
      "{'n_steps_in': 7, 'num_units': 64, 'dropout': 0.4, 'optimizer': 'adam'}\n",
      "2/2 [==============================] - 0s 6ms/step - loss: 0.0359 - root_mean_squared_error: 0.1895\n",
      "--- Starting trial: run-55\n",
      "{'n_steps_in': 7, 'num_units': 64, 'dropout': 0.4, 'optimizer': 'nadam'}\n",
      "2/2 [==============================] - 0s 12ms/step - loss: 0.0340 - root_mean_squared_error: 0.1845\n",
      "--- Starting trial: run-56\n",
      "{'n_steps_in': 7, 'num_units': 96, 'dropout': 0.1, 'optimizer': 'adam'}\n",
      "2/2 [==============================] - 0s 5ms/step - loss: 0.0579 - root_mean_squared_error: 0.2407\n",
      "--- Starting trial: run-57\n",
      "{'n_steps_in': 7, 'num_units': 96, 'dropout': 0.1, 'optimizer': 'nadam'}\n",
      "2/2 [==============================] - 0s 6ms/step - loss: 0.0477 - root_mean_squared_error: 0.2185\n",
      "--- Starting trial: run-58\n",
      "{'n_steps_in': 7, 'num_units': 96, 'dropout': 0.2, 'optimizer': 'adam'}\n",
      "2/2 [==============================] - 0s 5ms/step - loss: 0.0579 - root_mean_squared_error: 0.2407\n",
      "--- Starting trial: run-59\n",
      "{'n_steps_in': 7, 'num_units': 96, 'dropout': 0.2, 'optimizer': 'nadam'}\n",
      "2/2 [==============================] - 0s 8ms/step - loss: 0.0477 - root_mean_squared_error: 0.2185\n",
      "--- Starting trial: run-60\n",
      "{'n_steps_in': 7, 'num_units': 96, 'dropout': 0.3, 'optimizer': 'adam'}\n",
      "2/2 [==============================] - 0s 7ms/step - loss: 0.0579 - root_mean_squared_error: 0.2407\n",
      "--- Starting trial: run-61\n",
      "{'n_steps_in': 7, 'num_units': 96, 'dropout': 0.3, 'optimizer': 'nadam'}\n",
      "2/2 [==============================] - 0s 8ms/step - loss: 0.0477 - root_mean_squared_error: 0.2185\n",
      "--- Starting trial: run-62\n",
      "{'n_steps_in': 7, 'num_units': 96, 'dropout': 0.4, 'optimizer': 'adam'}\n",
      "2/2 [==============================] - 0s 5ms/step - loss: 0.0579 - root_mean_squared_error: 0.2407\n",
      "--- Starting trial: run-63\n",
      "{'n_steps_in': 7, 'num_units': 96, 'dropout': 0.4, 'optimizer': 'nadam'}\n",
      "2/2 [==============================] - 0s 7ms/step - loss: 0.0477 - root_mean_squared_error: 0.2185\n",
      "--- Starting trial: run-64\n",
      "{'n_steps_in': 7, 'num_units': 128, 'dropout': 0.1, 'optimizer': 'adam'}\n",
      "2/2 [==============================] - 0s 7ms/step - loss: 0.0370 - root_mean_squared_error: 0.1924\n",
      "--- Starting trial: run-65\n",
      "{'n_steps_in': 7, 'num_units': 128, 'dropout': 0.1, 'optimizer': 'nadam'}\n",
      "2/2 [==============================] - 0s 8ms/step - loss: 0.0427 - root_mean_squared_error: 0.2066\n",
      "--- Starting trial: run-66\n",
      "{'n_steps_in': 7, 'num_units': 128, 'dropout': 0.2, 'optimizer': 'adam'}\n",
      "2/2 [==============================] - 0s 7ms/step - loss: 0.0370 - root_mean_squared_error: 0.1924\n",
      "--- Starting trial: run-67\n",
      "{'n_steps_in': 7, 'num_units': 128, 'dropout': 0.2, 'optimizer': 'nadam'}\n",
      "2/2 [==============================] - 0s 8ms/step - loss: 0.0427 - root_mean_squared_error: 0.2066\n",
      "--- Starting trial: run-68\n",
      "{'n_steps_in': 7, 'num_units': 128, 'dropout': 0.3, 'optimizer': 'adam'}\n",
      "2/2 [==============================] - 0s 8ms/step - loss: 0.0370 - root_mean_squared_error: 0.1924\n",
      "--- Starting trial: run-69\n",
      "{'n_steps_in': 7, 'num_units': 128, 'dropout': 0.3, 'optimizer': 'nadam'}\n",
      "2/2 [==============================] - 0s 5ms/step - loss: 0.0427 - root_mean_squared_error: 0.2066\n",
      "--- Starting trial: run-70\n",
      "{'n_steps_in': 7, 'num_units': 128, 'dropout': 0.4, 'optimizer': 'adam'}\n",
      "2/2 [==============================] - 0s 7ms/step - loss: 0.0370 - root_mean_squared_error: 0.1924\n",
      "--- Starting trial: run-71\n",
      "{'n_steps_in': 7, 'num_units': 128, 'dropout': 0.4, 'optimizer': 'nadam'}\n",
      "2/2 [==============================] - 0s 8ms/step - loss: 0.0427 - root_mean_squared_error: 0.2066\n",
      "--- Starting trial: run-72\n",
      "{'n_steps_in': 10, 'num_units': 64, 'dropout': 0.1, 'optimizer': 'adam'}\n",
      "2/2 [==============================] - 0s 7ms/step - loss: 0.0113 - root_mean_squared_error: 0.1065\n",
      "--- Starting trial: run-73\n",
      "{'n_steps_in': 10, 'num_units': 64, 'dropout': 0.1, 'optimizer': 'nadam'}\n",
      "2/2 [==============================] - 0s 7ms/step - loss: 0.0332 - root_mean_squared_error: 0.1822\n",
      "--- Starting trial: run-74\n",
      "{'n_steps_in': 10, 'num_units': 64, 'dropout': 0.2, 'optimizer': 'adam'}\n",
      "2/2 [==============================] - 0s 5ms/step - loss: 0.0113 - root_mean_squared_error: 0.1065\n",
      "--- Starting trial: run-75\n",
      "{'n_steps_in': 10, 'num_units': 64, 'dropout': 0.2, 'optimizer': 'nadam'}\n",
      "2/2 [==============================] - 0s 7ms/step - loss: 0.0332 - root_mean_squared_error: 0.1822\n",
      "--- Starting trial: run-76\n",
      "{'n_steps_in': 10, 'num_units': 64, 'dropout': 0.3, 'optimizer': 'adam'}\n",
      "2/2 [==============================] - 0s 5ms/step - loss: 0.0113 - root_mean_squared_error: 0.1065\n",
      "--- Starting trial: run-77\n",
      "{'n_steps_in': 10, 'num_units': 64, 'dropout': 0.3, 'optimizer': 'nadam'}\n",
      "2/2 [==============================] - 0s 10ms/step - loss: 0.0332 - root_mean_squared_error: 0.1822\n",
      "--- Starting trial: run-78\n",
      "{'n_steps_in': 10, 'num_units': 64, 'dropout': 0.4, 'optimizer': 'adam'}\n",
      "2/2 [==============================] - 0s 5ms/step - loss: 0.0113 - root_mean_squared_error: 0.1065\n",
      "--- Starting trial: run-79\n",
      "{'n_steps_in': 10, 'num_units': 64, 'dropout': 0.4, 'optimizer': 'nadam'}\n",
      "2/2 [==============================] - 0s 7ms/step - loss: 0.0332 - root_mean_squared_error: 0.1822\n",
      "--- Starting trial: run-80\n",
      "{'n_steps_in': 10, 'num_units': 96, 'dropout': 0.1, 'optimizer': 'adam'}\n",
      "2/2 [==============================] - 0s 7ms/step - loss: 0.0113 - root_mean_squared_error: 0.1063\n",
      "--- Starting trial: run-81\n",
      "{'n_steps_in': 10, 'num_units': 96, 'dropout': 0.1, 'optimizer': 'nadam'}\n",
      "2/2 [==============================] - 0s 5ms/step - loss: 0.0553 - root_mean_squared_error: 0.2351\n",
      "--- Starting trial: run-82\n",
      "{'n_steps_in': 10, 'num_units': 96, 'dropout': 0.2, 'optimizer': 'adam'}\n",
      "2/2 [==============================] - 0s 7ms/step - loss: 0.0113 - root_mean_squared_error: 0.1063\n",
      "--- Starting trial: run-83\n",
      "{'n_steps_in': 10, 'num_units': 96, 'dropout': 0.2, 'optimizer': 'nadam'}\n",
      "2/2 [==============================] - 0s 6ms/step - loss: 0.0553 - root_mean_squared_error: 0.2351\n",
      "--- Starting trial: run-84\n",
      "{'n_steps_in': 10, 'num_units': 96, 'dropout': 0.3, 'optimizer': 'adam'}\n",
      "2/2 [==============================] - 0s 7ms/step - loss: 0.0113 - root_mean_squared_error: 0.1063\n",
      "--- Starting trial: run-85\n",
      "{'n_steps_in': 10, 'num_units': 96, 'dropout': 0.3, 'optimizer': 'nadam'}\n",
      "2/2 [==============================] - 0s 10ms/step - loss: 0.0553 - root_mean_squared_error: 0.2351\n",
      "--- Starting trial: run-86\n",
      "{'n_steps_in': 10, 'num_units': 96, 'dropout': 0.4, 'optimizer': 'adam'}\n",
      "2/2 [==============================] - 0s 6ms/step - loss: 0.0113 - root_mean_squared_error: 0.1063\n",
      "--- Starting trial: run-87\n",
      "{'n_steps_in': 10, 'num_units': 96, 'dropout': 0.4, 'optimizer': 'nadam'}\n",
      "2/2 [==============================] - 0s 7ms/step - loss: 0.0553 - root_mean_squared_error: 0.2351\n",
      "--- Starting trial: run-88\n",
      "{'n_steps_in': 10, 'num_units': 128, 'dropout': 0.1, 'optimizer': 'adam'}\n",
      "2/2 [==============================] - 0s 8ms/step - loss: 0.0700 - root_mean_squared_error: 0.2647\n",
      "--- Starting trial: run-89\n",
      "{'n_steps_in': 10, 'num_units': 128, 'dropout': 0.1, 'optimizer': 'nadam'}\n",
      "2/2 [==============================] - 0s 7ms/step - loss: 0.0523 - root_mean_squared_error: 0.2288\n",
      "--- Starting trial: run-90\n",
      "{'n_steps_in': 10, 'num_units': 128, 'dropout': 0.2, 'optimizer': 'adam'}\n",
      "2/2 [==============================] - 0s 6ms/step - loss: 0.0700 - root_mean_squared_error: 0.2647\n",
      "--- Starting trial: run-91\n",
      "{'n_steps_in': 10, 'num_units': 128, 'dropout': 0.2, 'optimizer': 'nadam'}\n",
      "2/2 [==============================] - 0s 9ms/step - loss: 0.0523 - root_mean_squared_error: 0.2288\n",
      "--- Starting trial: run-92\n",
      "{'n_steps_in': 10, 'num_units': 128, 'dropout': 0.3, 'optimizer': 'adam'}\n",
      "2/2 [==============================] - 0s 7ms/step - loss: 0.0700 - root_mean_squared_error: 0.2647\n",
      "--- Starting trial: run-93\n",
      "{'n_steps_in': 10, 'num_units': 128, 'dropout': 0.3, 'optimizer': 'nadam'}\n",
      "2/2 [==============================] - 0s 6ms/step - loss: 0.0523 - root_mean_squared_error: 0.2288\n",
      "--- Starting trial: run-94\n",
      "{'n_steps_in': 10, 'num_units': 128, 'dropout': 0.4, 'optimizer': 'adam'}\n",
      "2/2 [==============================] - 0s 4ms/step - loss: 0.0700 - root_mean_squared_error: 0.2647\n",
      "--- Starting trial: run-95\n",
      "{'n_steps_in': 10, 'num_units': 128, 'dropout': 0.4, 'optimizer': 'nadam'}\n",
      "2/2 [==============================] - 0s 8ms/step - loss: 0.0523 - root_mean_squared_error: 0.2288\n",
      "--- Starting trial: run-96\n",
      "{'n_steps_in': 15, 'num_units': 64, 'dropout': 0.1, 'optimizer': 'adam'}\n",
      "2/2 [==============================] - 0s 7ms/step - loss: 0.0115 - root_mean_squared_error: 0.1073\n",
      "--- Starting trial: run-97\n",
      "{'n_steps_in': 15, 'num_units': 64, 'dropout': 0.1, 'optimizer': 'nadam'}\n",
      "2/2 [==============================] - 0s 6ms/step - loss: 0.0384 - root_mean_squared_error: 0.1960\n",
      "--- Starting trial: run-98\n",
      "{'n_steps_in': 15, 'num_units': 64, 'dropout': 0.2, 'optimizer': 'adam'}\n",
      "2/2 [==============================] - 0s 8ms/step - loss: 0.0115 - root_mean_squared_error: 0.1073\n",
      "--- Starting trial: run-99\n",
      "{'n_steps_in': 15, 'num_units': 64, 'dropout': 0.2, 'optimizer': 'nadam'}\n",
      "2/2 [==============================] - 0s 6ms/step - loss: 0.0384 - root_mean_squared_error: 0.1960\n",
      "--- Starting trial: run-100\n",
      "{'n_steps_in': 15, 'num_units': 64, 'dropout': 0.3, 'optimizer': 'adam'}\n",
      "2/2 [==============================] - 0s 7ms/step - loss: 0.0115 - root_mean_squared_error: 0.1073\n",
      "--- Starting trial: run-101\n",
      "{'n_steps_in': 15, 'num_units': 64, 'dropout': 0.3, 'optimizer': 'nadam'}\n",
      "2/2 [==============================] - 0s 6ms/step - loss: 0.0384 - root_mean_squared_error: 0.1960\n",
      "--- Starting trial: run-102\n",
      "{'n_steps_in': 15, 'num_units': 64, 'dropout': 0.4, 'optimizer': 'adam'}\n",
      "2/2 [==============================] - 0s 9ms/step - loss: 0.0115 - root_mean_squared_error: 0.1073\n",
      "--- Starting trial: run-103\n",
      "{'n_steps_in': 15, 'num_units': 64, 'dropout': 0.4, 'optimizer': 'nadam'}\n",
      "2/2 [==============================] - 0s 11ms/step - loss: 0.0384 - root_mean_squared_error: 0.1960\n",
      "--- Starting trial: run-104\n",
      "{'n_steps_in': 15, 'num_units': 96, 'dropout': 0.1, 'optimizer': 'adam'}\n",
      "2/2 [==============================] - 0s 9ms/step - loss: 0.0295 - root_mean_squared_error: 0.1718\n",
      "--- Starting trial: run-105\n",
      "{'n_steps_in': 15, 'num_units': 96, 'dropout': 0.1, 'optimizer': 'nadam'}\n",
      "2/2 [==============================] - 0s 6ms/step - loss: 0.0772 - root_mean_squared_error: 0.2779\n",
      "--- Starting trial: run-106\n",
      "{'n_steps_in': 15, 'num_units': 96, 'dropout': 0.2, 'optimizer': 'adam'}\n",
      "2/2 [==============================] - 0s 9ms/step - loss: 0.0295 - root_mean_squared_error: 0.1718\n",
      "--- Starting trial: run-107\n",
      "{'n_steps_in': 15, 'num_units': 96, 'dropout': 0.2, 'optimizer': 'nadam'}\n",
      "2/2 [==============================] - 0s 8ms/step - loss: 0.0772 - root_mean_squared_error: 0.2779\n",
      "--- Starting trial: run-108\n",
      "{'n_steps_in': 15, 'num_units': 96, 'dropout': 0.3, 'optimizer': 'adam'}\n",
      "2/2 [==============================] - 0s 12ms/step - loss: 0.0295 - root_mean_squared_error: 0.1718\n",
      "--- Starting trial: run-109\n",
      "{'n_steps_in': 15, 'num_units': 96, 'dropout': 0.3, 'optimizer': 'nadam'}\n",
      "2/2 [==============================] - 0s 9ms/step - loss: 0.0772 - root_mean_squared_error: 0.2779\n",
      "--- Starting trial: run-110\n",
      "{'n_steps_in': 15, 'num_units': 96, 'dropout': 0.4, 'optimizer': 'adam'}\n",
      "2/2 [==============================] - 0s 8ms/step - loss: 0.0295 - root_mean_squared_error: 0.1718\n",
      "--- Starting trial: run-111\n",
      "{'n_steps_in': 15, 'num_units': 96, 'dropout': 0.4, 'optimizer': 'nadam'}\n",
      "2/2 [==============================] - 0s 9ms/step - loss: 0.0772 - root_mean_squared_error: 0.2779\n",
      "--- Starting trial: run-112\n",
      "{'n_steps_in': 15, 'num_units': 128, 'dropout': 0.1, 'optimizer': 'adam'}\n",
      "2/2 [==============================] - 0s 7ms/step - loss: 0.0693 - root_mean_squared_error: 0.2632\n",
      "--- Starting trial: run-113\n",
      "{'n_steps_in': 15, 'num_units': 128, 'dropout': 0.1, 'optimizer': 'nadam'}\n",
      "2/2 [==============================] - 0s 7ms/step - loss: 0.0756 - root_mean_squared_error: 0.2750\n",
      "--- Starting trial: run-114\n",
      "{'n_steps_in': 15, 'num_units': 128, 'dropout': 0.2, 'optimizer': 'adam'}\n",
      "2/2 [==============================] - 0s 8ms/step - loss: 0.0693 - root_mean_squared_error: 0.2632\n",
      "--- Starting trial: run-115\n",
      "{'n_steps_in': 15, 'num_units': 128, 'dropout': 0.2, 'optimizer': 'nadam'}\n",
      "2/2 [==============================] - 0s 10ms/step - loss: 0.0756 - root_mean_squared_error: 0.2750\n",
      "--- Starting trial: run-116\n",
      "{'n_steps_in': 15, 'num_units': 128, 'dropout': 0.3, 'optimizer': 'adam'}\n",
      "2/2 [==============================] - 0s 10ms/step - loss: 0.0693 - root_mean_squared_error: 0.2632\n",
      "--- Starting trial: run-117\n",
      "{'n_steps_in': 15, 'num_units': 128, 'dropout': 0.3, 'optimizer': 'nadam'}\n",
      "2/2 [==============================] - 0s 8ms/step - loss: 0.0756 - root_mean_squared_error: 0.2750\n",
      "--- Starting trial: run-118\n",
      "{'n_steps_in': 15, 'num_units': 128, 'dropout': 0.4, 'optimizer': 'adam'}\n",
      "2/2 [==============================] - 0s 8ms/step - loss: 0.0693 - root_mean_squared_error: 0.2632\n",
      "--- Starting trial: run-119\n",
      "{'n_steps_in': 15, 'num_units': 128, 'dropout': 0.4, 'optimizer': 'nadam'}\n",
      "2/2 [==============================] - 0s 7ms/step - loss: 0.0756 - root_mean_squared_error: 0.2750\n"
     ]
    }
   ],
   "source": [
    "session_num = 0\n",
    "\n",
    "for n_steps_in in HP_N_STEPS_IN.domain.values:\n",
    "    for num_units in HP_NUM_UNITS.domain.values:\n",
    "        for dropout_rate in HP_DROPOUT.domain.values:\n",
    "            for optimizer in HP_OPTIMIZER.domain.values:\n",
    "                hparams = {\n",
    "                    HP_N_STEPS_IN: n_steps_in,\n",
    "                    HP_NUM_UNITS: num_units,\n",
    "                    HP_DROPOUT: dropout_rate,\n",
    "                    HP_OPTIMIZER: optimizer,\n",
    "                }\n",
    "                run_name = \"run-%d\" % session_num\n",
    "                print('--- Starting trial: %s' % run_name)\n",
    "                print({h.name: hparams[h] for h in hparams})\n",
    "                run('logs/lstm/hparam_tuning_3/' + run_name, hparams)\n",
    "                session_num += 1\n"
   ],
   "metadata": {
    "collapsed": false,
    "pycharm": {
     "name": "#%%\n"
    }
   }
  },
  {
   "cell_type": "code",
   "execution_count": 70,
   "outputs": [
    {
     "data": {
      "text/plain": "Launching TensorBoard..."
     },
     "metadata": {},
     "output_type": "display_data"
    }
   ],
   "source": [
    "%tensorboard --logdir logs/lstm/hparam_tuning_3 --port 6014"
   ],
   "metadata": {
    "collapsed": false,
    "pycharm": {
     "name": "#%%\n"
    }
   }
  },
  {
   "cell_type": "code",
   "execution_count": 69,
   "outputs": [],
   "source": [
    "import winsound\n",
    "winsound.Beep(2500,1000)"
   ],
   "metadata": {
    "collapsed": false,
    "pycharm": {
     "name": "#%%\n"
    }
   }
  },
  {
   "cell_type": "markdown",
   "source": [],
   "metadata": {
    "collapsed": false,
    "pycharm": {
     "name": "#%% md\n"
    }
   }
  }
 ],
 "metadata": {
  "kernelspec": {
   "display_name": "Python 3",
   "language": "python",
   "name": "python3"
  },
  "language_info": {
   "codemirror_mode": {
    "name": "ipython",
    "version": 2
   },
   "file_extension": ".py",
   "mimetype": "text/x-python",
   "name": "python",
   "nbconvert_exporter": "python",
   "pygments_lexer": "ipython2",
   "version": "2.7.6"
  }
 },
 "nbformat": 4,
 "nbformat_minor": 0
}