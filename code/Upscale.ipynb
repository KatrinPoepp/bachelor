{
 "cells": [
  {
   "cell_type": "code",
   "execution_count": 1,
   "outputs": [],
   "source": [
    "import numpy as np  # linear algebra\n",
    "import pandas as pd  # data processing, CSV file I/O (e.g. pd.read_csv)\n",
    "import joblib\n",
    "import warnings  # Supress warnings\n",
    "import os\n",
    "import random"
   ],
   "metadata": {
    "collapsed": false,
    "pycharm": {
     "name": "#%%\n"
    }
   }
  },
  {
   "cell_type": "code",
   "execution_count": 154,
   "outputs": [],
   "source": [
    "model = 'ARIMAX'\n",
    "num = 6"
   ],
   "metadata": {
    "collapsed": false,
    "pycharm": {
     "name": "#%%\n"
    }
   }
  },
  {
   "cell_type": "code",
   "execution_count": 155,
   "outputs": [],
   "source": [
    "df = pd.read_csv(\"./files/interpolated_m.csv\", index_col=0)\n",
    "df.index = pd.to_datetime(df.index, format='%Y-%m-%d')\n",
    "preds_df = pd.read_csv(\"./files/interpolated_m.csv\", index_col=0)\n",
    "df.index = pd.to_datetime(df.index, format='%Y-%m-%d')\n",
    "preds = pd.read_csv(\"./predictions/\"+model+\"/\"+str(num)+\".csv\", index_col=0)\n",
    "preds.index = pd.to_datetime(preds.index, format='%Y-%m-%d')"
   ],
   "metadata": {
    "collapsed": false,
    "pycharm": {
     "name": "#%%\n"
    }
   }
  },
  {
   "cell_type": "code",
   "execution_count": 156,
   "outputs": [
    {
     "data": {
      "text/plain": "            Depth_to_Groundwater\n2017-02-28              0.693395\n2017-03-31              0.727176\n2017-04-30              0.726836\n2017-05-31              0.741491\n2017-06-30              0.724010\n2017-07-31              0.558886\n2017-08-31              0.536447\n2017-09-30              0.453145\n2017-10-31              0.482702\n2017-11-30              0.432109\n2017-12-31              0.412025\n2018-01-31              0.415196\n2018-02-28              0.471354\n2018-03-31              0.474624\n2018-04-30              0.585226\n2018-05-31              0.736949\n2018-06-30              0.735429\n2018-07-31              0.708618\n2018-08-31              0.579250\n2018-09-30              0.590034\n2018-10-31              0.577947\n2018-11-30              0.540883\n2018-12-31              0.553021\n2019-01-31              0.496508\n2019-02-28              0.482856\n2019-03-31              0.531255\n2019-04-30              0.573875\n2019-05-31              0.581713\n2019-06-30              0.586795\n2019-07-31              0.573178\n2019-08-31              0.496256\n2019-09-30              0.500367\n2019-10-31              0.488649\n2019-11-30              0.458456\n2019-12-31              0.520970\n2020-01-31              0.541821\n2020-02-29              0.587368\n2020-03-31              0.597378\n2020-04-30              0.634537\n2020-05-31              0.609044\n2020-06-30              0.634614",
      "text/html": "<div>\n<style scoped>\n    .dataframe tbody tr th:only-of-type {\n        vertical-align: middle;\n    }\n\n    .dataframe tbody tr th {\n        vertical-align: top;\n    }\n\n    .dataframe thead th {\n        text-align: right;\n    }\n</style>\n<table border=\"1\" class=\"dataframe\">\n  <thead>\n    <tr style=\"text-align: right;\">\n      <th></th>\n      <th>Depth_to_Groundwater</th>\n    </tr>\n  </thead>\n  <tbody>\n    <tr>\n      <th>2017-02-28</th>\n      <td>0.693395</td>\n    </tr>\n    <tr>\n      <th>2017-03-31</th>\n      <td>0.727176</td>\n    </tr>\n    <tr>\n      <th>2017-04-30</th>\n      <td>0.726836</td>\n    </tr>\n    <tr>\n      <th>2017-05-31</th>\n      <td>0.741491</td>\n    </tr>\n    <tr>\n      <th>2017-06-30</th>\n      <td>0.724010</td>\n    </tr>\n    <tr>\n      <th>2017-07-31</th>\n      <td>0.558886</td>\n    </tr>\n    <tr>\n      <th>2017-08-31</th>\n      <td>0.536447</td>\n    </tr>\n    <tr>\n      <th>2017-09-30</th>\n      <td>0.453145</td>\n    </tr>\n    <tr>\n      <th>2017-10-31</th>\n      <td>0.482702</td>\n    </tr>\n    <tr>\n      <th>2017-11-30</th>\n      <td>0.432109</td>\n    </tr>\n    <tr>\n      <th>2017-12-31</th>\n      <td>0.412025</td>\n    </tr>\n    <tr>\n      <th>2018-01-31</th>\n      <td>0.415196</td>\n    </tr>\n    <tr>\n      <th>2018-02-28</th>\n      <td>0.471354</td>\n    </tr>\n    <tr>\n      <th>2018-03-31</th>\n      <td>0.474624</td>\n    </tr>\n    <tr>\n      <th>2018-04-30</th>\n      <td>0.585226</td>\n    </tr>\n    <tr>\n      <th>2018-05-31</th>\n      <td>0.736949</td>\n    </tr>\n    <tr>\n      <th>2018-06-30</th>\n      <td>0.735429</td>\n    </tr>\n    <tr>\n      <th>2018-07-31</th>\n      <td>0.708618</td>\n    </tr>\n    <tr>\n      <th>2018-08-31</th>\n      <td>0.579250</td>\n    </tr>\n    <tr>\n      <th>2018-09-30</th>\n      <td>0.590034</td>\n    </tr>\n    <tr>\n      <th>2018-10-31</th>\n      <td>0.577947</td>\n    </tr>\n    <tr>\n      <th>2018-11-30</th>\n      <td>0.540883</td>\n    </tr>\n    <tr>\n      <th>2018-12-31</th>\n      <td>0.553021</td>\n    </tr>\n    <tr>\n      <th>2019-01-31</th>\n      <td>0.496508</td>\n    </tr>\n    <tr>\n      <th>2019-02-28</th>\n      <td>0.482856</td>\n    </tr>\n    <tr>\n      <th>2019-03-31</th>\n      <td>0.531255</td>\n    </tr>\n    <tr>\n      <th>2019-04-30</th>\n      <td>0.573875</td>\n    </tr>\n    <tr>\n      <th>2019-05-31</th>\n      <td>0.581713</td>\n    </tr>\n    <tr>\n      <th>2019-06-30</th>\n      <td>0.586795</td>\n    </tr>\n    <tr>\n      <th>2019-07-31</th>\n      <td>0.573178</td>\n    </tr>\n    <tr>\n      <th>2019-08-31</th>\n      <td>0.496256</td>\n    </tr>\n    <tr>\n      <th>2019-09-30</th>\n      <td>0.500367</td>\n    </tr>\n    <tr>\n      <th>2019-10-31</th>\n      <td>0.488649</td>\n    </tr>\n    <tr>\n      <th>2019-11-30</th>\n      <td>0.458456</td>\n    </tr>\n    <tr>\n      <th>2019-12-31</th>\n      <td>0.520970</td>\n    </tr>\n    <tr>\n      <th>2020-01-31</th>\n      <td>0.541821</td>\n    </tr>\n    <tr>\n      <th>2020-02-29</th>\n      <td>0.587368</td>\n    </tr>\n    <tr>\n      <th>2020-03-31</th>\n      <td>0.597378</td>\n    </tr>\n    <tr>\n      <th>2020-04-30</th>\n      <td>0.634537</td>\n    </tr>\n    <tr>\n      <th>2020-05-31</th>\n      <td>0.609044</td>\n    </tr>\n    <tr>\n      <th>2020-06-30</th>\n      <td>0.634614</td>\n    </tr>\n  </tbody>\n</table>\n</div>"
     },
     "execution_count": 156,
     "metadata": {},
     "output_type": "execute_result"
    }
   ],
   "source": [
    "preds"
   ],
   "metadata": {
    "collapsed": false,
    "pycharm": {
     "name": "#%%\n"
    }
   }
  },
  {
   "cell_type": "code",
   "execution_count": 157,
   "outputs": [],
   "source": [
    "preds_df['Depth_to_Groundwater'] = preds"
   ],
   "metadata": {
    "collapsed": false,
    "pycharm": {
     "name": "#%%\n"
    }
   }
  },
  {
   "cell_type": "code",
   "execution_count": 158,
   "outputs": [],
   "source": [
    "preds_df = preds_df.dropna()"
   ],
   "metadata": {
    "collapsed": false,
    "pycharm": {
     "name": "#%%\n"
    }
   }
  },
  {
   "cell_type": "code",
   "execution_count": 159,
   "outputs": [],
   "source": [
    "loaded_scaler = joblib.load('files/scaler_m.joblib')"
   ],
   "metadata": {
    "collapsed": false,
    "pycharm": {
     "name": "#%%\n"
    }
   }
  },
  {
   "cell_type": "code",
   "execution_count": 160,
   "outputs": [
    {
     "data": {
      "text/plain": "            Rainfall  Depth_to_Groundwater  Temperature  Drainage_Volume  \\\n2017-02-28   8306.76            -23.694720   229.682535    -3.575653e+11   \n2017-03-31  12517.56            -23.212806   307.979043    -3.879481e+11   \n2017-04-30   8766.12            -23.217660   361.285871    -3.749406e+11   \n2017-05-31   8077.08            -23.008590   483.022560    -4.254854e+11   \n2017-06-30   3713.16            -23.257970   662.294022    -4.861478e+11   \n2017-07-31   1722.60            -25.613644   685.269344    -4.907176e+11   \n2017-08-31    995.28            -25.933758   722.890884    -4.924669e+11   \n2017-09-30  18297.84            -27.122165   491.241419    -4.451963e+11   \n2017-10-31   3253.80            -26.700496   387.769781    -4.650949e+11   \n2017-11-30  14201.88            -27.422254   246.624237    -4.510873e+11   \n2017-12-31  26451.48            -27.708780   146.413132    -4.536282e+11   \n2018-01-31   6086.52            -27.663537   196.520062    -4.357085e+11   \n2018-02-28  15579.96            -26.862385   130.632166    -3.919225e+11   \n2018-03-31  36633.96            -26.815733   237.614360    -4.122893e+11   \n2018-04-30   7196.64            -25.237879   420.496387    -4.365858e+11   \n2018-05-31  15465.12            -23.073379   487.487534    -4.472474e+11   \n2018-06-30  13053.48            -23.095070   587.191505    -4.537329e+11   \n2018-07-31   3138.96            -23.477549   683.532966    -5.018018e+11   \n2018-08-31   7770.84            -25.323133   651.285931    -4.937664e+11   \n2018-09-30   4517.04            -25.169283   565.318645    -4.833092e+11   \n2018-10-31  22623.48            -25.341727   432.088783    -4.903937e+11   \n2018-11-30  15618.24            -25.870480   275.845011    -4.519624e+11   \n2018-12-31   8574.72            -25.697321   155.343080    -4.594475e+11   \n2019-01-31   9837.96            -26.503538   102.838293    -4.613154e+11   \n2019-02-28   8880.96            -26.698294   204.233364    -3.810783e+11   \n2019-03-31   7120.08            -26.007832   291.938210    -4.182444e+11   \n2019-04-30  17800.20            -25.399816   347.017247    -3.798988e+11   \n2019-05-31  24767.16            -25.287993   387.439043    -3.627932e+11   \n2019-06-30   1646.04            -25.215490   652.126559    -4.119008e+11   \n2019-07-31  18068.16            -25.409757   681.713902    -4.327190e+11   \n2019-08-31   5780.28            -26.507133   677.827721    -4.542620e+11   \n2019-09-30   8077.08            -26.448482   545.667247    -4.233103e+11   \n2019-10-31   8766.12            -26.615648   434.155900    -4.263997e+11   \n2019-11-30  28403.76            -27.046387   306.603720    -4.207325e+11   \n2019-12-31  10909.80            -26.154554   192.964620    -3.880420e+11   \n2020-01-31   2947.56            -25.857099   144.428699    -4.386969e+11   \n2020-02-29   3560.04            -25.207320   233.628387    -4.292861e+11   \n2020-03-31  13436.28            -25.064509   253.324454    -4.334694e+11   \n2020-04-30   7962.24            -24.534402   362.482043    -3.858335e+11   \n2020-05-31   8727.84            -24.898082   483.932092    -3.901083e+11   \n2020-06-30  13398.00            -24.533306   546.009011    -4.305692e+11   \n\n            River_Hydrometry  \n2017-02-28          6.027882  \n2017-03-31          5.964981  \n2017-04-30          5.600656  \n2017-05-31          5.575125  \n2017-06-30          5.268896  \n2017-07-31          4.974288  \n2017-08-31          4.832105  \n2017-09-30          5.193066  \n2017-10-31          5.111884  \n2017-11-30          5.548523  \n2017-12-31          5.955807  \n2018-01-31          5.776932  \n2018-02-28          5.906011  \n2018-03-31          6.437394  \n2018-04-30          5.927677  \n2018-05-31          5.510913  \n2018-06-30          5.121974  \n2018-07-31          4.850451  \n2018-08-31          4.942182  \n2018-09-30          4.979791  \n2018-10-31          5.134817  \n2018-11-30          5.401600  \n2018-12-31          5.565951  \n2019-01-31          5.575125  \n2019-02-28          5.647035  \n2019-03-31          5.332038  \n2019-04-30          5.562741  \n2019-05-31          5.983327  \n2019-06-30          5.539044  \n2019-07-31          5.143990  \n2019-08-31          4.955941  \n2019-09-30          5.107756  \n2019-10-31          5.102711  \n2019-11-30          5.747578  \n2019-12-31          5.877836  \n2020-01-31          5.387076  \n2020-02-29          5.265138  \n2020-03-31          5.694375  \n2020-04-30          5.377903  \n2020-05-31          5.336624  \n2020-06-30          5.510607  ",
      "text/html": "<div>\n<style scoped>\n    .dataframe tbody tr th:only-of-type {\n        vertical-align: middle;\n    }\n\n    .dataframe tbody tr th {\n        vertical-align: top;\n    }\n\n    .dataframe thead th {\n        text-align: right;\n    }\n</style>\n<table border=\"1\" class=\"dataframe\">\n  <thead>\n    <tr style=\"text-align: right;\">\n      <th></th>\n      <th>Rainfall</th>\n      <th>Depth_to_Groundwater</th>\n      <th>Temperature</th>\n      <th>Drainage_Volume</th>\n      <th>River_Hydrometry</th>\n    </tr>\n  </thead>\n  <tbody>\n    <tr>\n      <th>2017-02-28</th>\n      <td>8306.76</td>\n      <td>-23.694720</td>\n      <td>229.682535</td>\n      <td>-3.575653e+11</td>\n      <td>6.027882</td>\n    </tr>\n    <tr>\n      <th>2017-03-31</th>\n      <td>12517.56</td>\n      <td>-23.212806</td>\n      <td>307.979043</td>\n      <td>-3.879481e+11</td>\n      <td>5.964981</td>\n    </tr>\n    <tr>\n      <th>2017-04-30</th>\n      <td>8766.12</td>\n      <td>-23.217660</td>\n      <td>361.285871</td>\n      <td>-3.749406e+11</td>\n      <td>5.600656</td>\n    </tr>\n    <tr>\n      <th>2017-05-31</th>\n      <td>8077.08</td>\n      <td>-23.008590</td>\n      <td>483.022560</td>\n      <td>-4.254854e+11</td>\n      <td>5.575125</td>\n    </tr>\n    <tr>\n      <th>2017-06-30</th>\n      <td>3713.16</td>\n      <td>-23.257970</td>\n      <td>662.294022</td>\n      <td>-4.861478e+11</td>\n      <td>5.268896</td>\n    </tr>\n    <tr>\n      <th>2017-07-31</th>\n      <td>1722.60</td>\n      <td>-25.613644</td>\n      <td>685.269344</td>\n      <td>-4.907176e+11</td>\n      <td>4.974288</td>\n    </tr>\n    <tr>\n      <th>2017-08-31</th>\n      <td>995.28</td>\n      <td>-25.933758</td>\n      <td>722.890884</td>\n      <td>-4.924669e+11</td>\n      <td>4.832105</td>\n    </tr>\n    <tr>\n      <th>2017-09-30</th>\n      <td>18297.84</td>\n      <td>-27.122165</td>\n      <td>491.241419</td>\n      <td>-4.451963e+11</td>\n      <td>5.193066</td>\n    </tr>\n    <tr>\n      <th>2017-10-31</th>\n      <td>3253.80</td>\n      <td>-26.700496</td>\n      <td>387.769781</td>\n      <td>-4.650949e+11</td>\n      <td>5.111884</td>\n    </tr>\n    <tr>\n      <th>2017-11-30</th>\n      <td>14201.88</td>\n      <td>-27.422254</td>\n      <td>246.624237</td>\n      <td>-4.510873e+11</td>\n      <td>5.548523</td>\n    </tr>\n    <tr>\n      <th>2017-12-31</th>\n      <td>26451.48</td>\n      <td>-27.708780</td>\n      <td>146.413132</td>\n      <td>-4.536282e+11</td>\n      <td>5.955807</td>\n    </tr>\n    <tr>\n      <th>2018-01-31</th>\n      <td>6086.52</td>\n      <td>-27.663537</td>\n      <td>196.520062</td>\n      <td>-4.357085e+11</td>\n      <td>5.776932</td>\n    </tr>\n    <tr>\n      <th>2018-02-28</th>\n      <td>15579.96</td>\n      <td>-26.862385</td>\n      <td>130.632166</td>\n      <td>-3.919225e+11</td>\n      <td>5.906011</td>\n    </tr>\n    <tr>\n      <th>2018-03-31</th>\n      <td>36633.96</td>\n      <td>-26.815733</td>\n      <td>237.614360</td>\n      <td>-4.122893e+11</td>\n      <td>6.437394</td>\n    </tr>\n    <tr>\n      <th>2018-04-30</th>\n      <td>7196.64</td>\n      <td>-25.237879</td>\n      <td>420.496387</td>\n      <td>-4.365858e+11</td>\n      <td>5.927677</td>\n    </tr>\n    <tr>\n      <th>2018-05-31</th>\n      <td>15465.12</td>\n      <td>-23.073379</td>\n      <td>487.487534</td>\n      <td>-4.472474e+11</td>\n      <td>5.510913</td>\n    </tr>\n    <tr>\n      <th>2018-06-30</th>\n      <td>13053.48</td>\n      <td>-23.095070</td>\n      <td>587.191505</td>\n      <td>-4.537329e+11</td>\n      <td>5.121974</td>\n    </tr>\n    <tr>\n      <th>2018-07-31</th>\n      <td>3138.96</td>\n      <td>-23.477549</td>\n      <td>683.532966</td>\n      <td>-5.018018e+11</td>\n      <td>4.850451</td>\n    </tr>\n    <tr>\n      <th>2018-08-31</th>\n      <td>7770.84</td>\n      <td>-25.323133</td>\n      <td>651.285931</td>\n      <td>-4.937664e+11</td>\n      <td>4.942182</td>\n    </tr>\n    <tr>\n      <th>2018-09-30</th>\n      <td>4517.04</td>\n      <td>-25.169283</td>\n      <td>565.318645</td>\n      <td>-4.833092e+11</td>\n      <td>4.979791</td>\n    </tr>\n    <tr>\n      <th>2018-10-31</th>\n      <td>22623.48</td>\n      <td>-25.341727</td>\n      <td>432.088783</td>\n      <td>-4.903937e+11</td>\n      <td>5.134817</td>\n    </tr>\n    <tr>\n      <th>2018-11-30</th>\n      <td>15618.24</td>\n      <td>-25.870480</td>\n      <td>275.845011</td>\n      <td>-4.519624e+11</td>\n      <td>5.401600</td>\n    </tr>\n    <tr>\n      <th>2018-12-31</th>\n      <td>8574.72</td>\n      <td>-25.697321</td>\n      <td>155.343080</td>\n      <td>-4.594475e+11</td>\n      <td>5.565951</td>\n    </tr>\n    <tr>\n      <th>2019-01-31</th>\n      <td>9837.96</td>\n      <td>-26.503538</td>\n      <td>102.838293</td>\n      <td>-4.613154e+11</td>\n      <td>5.575125</td>\n    </tr>\n    <tr>\n      <th>2019-02-28</th>\n      <td>8880.96</td>\n      <td>-26.698294</td>\n      <td>204.233364</td>\n      <td>-3.810783e+11</td>\n      <td>5.647035</td>\n    </tr>\n    <tr>\n      <th>2019-03-31</th>\n      <td>7120.08</td>\n      <td>-26.007832</td>\n      <td>291.938210</td>\n      <td>-4.182444e+11</td>\n      <td>5.332038</td>\n    </tr>\n    <tr>\n      <th>2019-04-30</th>\n      <td>17800.20</td>\n      <td>-25.399816</td>\n      <td>347.017247</td>\n      <td>-3.798988e+11</td>\n      <td>5.562741</td>\n    </tr>\n    <tr>\n      <th>2019-05-31</th>\n      <td>24767.16</td>\n      <td>-25.287993</td>\n      <td>387.439043</td>\n      <td>-3.627932e+11</td>\n      <td>5.983327</td>\n    </tr>\n    <tr>\n      <th>2019-06-30</th>\n      <td>1646.04</td>\n      <td>-25.215490</td>\n      <td>652.126559</td>\n      <td>-4.119008e+11</td>\n      <td>5.539044</td>\n    </tr>\n    <tr>\n      <th>2019-07-31</th>\n      <td>18068.16</td>\n      <td>-25.409757</td>\n      <td>681.713902</td>\n      <td>-4.327190e+11</td>\n      <td>5.143990</td>\n    </tr>\n    <tr>\n      <th>2019-08-31</th>\n      <td>5780.28</td>\n      <td>-26.507133</td>\n      <td>677.827721</td>\n      <td>-4.542620e+11</td>\n      <td>4.955941</td>\n    </tr>\n    <tr>\n      <th>2019-09-30</th>\n      <td>8077.08</td>\n      <td>-26.448482</td>\n      <td>545.667247</td>\n      <td>-4.233103e+11</td>\n      <td>5.107756</td>\n    </tr>\n    <tr>\n      <th>2019-10-31</th>\n      <td>8766.12</td>\n      <td>-26.615648</td>\n      <td>434.155900</td>\n      <td>-4.263997e+11</td>\n      <td>5.102711</td>\n    </tr>\n    <tr>\n      <th>2019-11-30</th>\n      <td>28403.76</td>\n      <td>-27.046387</td>\n      <td>306.603720</td>\n      <td>-4.207325e+11</td>\n      <td>5.747578</td>\n    </tr>\n    <tr>\n      <th>2019-12-31</th>\n      <td>10909.80</td>\n      <td>-26.154554</td>\n      <td>192.964620</td>\n      <td>-3.880420e+11</td>\n      <td>5.877836</td>\n    </tr>\n    <tr>\n      <th>2020-01-31</th>\n      <td>2947.56</td>\n      <td>-25.857099</td>\n      <td>144.428699</td>\n      <td>-4.386969e+11</td>\n      <td>5.387076</td>\n    </tr>\n    <tr>\n      <th>2020-02-29</th>\n      <td>3560.04</td>\n      <td>-25.207320</td>\n      <td>233.628387</td>\n      <td>-4.292861e+11</td>\n      <td>5.265138</td>\n    </tr>\n    <tr>\n      <th>2020-03-31</th>\n      <td>13436.28</td>\n      <td>-25.064509</td>\n      <td>253.324454</td>\n      <td>-4.334694e+11</td>\n      <td>5.694375</td>\n    </tr>\n    <tr>\n      <th>2020-04-30</th>\n      <td>7962.24</td>\n      <td>-24.534402</td>\n      <td>362.482043</td>\n      <td>-3.858335e+11</td>\n      <td>5.377903</td>\n    </tr>\n    <tr>\n      <th>2020-05-31</th>\n      <td>8727.84</td>\n      <td>-24.898082</td>\n      <td>483.932092</td>\n      <td>-3.901083e+11</td>\n      <td>5.336624</td>\n    </tr>\n    <tr>\n      <th>2020-06-30</th>\n      <td>13398.00</td>\n      <td>-24.533306</td>\n      <td>546.009011</td>\n      <td>-4.305692e+11</td>\n      <td>5.510607</td>\n    </tr>\n  </tbody>\n</table>\n</div>"
     },
     "execution_count": 160,
     "metadata": {},
     "output_type": "execute_result"
    }
   ],
   "source": [
    "unscaled_values = loaded_scaler.inverse_transform(preds_df.values)\n",
    "unscaled_df = pd.DataFrame(unscaled_values, columns=df.columns, index=preds.index)\n",
    "unscaled_df"
   ],
   "metadata": {
    "collapsed": false,
    "pycharm": {
     "name": "#%%\n"
    }
   }
  },
  {
   "cell_type": "code",
   "execution_count": 161,
   "outputs": [
    {
     "data": {
      "text/plain": "2017-02-28   -23.694720\n2017-03-31   -23.212806\n2017-04-30   -23.217660\n2017-05-31   -23.008590\n2017-06-30   -23.257970\n2017-07-31   -25.613644\n2017-08-31   -25.933758\n2017-09-30   -27.122165\n2017-10-31   -26.700496\n2017-11-30   -27.422254\n2017-12-31   -27.708780\n2018-01-31   -27.663537\n2018-02-28   -26.862385\n2018-03-31   -26.815733\n2018-04-30   -25.237879\n2018-05-31   -23.073379\n2018-06-30   -23.095070\n2018-07-31   -23.477549\n2018-08-31   -25.323133\n2018-09-30   -25.169283\n2018-10-31   -25.341727\n2018-11-30   -25.870480\n2018-12-31   -25.697321\n2019-01-31   -26.503538\n2019-02-28   -26.698294\n2019-03-31   -26.007832\n2019-04-30   -25.399816\n2019-05-31   -25.287993\n2019-06-30   -25.215490\n2019-07-31   -25.409757\n2019-08-31   -26.507133\n2019-09-30   -26.448482\n2019-10-31   -26.615648\n2019-11-30   -27.046387\n2019-12-31   -26.154554\n2020-01-31   -25.857099\n2020-02-29   -25.207320\n2020-03-31   -25.064509\n2020-04-30   -24.534402\n2020-05-31   -24.898082\n2020-06-30   -24.533306\nName: Depth_to_Groundwater, dtype: float64"
     },
     "execution_count": 161,
     "metadata": {},
     "output_type": "execute_result"
    }
   ],
   "source": [
    "unscaled_df['Depth_to_Groundwater']"
   ],
   "metadata": {
    "collapsed": false,
    "pycharm": {
     "name": "#%%\n"
    }
   }
  },
  {
   "cell_type": "code",
   "execution_count": 162,
   "outputs": [],
   "source": [
    "metrics = {}\n",
    "def calc_metrics(name):\n",
    "\n",
    "    results = pd.DataFrame(data={'Predictions':unscaled_df[name], 'Actuals':df[name]}, index=unscaled_df.index)\n",
    "\n",
    "    results = results.dropna()\n",
    "\n",
    "    # Step 2: Calculate the differences between the predicted and actual values\n",
    "    results['Difference'] = results['Actuals'] - results['Predictions']\n",
    "\n",
    "    # Step 3: Calculate squared differences for RMSE\n",
    "    results['Squared_difference'] = results['Difference'] ** 2\n",
    "\n",
    "    # Step 4: Calculate absolute differences for MAE and MAPE\n",
    "    results['Absolute_difference'] = np.abs(results['Difference'])\n",
    "    results['Absolute_percentage_difference'] = np.abs(results['Difference'] / results['Actuals'])\n",
    "\n",
    "    # Step 5: Compute the metrics\n",
    "    rmse = np.sqrt(results['Squared_difference'].mean())\n",
    "    mae = results['Absolute_difference'].mean()\n",
    "    mape = results['Absolute_percentage_difference'].mean() * 100  # to get the percentage\n",
    "    return rmse, mae, mape\n",
    "\n",
    "for column in ['Depth_to_Groundwater']:\n",
    "\n",
    "    rmse, mae, mape = calc_metrics(column)\n",
    "    metrics[column] = {\n",
    "        'RMSE': rmse,\n",
    "        'MAE': mae,\n",
    "        'MAPE': mape\n",
    "    }\n",
    "metrics_df = pd.DataFrame(metrics)"
   ],
   "metadata": {
    "collapsed": false,
    "pycharm": {
     "name": "#%%\n"
    }
   }
  },
  {
   "cell_type": "code",
   "execution_count": 163,
   "outputs": [
    {
     "data": {
      "text/plain": "      Depth_to_Groundwater\nMAE               0.290610\nMAPE              1.150848\nRMSE              0.374425",
      "text/html": "<div>\n<style scoped>\n    .dataframe tbody tr th:only-of-type {\n        vertical-align: middle;\n    }\n\n    .dataframe tbody tr th {\n        vertical-align: top;\n    }\n\n    .dataframe thead th {\n        text-align: right;\n    }\n</style>\n<table border=\"1\" class=\"dataframe\">\n  <thead>\n    <tr style=\"text-align: right;\">\n      <th></th>\n      <th>Depth_to_Groundwater</th>\n    </tr>\n  </thead>\n  <tbody>\n    <tr>\n      <th>MAE</th>\n      <td>0.290610</td>\n    </tr>\n    <tr>\n      <th>MAPE</th>\n      <td>1.150848</td>\n    </tr>\n    <tr>\n      <th>RMSE</th>\n      <td>0.374425</td>\n    </tr>\n  </tbody>\n</table>\n</div>"
     },
     "execution_count": 163,
     "metadata": {},
     "output_type": "execute_result"
    }
   ],
   "source": [
    "metrics_df"
   ],
   "metadata": {
    "collapsed": false,
    "pycharm": {
     "name": "#%%\n"
    }
   }
  },
  {
   "cell_type": "code",
   "execution_count": 164,
   "outputs": [],
   "source": [
    "metrics_df.to_csv('metrics/'+model+'/'+str(num+3)+'.csv')"
   ],
   "metadata": {
    "collapsed": false,
    "pycharm": {
     "name": "#%%\n"
    }
   }
  },
  {
   "cell_type": "code",
   "execution_count": null,
   "outputs": [],
   "source": [],
   "metadata": {
    "collapsed": false,
    "pycharm": {
     "name": "#%%\n"
    }
   }
  }
 ],
 "metadata": {
  "kernelspec": {
   "display_name": "Python 3",
   "language": "python",
   "name": "python3"
  },
  "language_info": {
   "codemirror_mode": {
    "name": "ipython",
    "version": 2
   },
   "file_extension": ".py",
   "mimetype": "text/x-python",
   "name": "python",
   "nbconvert_exporter": "python",
   "pygments_lexer": "ipython2",
   "version": "2.7.6"
  }
 },
 "nbformat": 4,
 "nbformat_minor": 0
}