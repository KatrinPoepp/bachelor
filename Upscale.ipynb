{
 "cells": [
  {
   "cell_type": "code",
   "execution_count": 1,
   "outputs": [],
   "source": [
    "import numpy as np  # linear algebra\n",
    "import pandas as pd  # data processing, CSV file I/O (e.g. pd.read_csv)\n",
    "import joblib\n",
    "import warnings  # Supress warnings\n",
    "import os\n",
    "import random"
   ],
   "metadata": {
    "collapsed": false,
    "pycharm": {
     "name": "#%%\n"
    }
   }
  },
  {
   "cell_type": "code",
   "execution_count": 22,
   "outputs": [],
   "source": [
    "model = 'SARIMA'\n",
    "num = 6"
   ],
   "metadata": {
    "collapsed": false,
    "pycharm": {
     "name": "#%%\n"
    }
   }
  },
  {
   "cell_type": "code",
   "execution_count": 23,
   "outputs": [],
   "source": [
    "df = pd.read_csv(\"./files/interpolated_m.csv\", index_col=0)\n",
    "df.index = pd.to_datetime(df.index, format='%Y-%m-%d')\n",
    "preds = pd.read_csv(\"./predictions/\"+model+\"/\"+str(num)+\".csv\", index_col=0)\n",
    "preds.index = pd.to_datetime(preds.index, format='%Y-%m-%d')"
   ],
   "metadata": {
    "collapsed": false,
    "pycharm": {
     "name": "#%%\n"
    }
   }
  },
  {
   "cell_type": "code",
   "execution_count": 24,
   "outputs": [
    {
     "data": {
      "text/plain": "            Rainfall  Depth_to_Groundwater  Temperature  Drainage_Volume  \\\nDate                                                                       \n2009-01-31       6.3            -30.503871     4.964516      -827548.704   \n2009-02-28      14.0            -29.350000     5.125000      -717952.896   \n2009-03-31      34.2            -28.502903     9.254839      -879621.120   \n2009-04-30      16.3            -27.736333    13.806667      -845030.016   \n2009-05-31      28.6            -27.478065    19.809677      -997805.952   \n...              ...                   ...          ...              ...   \n2020-02-29      18.6            -25.261724     8.989655      -822268.800   \n2020-03-31      70.2            -24.945355     9.758065      -830281.536   \n2020-04-30      41.6            -24.805133    14.016667      -739037.952   \n2020-05-31      45.6            -24.716774    18.754839      -747226.080   \n2020-06-30      70.0            -24.815333    21.176667      -824726.448   \n\n            River_Hydrometry  \nDate                          \n2009-01-31          2.387097  \n2009-02-28          2.546429  \n2009-03-31          2.490323  \n2009-04-30          2.403333  \n2009-05-31          2.109677  \n...                      ...  \n2020-02-29          2.420690  \n2020-03-31          2.722581  \n2020-04-30          2.500000  \n2020-05-31          2.470968  \n2020-06-30          2.593333  \n\n[138 rows x 5 columns]",
      "text/html": "<div>\n<style scoped>\n    .dataframe tbody tr th:only-of-type {\n        vertical-align: middle;\n    }\n\n    .dataframe tbody tr th {\n        vertical-align: top;\n    }\n\n    .dataframe thead th {\n        text-align: right;\n    }\n</style>\n<table border=\"1\" class=\"dataframe\">\n  <thead>\n    <tr style=\"text-align: right;\">\n      <th></th>\n      <th>Rainfall</th>\n      <th>Depth_to_Groundwater</th>\n      <th>Temperature</th>\n      <th>Drainage_Volume</th>\n      <th>River_Hydrometry</th>\n    </tr>\n    <tr>\n      <th>Date</th>\n      <th></th>\n      <th></th>\n      <th></th>\n      <th></th>\n      <th></th>\n    </tr>\n  </thead>\n  <tbody>\n    <tr>\n      <th>2009-01-31</th>\n      <td>6.3</td>\n      <td>-30.503871</td>\n      <td>4.964516</td>\n      <td>-827548.704</td>\n      <td>2.387097</td>\n    </tr>\n    <tr>\n      <th>2009-02-28</th>\n      <td>14.0</td>\n      <td>-29.350000</td>\n      <td>5.125000</td>\n      <td>-717952.896</td>\n      <td>2.546429</td>\n    </tr>\n    <tr>\n      <th>2009-03-31</th>\n      <td>34.2</td>\n      <td>-28.502903</td>\n      <td>9.254839</td>\n      <td>-879621.120</td>\n      <td>2.490323</td>\n    </tr>\n    <tr>\n      <th>2009-04-30</th>\n      <td>16.3</td>\n      <td>-27.736333</td>\n      <td>13.806667</td>\n      <td>-845030.016</td>\n      <td>2.403333</td>\n    </tr>\n    <tr>\n      <th>2009-05-31</th>\n      <td>28.6</td>\n      <td>-27.478065</td>\n      <td>19.809677</td>\n      <td>-997805.952</td>\n      <td>2.109677</td>\n    </tr>\n    <tr>\n      <th>...</th>\n      <td>...</td>\n      <td>...</td>\n      <td>...</td>\n      <td>...</td>\n      <td>...</td>\n    </tr>\n    <tr>\n      <th>2020-02-29</th>\n      <td>18.6</td>\n      <td>-25.261724</td>\n      <td>8.989655</td>\n      <td>-822268.800</td>\n      <td>2.420690</td>\n    </tr>\n    <tr>\n      <th>2020-03-31</th>\n      <td>70.2</td>\n      <td>-24.945355</td>\n      <td>9.758065</td>\n      <td>-830281.536</td>\n      <td>2.722581</td>\n    </tr>\n    <tr>\n      <th>2020-04-30</th>\n      <td>41.6</td>\n      <td>-24.805133</td>\n      <td>14.016667</td>\n      <td>-739037.952</td>\n      <td>2.500000</td>\n    </tr>\n    <tr>\n      <th>2020-05-31</th>\n      <td>45.6</td>\n      <td>-24.716774</td>\n      <td>18.754839</td>\n      <td>-747226.080</td>\n      <td>2.470968</td>\n    </tr>\n    <tr>\n      <th>2020-06-30</th>\n      <td>70.0</td>\n      <td>-24.815333</td>\n      <td>21.176667</td>\n      <td>-824726.448</td>\n      <td>2.593333</td>\n    </tr>\n  </tbody>\n</table>\n<p>138 rows × 5 columns</p>\n</div>"
     },
     "execution_count": 24,
     "metadata": {},
     "output_type": "execute_result"
    }
   ],
   "source": [
    "df"
   ],
   "metadata": {
    "collapsed": false,
    "pycharm": {
     "name": "#%%\n"
    }
   }
  },
  {
   "cell_type": "code",
   "execution_count": 25,
   "outputs": [
    {
     "data": {
      "text/plain": "            Rainfall  Depth_to_Groundwater  Temperature  Drainage_Volume  \\\n2017-02-28  0.433081              0.687409     0.205136         0.890262   \n2017-03-31  0.328804              0.739558     0.285787         0.948351   \n2017-04-30  0.314983              0.718209     0.445964         0.900525   \n2017-05-31  0.298159              0.749648     0.559313         0.920645   \n2017-06-30  0.296329              0.710295     0.766556         0.842713   \n2017-07-31  0.267908              0.534575     0.905169         0.554602   \n2017-08-31  0.223502              0.538916     0.820020         0.614558   \n2017-09-30  0.157897              0.465379     0.728594         0.570448   \n2017-10-31  0.141131              0.484865     0.451404         0.630769   \n2017-11-30  0.161441              0.444977     0.339834         0.634935   \n2017-12-31  0.219892              0.425728     0.070512         0.650700   \n2018-01-31  0.247971              0.414581     0.121957         0.663665   \n2018-02-28  0.332896              0.477389     0.186247         0.828016   \n2018-03-31  0.404409              0.490477     0.286858         0.749099   \n2018-04-30  0.385822              0.558594     0.419542         0.812748   \n2018-05-31  0.478133              0.737363     0.620369         0.683518   \n2018-06-30  0.624832              0.727375     0.760832         0.717304   \n2018-07-31  0.439661              0.687403     0.954742         0.570593   \n2018-08-31  0.399787              0.580269     0.856188         0.521847   \n2018-09-30  0.317940              0.593539     0.686451         0.575257   \n2018-10-31  0.198094              0.581284     0.467849         0.497985   \n2018-11-30  0.231632              0.540456     0.285204         0.573983   \n2018-12-31  0.271722              0.574928     0.070953         0.621704   \n2019-01-31  0.377167              0.509980     0.113174         0.631040   \n2019-02-28  0.362874              0.487201     0.171130         0.754827   \n2019-03-31  0.314107              0.545843     0.308516         0.773618   \n2019-04-30  0.287304              0.577330     0.448133         0.761921   \n2019-05-31  0.279981              0.572883     0.586310         0.831332   \n2019-06-30  0.312440              0.566338     0.759911         0.911991   \n2019-07-31  0.361141              0.543955     0.931395         0.675434   \n2019-08-31  0.410138              0.498470     0.862666         0.748879   \n2019-09-30  0.336636              0.510370     0.683527         0.701970   \n2019-10-31  0.337672              0.489135     0.462544         0.715934   \n2019-11-30  0.292644              0.466289     0.291137         0.787080   \n2019-12-31  0.302073              0.517959     0.083980         0.757040   \n2020-01-31  0.338618              0.561433     0.096066         0.882930   \n2020-02-29  0.377086              0.594490     0.136902         0.867373   \n2020-03-31  0.331187              0.612857     0.314733         0.725081   \n2020-04-30  0.299511              0.628881     0.428800         0.793187   \n2020-05-31  0.281580              0.616086     0.586901         0.836532   \n2020-06-30  0.282988              0.614438     0.823557         0.830610   \n\n            River_Hydrometry  \n2017-02-28          0.851393  \n2017-03-31          0.749209  \n2017-04-30          0.665164  \n2017-05-31          0.600623  \n2017-06-30          0.524585  \n2017-07-31          0.400105  \n2017-08-31          0.330283  \n2017-09-30          0.261628  \n2017-10-31          0.470685  \n2017-11-30          0.517619  \n2017-12-31          0.570413  \n2018-01-31          0.735053  \n2018-02-28          0.710560  \n2018-03-31          0.726230  \n2018-04-30          0.822098  \n2018-05-31          0.684095  \n2018-06-30          0.506401  \n2018-07-31          0.344960  \n2018-08-31          0.279377  \n2018-09-30          0.328733  \n2018-10-31          0.353110  \n2018-11-30          0.579330  \n2018-12-31          0.484565  \n2019-01-31          0.618227  \n2019-02-28          0.633883  \n2019-03-31          0.590140  \n2019-04-30          0.360391  \n2019-05-31          0.622907  \n2019-06-30          0.569667  \n2019-07-31          0.405203  \n2019-08-31          0.340834  \n2019-09-30          0.325509  \n2019-10-31          0.413847  \n2019-11-30          0.558023  \n2019-12-31          0.687852  \n2020-01-31          0.679254  \n2020-02-29          0.584930  \n2020-03-31          0.550081  \n2020-04-30          0.526545  \n2020-05-31          0.420545  \n2020-06-30          0.373806  ",
      "text/html": "<div>\n<style scoped>\n    .dataframe tbody tr th:only-of-type {\n        vertical-align: middle;\n    }\n\n    .dataframe tbody tr th {\n        vertical-align: top;\n    }\n\n    .dataframe thead th {\n        text-align: right;\n    }\n</style>\n<table border=\"1\" class=\"dataframe\">\n  <thead>\n    <tr style=\"text-align: right;\">\n      <th></th>\n      <th>Rainfall</th>\n      <th>Depth_to_Groundwater</th>\n      <th>Temperature</th>\n      <th>Drainage_Volume</th>\n      <th>River_Hydrometry</th>\n    </tr>\n  </thead>\n  <tbody>\n    <tr>\n      <th>2017-02-28</th>\n      <td>0.433081</td>\n      <td>0.687409</td>\n      <td>0.205136</td>\n      <td>0.890262</td>\n      <td>0.851393</td>\n    </tr>\n    <tr>\n      <th>2017-03-31</th>\n      <td>0.328804</td>\n      <td>0.739558</td>\n      <td>0.285787</td>\n      <td>0.948351</td>\n      <td>0.749209</td>\n    </tr>\n    <tr>\n      <th>2017-04-30</th>\n      <td>0.314983</td>\n      <td>0.718209</td>\n      <td>0.445964</td>\n      <td>0.900525</td>\n      <td>0.665164</td>\n    </tr>\n    <tr>\n      <th>2017-05-31</th>\n      <td>0.298159</td>\n      <td>0.749648</td>\n      <td>0.559313</td>\n      <td>0.920645</td>\n      <td>0.600623</td>\n    </tr>\n    <tr>\n      <th>2017-06-30</th>\n      <td>0.296329</td>\n      <td>0.710295</td>\n      <td>0.766556</td>\n      <td>0.842713</td>\n      <td>0.524585</td>\n    </tr>\n    <tr>\n      <th>2017-07-31</th>\n      <td>0.267908</td>\n      <td>0.534575</td>\n      <td>0.905169</td>\n      <td>0.554602</td>\n      <td>0.400105</td>\n    </tr>\n    <tr>\n      <th>2017-08-31</th>\n      <td>0.223502</td>\n      <td>0.538916</td>\n      <td>0.820020</td>\n      <td>0.614558</td>\n      <td>0.330283</td>\n    </tr>\n    <tr>\n      <th>2017-09-30</th>\n      <td>0.157897</td>\n      <td>0.465379</td>\n      <td>0.728594</td>\n      <td>0.570448</td>\n      <td>0.261628</td>\n    </tr>\n    <tr>\n      <th>2017-10-31</th>\n      <td>0.141131</td>\n      <td>0.484865</td>\n      <td>0.451404</td>\n      <td>0.630769</td>\n      <td>0.470685</td>\n    </tr>\n    <tr>\n      <th>2017-11-30</th>\n      <td>0.161441</td>\n      <td>0.444977</td>\n      <td>0.339834</td>\n      <td>0.634935</td>\n      <td>0.517619</td>\n    </tr>\n    <tr>\n      <th>2017-12-31</th>\n      <td>0.219892</td>\n      <td>0.425728</td>\n      <td>0.070512</td>\n      <td>0.650700</td>\n      <td>0.570413</td>\n    </tr>\n    <tr>\n      <th>2018-01-31</th>\n      <td>0.247971</td>\n      <td>0.414581</td>\n      <td>0.121957</td>\n      <td>0.663665</td>\n      <td>0.735053</td>\n    </tr>\n    <tr>\n      <th>2018-02-28</th>\n      <td>0.332896</td>\n      <td>0.477389</td>\n      <td>0.186247</td>\n      <td>0.828016</td>\n      <td>0.710560</td>\n    </tr>\n    <tr>\n      <th>2018-03-31</th>\n      <td>0.404409</td>\n      <td>0.490477</td>\n      <td>0.286858</td>\n      <td>0.749099</td>\n      <td>0.726230</td>\n    </tr>\n    <tr>\n      <th>2018-04-30</th>\n      <td>0.385822</td>\n      <td>0.558594</td>\n      <td>0.419542</td>\n      <td>0.812748</td>\n      <td>0.822098</td>\n    </tr>\n    <tr>\n      <th>2018-05-31</th>\n      <td>0.478133</td>\n      <td>0.737363</td>\n      <td>0.620369</td>\n      <td>0.683518</td>\n      <td>0.684095</td>\n    </tr>\n    <tr>\n      <th>2018-06-30</th>\n      <td>0.624832</td>\n      <td>0.727375</td>\n      <td>0.760832</td>\n      <td>0.717304</td>\n      <td>0.506401</td>\n    </tr>\n    <tr>\n      <th>2018-07-31</th>\n      <td>0.439661</td>\n      <td>0.687403</td>\n      <td>0.954742</td>\n      <td>0.570593</td>\n      <td>0.344960</td>\n    </tr>\n    <tr>\n      <th>2018-08-31</th>\n      <td>0.399787</td>\n      <td>0.580269</td>\n      <td>0.856188</td>\n      <td>0.521847</td>\n      <td>0.279377</td>\n    </tr>\n    <tr>\n      <th>2018-09-30</th>\n      <td>0.317940</td>\n      <td>0.593539</td>\n      <td>0.686451</td>\n      <td>0.575257</td>\n      <td>0.328733</td>\n    </tr>\n    <tr>\n      <th>2018-10-31</th>\n      <td>0.198094</td>\n      <td>0.581284</td>\n      <td>0.467849</td>\n      <td>0.497985</td>\n      <td>0.353110</td>\n    </tr>\n    <tr>\n      <th>2018-11-30</th>\n      <td>0.231632</td>\n      <td>0.540456</td>\n      <td>0.285204</td>\n      <td>0.573983</td>\n      <td>0.579330</td>\n    </tr>\n    <tr>\n      <th>2018-12-31</th>\n      <td>0.271722</td>\n      <td>0.574928</td>\n      <td>0.070953</td>\n      <td>0.621704</td>\n      <td>0.484565</td>\n    </tr>\n    <tr>\n      <th>2019-01-31</th>\n      <td>0.377167</td>\n      <td>0.509980</td>\n      <td>0.113174</td>\n      <td>0.631040</td>\n      <td>0.618227</td>\n    </tr>\n    <tr>\n      <th>2019-02-28</th>\n      <td>0.362874</td>\n      <td>0.487201</td>\n      <td>0.171130</td>\n      <td>0.754827</td>\n      <td>0.633883</td>\n    </tr>\n    <tr>\n      <th>2019-03-31</th>\n      <td>0.314107</td>\n      <td>0.545843</td>\n      <td>0.308516</td>\n      <td>0.773618</td>\n      <td>0.590140</td>\n    </tr>\n    <tr>\n      <th>2019-04-30</th>\n      <td>0.287304</td>\n      <td>0.577330</td>\n      <td>0.448133</td>\n      <td>0.761921</td>\n      <td>0.360391</td>\n    </tr>\n    <tr>\n      <th>2019-05-31</th>\n      <td>0.279981</td>\n      <td>0.572883</td>\n      <td>0.586310</td>\n      <td>0.831332</td>\n      <td>0.622907</td>\n    </tr>\n    <tr>\n      <th>2019-06-30</th>\n      <td>0.312440</td>\n      <td>0.566338</td>\n      <td>0.759911</td>\n      <td>0.911991</td>\n      <td>0.569667</td>\n    </tr>\n    <tr>\n      <th>2019-07-31</th>\n      <td>0.361141</td>\n      <td>0.543955</td>\n      <td>0.931395</td>\n      <td>0.675434</td>\n      <td>0.405203</td>\n    </tr>\n    <tr>\n      <th>2019-08-31</th>\n      <td>0.410138</td>\n      <td>0.498470</td>\n      <td>0.862666</td>\n      <td>0.748879</td>\n      <td>0.340834</td>\n    </tr>\n    <tr>\n      <th>2019-09-30</th>\n      <td>0.336636</td>\n      <td>0.510370</td>\n      <td>0.683527</td>\n      <td>0.701970</td>\n      <td>0.325509</td>\n    </tr>\n    <tr>\n      <th>2019-10-31</th>\n      <td>0.337672</td>\n      <td>0.489135</td>\n      <td>0.462544</td>\n      <td>0.715934</td>\n      <td>0.413847</td>\n    </tr>\n    <tr>\n      <th>2019-11-30</th>\n      <td>0.292644</td>\n      <td>0.466289</td>\n      <td>0.291137</td>\n      <td>0.787080</td>\n      <td>0.558023</td>\n    </tr>\n    <tr>\n      <th>2019-12-31</th>\n      <td>0.302073</td>\n      <td>0.517959</td>\n      <td>0.083980</td>\n      <td>0.757040</td>\n      <td>0.687852</td>\n    </tr>\n    <tr>\n      <th>2020-01-31</th>\n      <td>0.338618</td>\n      <td>0.561433</td>\n      <td>0.096066</td>\n      <td>0.882930</td>\n      <td>0.679254</td>\n    </tr>\n    <tr>\n      <th>2020-02-29</th>\n      <td>0.377086</td>\n      <td>0.594490</td>\n      <td>0.136902</td>\n      <td>0.867373</td>\n      <td>0.584930</td>\n    </tr>\n    <tr>\n      <th>2020-03-31</th>\n      <td>0.331187</td>\n      <td>0.612857</td>\n      <td>0.314733</td>\n      <td>0.725081</td>\n      <td>0.550081</td>\n    </tr>\n    <tr>\n      <th>2020-04-30</th>\n      <td>0.299511</td>\n      <td>0.628881</td>\n      <td>0.428800</td>\n      <td>0.793187</td>\n      <td>0.526545</td>\n    </tr>\n    <tr>\n      <th>2020-05-31</th>\n      <td>0.281580</td>\n      <td>0.616086</td>\n      <td>0.586901</td>\n      <td>0.836532</td>\n      <td>0.420545</td>\n    </tr>\n    <tr>\n      <th>2020-06-30</th>\n      <td>0.282988</td>\n      <td>0.614438</td>\n      <td>0.823557</td>\n      <td>0.830610</td>\n      <td>0.373806</td>\n    </tr>\n  </tbody>\n</table>\n</div>"
     },
     "execution_count": 25,
     "metadata": {},
     "output_type": "execute_result"
    }
   ],
   "source": [
    "preds"
   ],
   "metadata": {
    "collapsed": false,
    "pycharm": {
     "name": "#%%\n"
    }
   }
  },
  {
   "cell_type": "code",
   "execution_count": 26,
   "outputs": [],
   "source": [
    "loaded_scaler = joblib.load('files/scaler_m.joblib')"
   ],
   "metadata": {
    "collapsed": false,
    "pycharm": {
     "name": "#%%\n"
    }
   }
  },
  {
   "cell_type": "code",
   "execution_count": 27,
   "outputs": [
    {
     "data": {
      "text/plain": "              Rainfall  Depth_to_Groundwater  Temperature  Drainage_Volume  \\\n2017-02-28   82.891613            -23.780116     8.461334   -742183.096061   \n2017-03-31   62.933036            -23.036163    10.528584   -711856.453853   \n2017-04-30   60.287707            -23.340725    14.634293   -736825.182106   \n2017-05-31   57.067581            -22.892219    17.539692   -726321.128604   \n2017-06-30   56.717387            -23.453630    22.851776   -767007.291858   \n2017-07-31   51.277550            -25.960468    26.404741   -917422.477101   \n2017-08-31   42.778321            -25.898544    24.222182   -886121.210153   \n2017-09-30   30.221522            -26.947630    21.878727   -909149.502467   \n2017-10-31   27.012551            -26.669637    14.773732   -877657.909451   \n2017-11-30   30.899794            -27.238681    11.913935   -875482.658033   \n2017-12-31   42.087340            -27.513293     5.010596   -867252.533854   \n2018-01-31   47.461711            -27.672311     6.329267   -860483.499771   \n2018-02-28   63.716231            -26.776286     7.977145   -774680.106736   \n2018-03-31   77.403839            -26.589583    10.556056   -815880.925898   \n2018-04-30   73.846330            -25.617812    13.957025   -782651.331855   \n2018-05-31   91.514608            -23.067478    19.104679   -850118.624727   \n2018-06-30  119.592839            -23.209967    22.705057   -832480.188703   \n2018-07-31   84.151100            -23.780204    27.675412   -909074.146140   \n2018-08-31   76.519307            -25.308594    25.149268   -934523.260731   \n2018-09-30   60.853674            -25.119281    20.798512   -906639.164385   \n2018-10-31   37.915143            -25.294118    15.195244   -946980.754422   \n2018-11-30   44.334445            -25.876566    10.513646   -907304.197321   \n2018-12-31   52.007517            -25.384795     5.021901   -882390.091458   \n2019-01-31   72.189859            -26.311340     6.104121   -877516.382567   \n2019-02-28   69.454003            -26.636314     7.589684   -812890.251166   \n2019-03-31   60.120115            -25.799718    11.111176   -803080.198240   \n2019-04-30   54.989962            -25.350528    14.689896   -809186.827335   \n2019-05-31   53.588381            -25.413969    18.231686   -772949.324626   \n2019-06-30   59.801042            -25.507333    22.681467   -730839.096707   \n2019-07-31   69.122325            -25.826652    27.076978   -854339.264142   \n2019-08-31   78.500328            -26.475542    25.315309   -815995.757113   \n2019-09-30   64.432179            -26.305776    20.723579   -840485.459810   \n2019-10-31   64.630349            -26.608716    15.059277   -833195.302788   \n2019-11-30   56.012152            -26.934643    10.665726   -796051.637670   \n2019-12-31   57.816684            -26.197518     5.355830   -811734.846279   \n2020-01-31   64.811526            -25.577306     5.665607   -746011.020454   \n2020-02-29   72.174212            -25.105710     6.712339   -754132.888706   \n2020-03-31   63.389179            -24.843685    11.270552   -828419.837014   \n2020-04-30   57.326371            -24.615085    14.194325   -792863.689349   \n2020-05-31   53.894439            -24.797624    18.246834   -770234.113669   \n2020-06-30   54.163924            -24.821132    24.312856   -773325.780911   \n\n            River_Hydrometry  \n2017-02-28          3.033868  \n2017-03-31          2.888579  \n2017-04-30          2.769082  \n2017-05-31          2.677316  \n2017-06-30          2.569203  \n2017-07-31          2.392214  \n2017-08-31          2.292938  \n2017-09-30          2.195323  \n2017-10-31          2.492566  \n2017-11-30          2.559299  \n2017-12-31          2.634362  \n2018-01-31          2.868452  \n2018-02-28          2.833627  \n2018-03-31          2.855908  \n2018-04-30          2.992215  \n2018-05-31          2.795999  \n2018-06-30          2.543348  \n2018-07-31          2.313808  \n2018-08-31          2.220559  \n2018-09-30          2.290736  \n2018-10-31          2.325396  \n2018-11-30          2.647041  \n2018-12-31          2.512301  \n2019-01-31          2.702345  \n2019-02-28          2.724606  \n2019-03-31          2.662411  \n2019-04-30          2.335747  \n2019-05-31          2.708999  \n2019-06-30          2.633301  \n2019-07-31          2.399462  \n2019-08-31          2.307941  \n2019-09-30          2.286151  \n2019-10-31          2.411753  \n2019-11-30          2.616746  \n2019-12-31          2.801341  \n2020-01-31          2.789116  \n2020-02-29          2.655003  \n2020-03-31          2.605454  \n2020-04-30          2.571990  \n2020-05-31          2.421276  \n2020-06-30          2.354821  ",
      "text/html": "<div>\n<style scoped>\n    .dataframe tbody tr th:only-of-type {\n        vertical-align: middle;\n    }\n\n    .dataframe tbody tr th {\n        vertical-align: top;\n    }\n\n    .dataframe thead th {\n        text-align: right;\n    }\n</style>\n<table border=\"1\" class=\"dataframe\">\n  <thead>\n    <tr style=\"text-align: right;\">\n      <th></th>\n      <th>Rainfall</th>\n      <th>Depth_to_Groundwater</th>\n      <th>Temperature</th>\n      <th>Drainage_Volume</th>\n      <th>River_Hydrometry</th>\n    </tr>\n  </thead>\n  <tbody>\n    <tr>\n      <th>2017-02-28</th>\n      <td>82.891613</td>\n      <td>-23.780116</td>\n      <td>8.461334</td>\n      <td>-742183.096061</td>\n      <td>3.033868</td>\n    </tr>\n    <tr>\n      <th>2017-03-31</th>\n      <td>62.933036</td>\n      <td>-23.036163</td>\n      <td>10.528584</td>\n      <td>-711856.453853</td>\n      <td>2.888579</td>\n    </tr>\n    <tr>\n      <th>2017-04-30</th>\n      <td>60.287707</td>\n      <td>-23.340725</td>\n      <td>14.634293</td>\n      <td>-736825.182106</td>\n      <td>2.769082</td>\n    </tr>\n    <tr>\n      <th>2017-05-31</th>\n      <td>57.067581</td>\n      <td>-22.892219</td>\n      <td>17.539692</td>\n      <td>-726321.128604</td>\n      <td>2.677316</td>\n    </tr>\n    <tr>\n      <th>2017-06-30</th>\n      <td>56.717387</td>\n      <td>-23.453630</td>\n      <td>22.851776</td>\n      <td>-767007.291858</td>\n      <td>2.569203</td>\n    </tr>\n    <tr>\n      <th>2017-07-31</th>\n      <td>51.277550</td>\n      <td>-25.960468</td>\n      <td>26.404741</td>\n      <td>-917422.477101</td>\n      <td>2.392214</td>\n    </tr>\n    <tr>\n      <th>2017-08-31</th>\n      <td>42.778321</td>\n      <td>-25.898544</td>\n      <td>24.222182</td>\n      <td>-886121.210153</td>\n      <td>2.292938</td>\n    </tr>\n    <tr>\n      <th>2017-09-30</th>\n      <td>30.221522</td>\n      <td>-26.947630</td>\n      <td>21.878727</td>\n      <td>-909149.502467</td>\n      <td>2.195323</td>\n    </tr>\n    <tr>\n      <th>2017-10-31</th>\n      <td>27.012551</td>\n      <td>-26.669637</td>\n      <td>14.773732</td>\n      <td>-877657.909451</td>\n      <td>2.492566</td>\n    </tr>\n    <tr>\n      <th>2017-11-30</th>\n      <td>30.899794</td>\n      <td>-27.238681</td>\n      <td>11.913935</td>\n      <td>-875482.658033</td>\n      <td>2.559299</td>\n    </tr>\n    <tr>\n      <th>2017-12-31</th>\n      <td>42.087340</td>\n      <td>-27.513293</td>\n      <td>5.010596</td>\n      <td>-867252.533854</td>\n      <td>2.634362</td>\n    </tr>\n    <tr>\n      <th>2018-01-31</th>\n      <td>47.461711</td>\n      <td>-27.672311</td>\n      <td>6.329267</td>\n      <td>-860483.499771</td>\n      <td>2.868452</td>\n    </tr>\n    <tr>\n      <th>2018-02-28</th>\n      <td>63.716231</td>\n      <td>-26.776286</td>\n      <td>7.977145</td>\n      <td>-774680.106736</td>\n      <td>2.833627</td>\n    </tr>\n    <tr>\n      <th>2018-03-31</th>\n      <td>77.403839</td>\n      <td>-26.589583</td>\n      <td>10.556056</td>\n      <td>-815880.925898</td>\n      <td>2.855908</td>\n    </tr>\n    <tr>\n      <th>2018-04-30</th>\n      <td>73.846330</td>\n      <td>-25.617812</td>\n      <td>13.957025</td>\n      <td>-782651.331855</td>\n      <td>2.992215</td>\n    </tr>\n    <tr>\n      <th>2018-05-31</th>\n      <td>91.514608</td>\n      <td>-23.067478</td>\n      <td>19.104679</td>\n      <td>-850118.624727</td>\n      <td>2.795999</td>\n    </tr>\n    <tr>\n      <th>2018-06-30</th>\n      <td>119.592839</td>\n      <td>-23.209967</td>\n      <td>22.705057</td>\n      <td>-832480.188703</td>\n      <td>2.543348</td>\n    </tr>\n    <tr>\n      <th>2018-07-31</th>\n      <td>84.151100</td>\n      <td>-23.780204</td>\n      <td>27.675412</td>\n      <td>-909074.146140</td>\n      <td>2.313808</td>\n    </tr>\n    <tr>\n      <th>2018-08-31</th>\n      <td>76.519307</td>\n      <td>-25.308594</td>\n      <td>25.149268</td>\n      <td>-934523.260731</td>\n      <td>2.220559</td>\n    </tr>\n    <tr>\n      <th>2018-09-30</th>\n      <td>60.853674</td>\n      <td>-25.119281</td>\n      <td>20.798512</td>\n      <td>-906639.164385</td>\n      <td>2.290736</td>\n    </tr>\n    <tr>\n      <th>2018-10-31</th>\n      <td>37.915143</td>\n      <td>-25.294118</td>\n      <td>15.195244</td>\n      <td>-946980.754422</td>\n      <td>2.325396</td>\n    </tr>\n    <tr>\n      <th>2018-11-30</th>\n      <td>44.334445</td>\n      <td>-25.876566</td>\n      <td>10.513646</td>\n      <td>-907304.197321</td>\n      <td>2.647041</td>\n    </tr>\n    <tr>\n      <th>2018-12-31</th>\n      <td>52.007517</td>\n      <td>-25.384795</td>\n      <td>5.021901</td>\n      <td>-882390.091458</td>\n      <td>2.512301</td>\n    </tr>\n    <tr>\n      <th>2019-01-31</th>\n      <td>72.189859</td>\n      <td>-26.311340</td>\n      <td>6.104121</td>\n      <td>-877516.382567</td>\n      <td>2.702345</td>\n    </tr>\n    <tr>\n      <th>2019-02-28</th>\n      <td>69.454003</td>\n      <td>-26.636314</td>\n      <td>7.589684</td>\n      <td>-812890.251166</td>\n      <td>2.724606</td>\n    </tr>\n    <tr>\n      <th>2019-03-31</th>\n      <td>60.120115</td>\n      <td>-25.799718</td>\n      <td>11.111176</td>\n      <td>-803080.198240</td>\n      <td>2.662411</td>\n    </tr>\n    <tr>\n      <th>2019-04-30</th>\n      <td>54.989962</td>\n      <td>-25.350528</td>\n      <td>14.689896</td>\n      <td>-809186.827335</td>\n      <td>2.335747</td>\n    </tr>\n    <tr>\n      <th>2019-05-31</th>\n      <td>53.588381</td>\n      <td>-25.413969</td>\n      <td>18.231686</td>\n      <td>-772949.324626</td>\n      <td>2.708999</td>\n    </tr>\n    <tr>\n      <th>2019-06-30</th>\n      <td>59.801042</td>\n      <td>-25.507333</td>\n      <td>22.681467</td>\n      <td>-730839.096707</td>\n      <td>2.633301</td>\n    </tr>\n    <tr>\n      <th>2019-07-31</th>\n      <td>69.122325</td>\n      <td>-25.826652</td>\n      <td>27.076978</td>\n      <td>-854339.264142</td>\n      <td>2.399462</td>\n    </tr>\n    <tr>\n      <th>2019-08-31</th>\n      <td>78.500328</td>\n      <td>-26.475542</td>\n      <td>25.315309</td>\n      <td>-815995.757113</td>\n      <td>2.307941</td>\n    </tr>\n    <tr>\n      <th>2019-09-30</th>\n      <td>64.432179</td>\n      <td>-26.305776</td>\n      <td>20.723579</td>\n      <td>-840485.459810</td>\n      <td>2.286151</td>\n    </tr>\n    <tr>\n      <th>2019-10-31</th>\n      <td>64.630349</td>\n      <td>-26.608716</td>\n      <td>15.059277</td>\n      <td>-833195.302788</td>\n      <td>2.411753</td>\n    </tr>\n    <tr>\n      <th>2019-11-30</th>\n      <td>56.012152</td>\n      <td>-26.934643</td>\n      <td>10.665726</td>\n      <td>-796051.637670</td>\n      <td>2.616746</td>\n    </tr>\n    <tr>\n      <th>2019-12-31</th>\n      <td>57.816684</td>\n      <td>-26.197518</td>\n      <td>5.355830</td>\n      <td>-811734.846279</td>\n      <td>2.801341</td>\n    </tr>\n    <tr>\n      <th>2020-01-31</th>\n      <td>64.811526</td>\n      <td>-25.577306</td>\n      <td>5.665607</td>\n      <td>-746011.020454</td>\n      <td>2.789116</td>\n    </tr>\n    <tr>\n      <th>2020-02-29</th>\n      <td>72.174212</td>\n      <td>-25.105710</td>\n      <td>6.712339</td>\n      <td>-754132.888706</td>\n      <td>2.655003</td>\n    </tr>\n    <tr>\n      <th>2020-03-31</th>\n      <td>63.389179</td>\n      <td>-24.843685</td>\n      <td>11.270552</td>\n      <td>-828419.837014</td>\n      <td>2.605454</td>\n    </tr>\n    <tr>\n      <th>2020-04-30</th>\n      <td>57.326371</td>\n      <td>-24.615085</td>\n      <td>14.194325</td>\n      <td>-792863.689349</td>\n      <td>2.571990</td>\n    </tr>\n    <tr>\n      <th>2020-05-31</th>\n      <td>53.894439</td>\n      <td>-24.797624</td>\n      <td>18.246834</td>\n      <td>-770234.113669</td>\n      <td>2.421276</td>\n    </tr>\n    <tr>\n      <th>2020-06-30</th>\n      <td>54.163924</td>\n      <td>-24.821132</td>\n      <td>24.312856</td>\n      <td>-773325.780911</td>\n      <td>2.354821</td>\n    </tr>\n  </tbody>\n</table>\n</div>"
     },
     "execution_count": 27,
     "metadata": {},
     "output_type": "execute_result"
    }
   ],
   "source": [
    "unscaled_values = loaded_scaler.inverse_transform(preds.values)\n",
    "unscaled_df = pd.DataFrame(unscaled_values, columns=df.columns, index=preds.index)\n",
    "unscaled_df"
   ],
   "metadata": {
    "collapsed": false,
    "pycharm": {
     "name": "#%%\n"
    }
   }
  },
  {
   "cell_type": "code",
   "execution_count": 28,
   "outputs": [],
   "source": [
    "preds = unscaled_df"
   ],
   "metadata": {
    "collapsed": false,
    "pycharm": {
     "name": "#%%\n"
    }
   }
  },
  {
   "cell_type": "code",
   "execution_count": 29,
   "outputs": [],
   "source": [
    "metrics = {}\n",
    "def calc_metrics(name):\n",
    "\n",
    "    results = pd.DataFrame(data={'Predictions':preds[name], 'Actuals':df[name]}, index=df.index)\n",
    "\n",
    "    # Step 2: Calculate the differences between the predicted and actual values\n",
    "    results['Difference'] = results['Actuals'] - results['Predictions']\n",
    "\n",
    "    # Step 3: Calculate squared differences for RMSE\n",
    "    results['Squared_difference'] = results['Difference'] ** 2\n",
    "\n",
    "    # Step 4: Calculate absolute differences for MAE and MAPE\n",
    "    results['Absolute_difference'] = np.abs(results['Difference'])\n",
    "    results['Absolute_percentage_difference'] = np.abs(results['Difference'] / results['Actuals'])\n",
    "\n",
    "    # Step 5: Compute the metrics\n",
    "    rmse = np.sqrt(results['Squared_difference'].mean())\n",
    "    mae = results['Absolute_difference'].mean()\n",
    "    mape = results['Absolute_percentage_difference'].mean() * 100  # to get the percentage\n",
    "    return rmse, mae, mape\n",
    "\n",
    "for column in df.columns:\n",
    "\n",
    "    rmse, mae, mape = calc_metrics(column)\n",
    "    metrics[column] = {\n",
    "        'RMSE': rmse,\n",
    "        'MAE': mae,\n",
    "        'MAPE': mape\n",
    "    }\n",
    "metrics_df = pd.DataFrame(metrics)"
   ],
   "metadata": {
    "collapsed": false,
    "pycharm": {
     "name": "#%%\n"
    }
   }
  },
  {
   "cell_type": "code",
   "execution_count": 30,
   "outputs": [
    {
     "data": {
      "text/plain": "        Rainfall  Depth_to_Groundwater  Temperature  Drainage_Volume  \\\nRMSE   45.381322              0.365781     1.688256     51803.978534   \nMAE    36.681796              0.277915     1.325480     39867.201588   \nMAPE  116.932364              1.103021    11.457643         4.905666   \n\n      River_Hydrometry  \nRMSE          0.157620  \nMAE           0.130024  \nMAPE          5.101857  ",
      "text/html": "<div>\n<style scoped>\n    .dataframe tbody tr th:only-of-type {\n        vertical-align: middle;\n    }\n\n    .dataframe tbody tr th {\n        vertical-align: top;\n    }\n\n    .dataframe thead th {\n        text-align: right;\n    }\n</style>\n<table border=\"1\" class=\"dataframe\">\n  <thead>\n    <tr style=\"text-align: right;\">\n      <th></th>\n      <th>Rainfall</th>\n      <th>Depth_to_Groundwater</th>\n      <th>Temperature</th>\n      <th>Drainage_Volume</th>\n      <th>River_Hydrometry</th>\n    </tr>\n  </thead>\n  <tbody>\n    <tr>\n      <th>RMSE</th>\n      <td>45.381322</td>\n      <td>0.365781</td>\n      <td>1.688256</td>\n      <td>51803.978534</td>\n      <td>0.157620</td>\n    </tr>\n    <tr>\n      <th>MAE</th>\n      <td>36.681796</td>\n      <td>0.277915</td>\n      <td>1.325480</td>\n      <td>39867.201588</td>\n      <td>0.130024</td>\n    </tr>\n    <tr>\n      <th>MAPE</th>\n      <td>116.932364</td>\n      <td>1.103021</td>\n      <td>11.457643</td>\n      <td>4.905666</td>\n      <td>5.101857</td>\n    </tr>\n  </tbody>\n</table>\n</div>"
     },
     "execution_count": 30,
     "metadata": {},
     "output_type": "execute_result"
    }
   ],
   "source": [
    "metrics_df"
   ],
   "metadata": {
    "collapsed": false,
    "pycharm": {
     "name": "#%%\n"
    }
   }
  },
  {
   "cell_type": "code",
   "execution_count": 31,
   "outputs": [],
   "source": [
    "metrics_df.to_csv('metrics/'+model+'/'+str(num+3)+'.csv')"
   ],
   "metadata": {
    "collapsed": false,
    "pycharm": {
     "name": "#%%\n"
    }
   }
  }
 ],
 "metadata": {
  "kernelspec": {
   "display_name": "Python 3",
   "language": "python",
   "name": "python3"
  },
  "language_info": {
   "codemirror_mode": {
    "name": "ipython",
    "version": 2
   },
   "file_extension": ".py",
   "mimetype": "text/x-python",
   "name": "python",
   "nbconvert_exporter": "python",
   "pygments_lexer": "ipython2",
   "version": "2.7.6"
  }
 },
 "nbformat": 4,
 "nbformat_minor": 0
}