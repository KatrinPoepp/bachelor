{
 "cells": [
  {
   "cell_type": "code",
   "execution_count": 1,
   "outputs": [],
   "source": [
    "import numpy as np  # linear algebra\n",
    "import pandas as pd  # data processing, CSV file I/O (e.g. pd.read_csv)\n",
    "import joblib\n",
    "import warnings  # Supress warnings\n",
    "import os\n",
    "import random"
   ],
   "metadata": {
    "collapsed": false,
    "pycharm": {
     "name": "#%%\n"
    }
   }
  },
  {
   "cell_type": "code",
   "execution_count": 73,
   "outputs": [],
   "source": [
    "model = 'RNN'\n",
    "num = 4"
   ],
   "metadata": {
    "collapsed": false,
    "pycharm": {
     "name": "#%%\n"
    }
   }
  },
  {
   "cell_type": "code",
   "execution_count": 74,
   "outputs": [],
   "source": [
    "df = pd.read_csv(\"./files/interpolated_data.csv\", index_col=0)\n",
    "df.index = pd.to_datetime(df.index, format='%Y-%m-%d')\n",
    "preds = pd.read_csv(\"./predictions/\"+model+\"/\"+str(num)+\".csv\", index_col=0)\n",
    "preds.index = pd.to_datetime(preds.index, format='%Y-%m-%d')"
   ],
   "metadata": {
    "collapsed": false,
    "pycharm": {
     "name": "#%%\n"
    }
   }
  },
  {
   "cell_type": "code",
   "execution_count": 75,
   "outputs": [
    {
     "data": {
      "text/plain": "            Rainfall  Depth_to_Groundwater  Temperature  Drainage_Volume  \\\nDate                                                                       \n2009-01-01       0.0                -31.14          5.2       -24530.688   \n2009-01-02       0.0                -31.11          2.3       -28785.888   \n2009-01-03       0.0                -31.07          4.4       -25766.208   \n2009-01-04       0.0                -31.05          0.8       -27919.296   \n2009-01-05       0.0                -31.01         -1.9       -29854.656   \n...              ...                   ...          ...              ...   \n2020-06-26       0.0                -25.07         25.7       -29930.688   \n2020-06-27       0.0                -25.11         26.2       -31332.960   \n2020-06-28       0.0                -25.19         26.9       -32120.928   \n2020-06-29       0.0                -25.18         26.9       -30602.880   \n2020-06-30       0.0                -25.25         27.3       -31878.144   \n\n            River_Hydrometry  \nDate                          \n2009-01-01               2.4  \n2009-01-02               2.5  \n2009-01-03               2.4  \n2009-01-04               2.4  \n2009-01-05               2.3  \n...                      ...  \n2020-06-26               2.5  \n2020-06-27               2.4  \n2020-06-28               2.4  \n2020-06-29               2.4  \n2020-06-30               2.4  \n\n[4199 rows x 5 columns]",
      "text/html": "<div>\n<style scoped>\n    .dataframe tbody tr th:only-of-type {\n        vertical-align: middle;\n    }\n\n    .dataframe tbody tr th {\n        vertical-align: top;\n    }\n\n    .dataframe thead th {\n        text-align: right;\n    }\n</style>\n<table border=\"1\" class=\"dataframe\">\n  <thead>\n    <tr style=\"text-align: right;\">\n      <th></th>\n      <th>Rainfall</th>\n      <th>Depth_to_Groundwater</th>\n      <th>Temperature</th>\n      <th>Drainage_Volume</th>\n      <th>River_Hydrometry</th>\n    </tr>\n    <tr>\n      <th>Date</th>\n      <th></th>\n      <th></th>\n      <th></th>\n      <th></th>\n      <th></th>\n    </tr>\n  </thead>\n  <tbody>\n    <tr>\n      <th>2009-01-01</th>\n      <td>0.0</td>\n      <td>-31.14</td>\n      <td>5.2</td>\n      <td>-24530.688</td>\n      <td>2.4</td>\n    </tr>\n    <tr>\n      <th>2009-01-02</th>\n      <td>0.0</td>\n      <td>-31.11</td>\n      <td>2.3</td>\n      <td>-28785.888</td>\n      <td>2.5</td>\n    </tr>\n    <tr>\n      <th>2009-01-03</th>\n      <td>0.0</td>\n      <td>-31.07</td>\n      <td>4.4</td>\n      <td>-25766.208</td>\n      <td>2.4</td>\n    </tr>\n    <tr>\n      <th>2009-01-04</th>\n      <td>0.0</td>\n      <td>-31.05</td>\n      <td>0.8</td>\n      <td>-27919.296</td>\n      <td>2.4</td>\n    </tr>\n    <tr>\n      <th>2009-01-05</th>\n      <td>0.0</td>\n      <td>-31.01</td>\n      <td>-1.9</td>\n      <td>-29854.656</td>\n      <td>2.3</td>\n    </tr>\n    <tr>\n      <th>...</th>\n      <td>...</td>\n      <td>...</td>\n      <td>...</td>\n      <td>...</td>\n      <td>...</td>\n    </tr>\n    <tr>\n      <th>2020-06-26</th>\n      <td>0.0</td>\n      <td>-25.07</td>\n      <td>25.7</td>\n      <td>-29930.688</td>\n      <td>2.5</td>\n    </tr>\n    <tr>\n      <th>2020-06-27</th>\n      <td>0.0</td>\n      <td>-25.11</td>\n      <td>26.2</td>\n      <td>-31332.960</td>\n      <td>2.4</td>\n    </tr>\n    <tr>\n      <th>2020-06-28</th>\n      <td>0.0</td>\n      <td>-25.19</td>\n      <td>26.9</td>\n      <td>-32120.928</td>\n      <td>2.4</td>\n    </tr>\n    <tr>\n      <th>2020-06-29</th>\n      <td>0.0</td>\n      <td>-25.18</td>\n      <td>26.9</td>\n      <td>-30602.880</td>\n      <td>2.4</td>\n    </tr>\n    <tr>\n      <th>2020-06-30</th>\n      <td>0.0</td>\n      <td>-25.25</td>\n      <td>27.3</td>\n      <td>-31878.144</td>\n      <td>2.4</td>\n    </tr>\n  </tbody>\n</table>\n<p>4199 rows × 5 columns</p>\n</div>"
     },
     "execution_count": 75,
     "metadata": {},
     "output_type": "execute_result"
    }
   ],
   "source": [
    "df"
   ],
   "metadata": {
    "collapsed": false,
    "pycharm": {
     "name": "#%%\n"
    }
   }
  },
  {
   "cell_type": "code",
   "execution_count": 76,
   "outputs": [],
   "source": [
    "loaded_scaler = joblib.load('files/scaler.joblib')"
   ],
   "metadata": {
    "collapsed": false,
    "pycharm": {
     "name": "#%%\n"
    }
   }
  },
  {
   "cell_type": "code",
   "execution_count": 77,
   "outputs": [
    {
     "data": {
      "text/plain": "            Rainfall  Depth_to_Groundwater  Temperature  Drainage_Volume  \\\nDate                                                                       \n2017-01-19  1.039279            -23.711855     5.425251    -25879.230421   \n2017-01-20  1.039279            -23.664973     5.039147    -25972.564849   \n2017-01-21  1.039279            -23.630847     3.019989    -27173.390417   \n2017-01-22  1.039279            -23.627182     3.555414    -27720.273105   \n2017-01-23  1.039279            -23.638621     4.963174    -27137.703428   \n...              ...                   ...          ...              ...   \n2020-06-26  1.039279            -24.836473    24.633385    -29939.983392   \n2020-06-27  1.039279            -24.898896    25.204965    -29355.983404   \n2020-06-28  1.039279            -24.957976    25.715289    -30631.104020   \n2020-06-29  1.039279            -25.021745    26.412992    -31233.643542   \n2020-06-30  1.039279            -25.075348    26.429347    -30372.408154   \n\n            River_Hydrometry  \nDate                          \n2017-01-19          2.831420  \n2017-01-20          2.922785  \n2017-01-21          2.891880  \n2017-01-22          2.902544  \n2017-01-23          2.899976  \n...                      ...  \n2020-06-26          2.542913  \n2020-06-27          2.541782  \n2020-06-28          2.425451  \n2020-06-29          2.455907  \n2020-06-30          2.444598  \n\n[1259 rows x 5 columns]",
      "text/html": "<div>\n<style scoped>\n    .dataframe tbody tr th:only-of-type {\n        vertical-align: middle;\n    }\n\n    .dataframe tbody tr th {\n        vertical-align: top;\n    }\n\n    .dataframe thead th {\n        text-align: right;\n    }\n</style>\n<table border=\"1\" class=\"dataframe\">\n  <thead>\n    <tr style=\"text-align: right;\">\n      <th></th>\n      <th>Rainfall</th>\n      <th>Depth_to_Groundwater</th>\n      <th>Temperature</th>\n      <th>Drainage_Volume</th>\n      <th>River_Hydrometry</th>\n    </tr>\n    <tr>\n      <th>Date</th>\n      <th></th>\n      <th></th>\n      <th></th>\n      <th></th>\n      <th></th>\n    </tr>\n  </thead>\n  <tbody>\n    <tr>\n      <th>2017-01-19</th>\n      <td>1.039279</td>\n      <td>-23.711855</td>\n      <td>5.425251</td>\n      <td>-25879.230421</td>\n      <td>2.831420</td>\n    </tr>\n    <tr>\n      <th>2017-01-20</th>\n      <td>1.039279</td>\n      <td>-23.664973</td>\n      <td>5.039147</td>\n      <td>-25972.564849</td>\n      <td>2.922785</td>\n    </tr>\n    <tr>\n      <th>2017-01-21</th>\n      <td>1.039279</td>\n      <td>-23.630847</td>\n      <td>3.019989</td>\n      <td>-27173.390417</td>\n      <td>2.891880</td>\n    </tr>\n    <tr>\n      <th>2017-01-22</th>\n      <td>1.039279</td>\n      <td>-23.627182</td>\n      <td>3.555414</td>\n      <td>-27720.273105</td>\n      <td>2.902544</td>\n    </tr>\n    <tr>\n      <th>2017-01-23</th>\n      <td>1.039279</td>\n      <td>-23.638621</td>\n      <td>4.963174</td>\n      <td>-27137.703428</td>\n      <td>2.899976</td>\n    </tr>\n    <tr>\n      <th>...</th>\n      <td>...</td>\n      <td>...</td>\n      <td>...</td>\n      <td>...</td>\n      <td>...</td>\n    </tr>\n    <tr>\n      <th>2020-06-26</th>\n      <td>1.039279</td>\n      <td>-24.836473</td>\n      <td>24.633385</td>\n      <td>-29939.983392</td>\n      <td>2.542913</td>\n    </tr>\n    <tr>\n      <th>2020-06-27</th>\n      <td>1.039279</td>\n      <td>-24.898896</td>\n      <td>25.204965</td>\n      <td>-29355.983404</td>\n      <td>2.541782</td>\n    </tr>\n    <tr>\n      <th>2020-06-28</th>\n      <td>1.039279</td>\n      <td>-24.957976</td>\n      <td>25.715289</td>\n      <td>-30631.104020</td>\n      <td>2.425451</td>\n    </tr>\n    <tr>\n      <th>2020-06-29</th>\n      <td>1.039279</td>\n      <td>-25.021745</td>\n      <td>26.412992</td>\n      <td>-31233.643542</td>\n      <td>2.455907</td>\n    </tr>\n    <tr>\n      <th>2020-06-30</th>\n      <td>1.039279</td>\n      <td>-25.075348</td>\n      <td>26.429347</td>\n      <td>-30372.408154</td>\n      <td>2.444598</td>\n    </tr>\n  </tbody>\n</table>\n<p>1259 rows × 5 columns</p>\n</div>"
     },
     "execution_count": 77,
     "metadata": {},
     "output_type": "execute_result"
    }
   ],
   "source": [
    "unscaled_values = loaded_scaler.inverse_transform(preds.values)\n",
    "unscaled_df = pd.DataFrame(unscaled_values, columns=df.columns, index=preds.index)\n",
    "unscaled_df"
   ],
   "metadata": {
    "collapsed": false,
    "pycharm": {
     "name": "#%%\n"
    }
   }
  },
  {
   "cell_type": "code",
   "execution_count": 78,
   "outputs": [],
   "source": [
    "preds = unscaled_df"
   ],
   "metadata": {
    "collapsed": false,
    "pycharm": {
     "name": "#%%\n"
    }
   }
  },
  {
   "cell_type": "code",
   "execution_count": 79,
   "outputs": [],
   "source": [
    "metrics = {}\n",
    "def calc_metrics(name):\n",
    "\n",
    "    results = pd.DataFrame(data={'Predictions':preds[name], 'Actuals':df[name]}, index=df.index)\n",
    "\n",
    "    # Step 2: Calculate the differences between the predicted and actual values\n",
    "    results['Difference'] = results['Actuals'] - results['Predictions']\n",
    "\n",
    "    # Step 3: Calculate squared differences for RMSE\n",
    "    results['Squared_difference'] = results['Difference'] ** 2\n",
    "\n",
    "    # Step 4: Calculate absolute differences for MAE and MAPE\n",
    "    results['Absolute_difference'] = np.abs(results['Difference'])\n",
    "    results['Absolute_percentage_difference'] = np.abs(results['Difference'] / results['Actuals'])\n",
    "\n",
    "    # Step 5: Compute the metrics\n",
    "    rmse = np.sqrt(results['Squared_difference'].mean())\n",
    "    mae = results['Absolute_difference'].mean()\n",
    "    mape = results['Absolute_percentage_difference'].mean() * 100  # to get the percentage\n",
    "    return rmse, mae, mape\n",
    "\n",
    "for column in df.columns:\n",
    "\n",
    "    rmse, mae, mape = calc_metrics(column)\n",
    "    metrics[column] = {\n",
    "        'RMSE': rmse,\n",
    "        'MAE': mae,\n",
    "        'MAPE': mape\n",
    "    }\n",
    "metrics_df = pd.DataFrame(metrics)"
   ],
   "metadata": {
    "collapsed": false,
    "pycharm": {
     "name": "#%%\n"
    }
   }
  },
  {
   "cell_type": "code",
   "execution_count": 80,
   "outputs": [
    {
     "data": {
      "text/plain": "      Rainfall  Depth_to_Groundwater  Temperature  Drainage_Volume  \\\nRMSE  5.582636              0.121243     2.048895      1612.655910   \nMAE   2.450916              0.092808     1.529424      1204.664770   \nMAPE       inf              0.367783          inf         4.559757   \n\n      River_Hydrometry  \nRMSE          0.102213  \nMAE           0.067446  \nMAPE          2.552060  ",
      "text/html": "<div>\n<style scoped>\n    .dataframe tbody tr th:only-of-type {\n        vertical-align: middle;\n    }\n\n    .dataframe tbody tr th {\n        vertical-align: top;\n    }\n\n    .dataframe thead th {\n        text-align: right;\n    }\n</style>\n<table border=\"1\" class=\"dataframe\">\n  <thead>\n    <tr style=\"text-align: right;\">\n      <th></th>\n      <th>Rainfall</th>\n      <th>Depth_to_Groundwater</th>\n      <th>Temperature</th>\n      <th>Drainage_Volume</th>\n      <th>River_Hydrometry</th>\n    </tr>\n  </thead>\n  <tbody>\n    <tr>\n      <th>RMSE</th>\n      <td>5.582636</td>\n      <td>0.121243</td>\n      <td>2.048895</td>\n      <td>1612.655910</td>\n      <td>0.102213</td>\n    </tr>\n    <tr>\n      <th>MAE</th>\n      <td>2.450916</td>\n      <td>0.092808</td>\n      <td>1.529424</td>\n      <td>1204.664770</td>\n      <td>0.067446</td>\n    </tr>\n    <tr>\n      <th>MAPE</th>\n      <td>inf</td>\n      <td>0.367783</td>\n      <td>inf</td>\n      <td>4.559757</td>\n      <td>2.552060</td>\n    </tr>\n  </tbody>\n</table>\n</div>"
     },
     "execution_count": 80,
     "metadata": {},
     "output_type": "execute_result"
    }
   ],
   "source": [
    "metrics_df"
   ],
   "metadata": {
    "collapsed": false,
    "pycharm": {
     "name": "#%%\n"
    }
   }
  },
  {
   "cell_type": "code",
   "execution_count": 81,
   "outputs": [],
   "source": [
    "metrics_df.to_csv('metrics/'+model+'/'+str(num+3)+'.csv')"
   ],
   "metadata": {
    "collapsed": false,
    "pycharm": {
     "name": "#%%\n"
    }
   }
  },
  {
   "cell_type": "code",
   "execution_count": null,
   "outputs": [],
   "source": [],
   "metadata": {
    "collapsed": false,
    "pycharm": {
     "name": "#%%\n"
    }
   }
  }
 ],
 "metadata": {
  "kernelspec": {
   "display_name": "Python 3",
   "language": "python",
   "name": "python3"
  },
  "language_info": {
   "codemirror_mode": {
    "name": "ipython",
    "version": 2
   },
   "file_extension": ".py",
   "mimetype": "text/x-python",
   "name": "python",
   "nbconvert_exporter": "python",
   "pygments_lexer": "ipython2",
   "version": "2.7.6"
  }
 },
 "nbformat": 4,
 "nbformat_minor": 0
}